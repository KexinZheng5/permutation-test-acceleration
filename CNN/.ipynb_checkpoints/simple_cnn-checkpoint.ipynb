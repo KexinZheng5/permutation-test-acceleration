{
 "cells": [
  {
   "cell_type": "markdown",
   "id": "d19b99f8-9c2b-455c-9a87-b4a91310a897",
   "metadata": {
    "tags": []
   },
   "source": [
    "# CNN Sample"
   ]
  },
  {
   "cell_type": "markdown",
   "id": "a42c63cf-8432-4443-a7ed-8883d91bf202",
   "metadata": {},
   "source": [
    "This section implements a simple CNN to serve as a better visualization of the permutation test method described in \"Permutation-based Hypothesis Testing for Neural Networks.\"\n",
    "The model consists of 3 layers: a CNN layer with 2 out channels and a 15x15 kernel, a ReLU layer, and a linear layer.\n",
    "\n",
    "The training dataset consists of 60000 samples, each sample is a 28x28 image with only 1 color."
   ]
  },
  {
   "cell_type": "code",
   "execution_count": 1,
   "id": "8ebaa80d-9b03-4baf-a4be-656b31cc7961",
   "metadata": {
    "tags": []
   },
   "outputs": [],
   "source": [
    "import torch\n",
    "import torchvision\n",
    "from torchvision import datasets, transforms\n",
    "from torch import nn, optim\n",
    "import torch.nn.functional as F\n",
    "import matplotlib.pyplot as plt\n",
    "import time\n",
    "import numpy as np\n",
    "import math\n",
    "\n",
    "transform = transforms.Compose([transforms.ToTensor(),\n",
    "                              transforms.Normalize((0.5,), (0.5,)),\n",
    "                              ])\n",
    "\n",
    "DATA = \"./_Data/\"\n",
    "ORIGINAL = \"./_Data/parameters/original/\"\n",
    "PERMUTED = \"./_Data/parameters/permuted/\"\n",
    "TEST_STAT = \"./_Data/perm_test_stats/\"\n",
    "\n",
    "trainset = datasets.MNIST(DATA + 'train', download=True, train=True, transform=transform)\n",
    "testset = datasets.MNIST(DATA + 'test', download=True, train=False, transform=transform)\n",
    "trainloader = torch.utils.data.DataLoader(trainset, batch_size=64, shuffle=True)\n",
    "testloader = torch.utils.data.DataLoader(testset, batch_size=64, shuffle=True)"
   ]
  },
  {
   "cell_type": "markdown",
   "id": "dc2ebb06-9415-410a-9a00-ed30733dcef9",
   "metadata": {
    "jp-MarkdownHeadingCollapsed": true,
    "tags": []
   },
   "source": [
    "## Train and Test"
   ]
  },
  {
   "cell_type": "code",
   "execution_count": 2,
   "id": "177794d0-9b5c-42fb-bd06-82db39d06e45",
   "metadata": {},
   "outputs": [],
   "source": [
    "# model\n",
    "class CNN(nn.Module):\n",
    "    def __init__(self):\n",
    "        super(CNN, self).__init__()\n",
    "        self.conv1 = nn.Conv2d(1, 2, 15)\n",
    "        self.fc1 = nn.Linear(2 * 14 * 14, 10)\n",
    "\n",
    "    def forward(self, x):\n",
    "        x = F.relu(self.conv1(x))\n",
    "        x = x.view(-1, 2*14*14)\n",
    "        x = self.fc1(x)\n",
    "        return x\n",
    "\n",
    "device = torch.device(\"cuda:0\" if torch.cuda.is_available() else \"cpu\")\n",
    "model = CNN()\n",
    "model.to(device)\n",
    "\n",
    "criterion = nn.CrossEntropyLoss()\n",
    "optimizer = optim.SGD(model.parameters(), lr=0.001, momentum=0.9)"
   ]
  },
  {
   "cell_type": "code",
   "execution_count": 46,
   "id": "9c045a68-e968-4648-b11c-884ae2b94cf3",
   "metadata": {
    "tags": []
   },
   "outputs": [
    {
     "name": "stdout",
     "output_type": "stream",
     "text": [
      "[epoch 1, batch   200] loss: 1.060\n",
      "[epoch 1, batch   400] loss: 0.440\n",
      "[epoch 1, batch   600] loss: 0.395\n",
      "[epoch 1, batch   800] loss: 0.362\n",
      "[epoch 2, batch   200] loss: 0.311\n",
      "[epoch 2, batch   400] loss: 0.313\n",
      "[epoch 2, batch   600] loss: 0.304\n",
      "[epoch 2, batch   800] loss: 0.292\n",
      "[epoch 3, batch   200] loss: 0.260\n",
      "[epoch 3, batch   400] loss: 0.261\n",
      "[epoch 3, batch   600] loss: 0.264\n",
      "[epoch 3, batch   800] loss: 0.235\n",
      "[epoch 4, batch   200] loss: 0.226\n",
      "[epoch 4, batch   400] loss: 0.228\n",
      "[epoch 4, batch   600] loss: 0.236\n",
      "[epoch 4, batch   800] loss: 0.226\n",
      "[epoch 5, batch   200] loss: 0.222\n",
      "[epoch 5, batch   400] loss: 0.215\n",
      "[epoch 5, batch   600] loss: 0.212\n",
      "[epoch 5, batch   800] loss: 0.207\n",
      "[epoch 6, batch   200] loss: 0.196\n",
      "[epoch 6, batch   400] loss: 0.199\n",
      "[epoch 6, batch   600] loss: 0.192\n",
      "[epoch 6, batch   800] loss: 0.206\n"
     ]
    }
   ],
   "source": [
    "# train\n",
    "for epoch in range(6):  # loop over the dataset multiple times\n",
    "\n",
    "    running_loss = 0.0\n",
    "    for i, data in enumerate(trainloader, 0):\n",
    "        inputs, labels = data\n",
    "        inputs = inputs.to(device)\n",
    "        labels = labels.to(device)\n",
    "        optimizer.zero_grad()\n",
    "\n",
    "        outputs = model(inputs)\n",
    "        loss = criterion(outputs, labels)\n",
    "        loss.backward()\n",
    "        optimizer.step()\n",
    "\n",
    "        running_loss += loss.item()\n",
    "        if i % 200 == 199:  \n",
    "            print('[epoch %d, batch %5d] loss: %.3f' %\n",
    "                  (epoch + 1, i + 1, running_loss / 200))\n",
    "            running_loss = 0.0"
   ]
  },
  {
   "cell_type": "code",
   "execution_count": 47,
   "id": "8d5016e3-57b1-445d-995f-816279723621",
   "metadata": {},
   "outputs": [
    {
     "name": "stdout",
     "output_type": "stream",
     "text": [
      "Accuracy: 95 %\n"
     ]
    }
   ],
   "source": [
    "# test\n",
    "correct = 0\n",
    "total = 0\n",
    "with torch.no_grad():\n",
    "    for data in testloader:\n",
    "        inputs, labels = data\n",
    "        inputs = inputs.to(device)\n",
    "        labels = labels.to(device)\n",
    "        \n",
    "        outputs = model(inputs)\n",
    "        _, predicted = torch.max(outputs.data, 1)\n",
    "        total += labels.size(0)\n",
    "        correct += (predicted == labels).sum().item()\n",
    "\n",
    "print('Accuracy: %d %%' % (\n",
    "    100 * correct / total))"
   ]
  },
  {
   "cell_type": "code",
   "execution_count": 24,
   "id": "37b3fffb-51a1-4ded-8d24-5e559a099de3",
   "metadata": {
    "tags": []
   },
   "outputs": [],
   "source": [
    "# save parameters\n",
    "torch.save(model.conv1.weight, ORIGINAL+'conv_w.pt')\n",
    "torch.save(model.fc1.weight, ORIGINAL+'fc_w.pt')\n",
    "torch.save(model.conv1.bias, ORIGINAL+'conv_b.pt')\n",
    "torch.save(model.fc1.bias, ORIGINAL+'fc_b.pt')"
   ]
  },
  {
   "cell_type": "markdown",
   "id": "0ef5e1f6-8cd2-418e-81ff-88e039e28868",
   "metadata": {
    "tags": []
   },
   "source": [
    "# Permutation test"
   ]
  },
  {
   "cell_type": "markdown",
   "id": "6a2c3066-5399-4668-b612-b87b55828538",
   "metadata": {},
   "source": [
    "This section implements the association test featured in \"Permutation-based Hypothesis Testing for Neural Networks.\"\n",
    "\n",
    "Link: https://arxiv.org/pdf/2301.11354"
   ]
  },
  {
   "cell_type": "markdown",
   "id": "b783679a-f235-413b-9273-3f7ff570a744",
   "metadata": {
    "tags": []
   },
   "source": [
    "## Functions (to load data and run test)"
   ]
  },
  {
   "cell_type": "code",
   "execution_count": 2,
   "id": "8e30b05c-3414-4feb-a605-e6d0a405c2df",
   "metadata": {},
   "outputs": [],
   "source": [
    "cpu = torch.device('cpu')\n",
    "# load parameters and convert to np array\n",
    "def loadParam(num=None):\n",
    "    # load parameters (original)\n",
    "    if num == None:\n",
    "        d1 = ORIGINAL+'conv_w.pt'\n",
    "        d2 = ORIGINAL+'fc_w.pt'\n",
    "        d3 = ORIGINAL+'conv_b.pt'\n",
    "        d4 = ORIGINAL+'fc_b.pt'\n",
    "    # load parameters (permuted)\n",
    "    else:\n",
    "        d1 = PERMUTED+'conv_w' + str(num)+ '.pt'\n",
    "        d2 = PERMUTED+'fc_w' + str(num)+ '.pt'\n",
    "        d3 = PERMUTED+'conv_b' + str(num)+ '.pt'\n",
    "        d4 = PERMUTED+'fc_b' + str(num)+ '.pt'\n",
    "    \n",
    "    conv_w = torch.load(d1, map_location=cpu, weights_only=True).detach().cpu().numpy()\n",
    "    fc_w = torch.load(d2, map_location=cpu, weights_only=True).detach().cpu().numpy()\n",
    "    conv_b = torch.load(d3, map_location=cpu, weights_only=True).detach().cpu().numpy()\n",
    "    fc_b = torch.load(d4, map_location=cpu, weights_only=True).detach().cpu().numpy()\n",
    "     \n",
    "    return conv_w, fc_w, conv_b, fc_b"
   ]
  },
  {
   "cell_type": "markdown",
   "id": "264055e2-28f2-4f8a-94df-62f611312c23",
   "metadata": {
    "tags": []
   },
   "source": [
    "## Partial Derivative Calculation (no acceleration)"
   ]
  },
  {
   "cell_type": "markdown",
   "id": "112bea19-dfef-49ae-a3e1-b01d47e5bb91",
   "metadata": {},
   "source": [
    "`partialDerivative(X, w, b, f, df, types)`\n",
    "\n",
    "Calculates the partial derivative of a single sample using Chain Rule.\n",
    "\n",
    "<b> Parameters: </b>\n",
    "\n",
    "`X`: a single sample from the training data \\\n",
    "`w`: a list containing the weights obtained in layer of the neural network \\\n",
    "`b`: a list containing the biases obtained in layer of the neural network\\\n",
    "&ensp; (For layers that does not have weights/bias, the corresponding element is set to `None`) \\\n",
    "`f`: a list of functions representing each layer of the neural network \\\n",
    "`df`: a list of functions representing the derivatives of each element in `f` \\\n",
    "&ensp; (For matrix reshaping layers, the corresponding element is set to `None`) \\\n",
    "`types`: a list of integers corresponding to the correct way to calculate partial derivative for each layer\n",
    "\n",
    "| Value          | Corresponding Functions|\n",
    "| :-----------  | :------------------------- |\n",
    "| 0 | reshape function  |\n",
    "| 1    | ReLU / mask |\n",
    "| 2 | argmax / argmin  |\n",
    "| 3    | default  |"
   ]
  },
  {
   "cell_type": "code",
   "execution_count": 3,
   "id": "7f71fde0-1aaa-488e-8358-424f3a39af7b",
   "metadata": {},
   "outputs": [],
   "source": [
    "# calculate partial derivative\n",
    "def partialDerivative(X, w, b, f, df, types):\n",
    "    y = f[0](X, w[0], b[0])\n",
    "    dy = df[0](X, w[0], b[0], y)\n",
    "    for k in range(1, len(f)):\n",
    "        y_new = f[k](y, w[k], b[k])\n",
    "        if types[k] == 0:\n",
    "            dy = f[k](dy)\n",
    "        elif types[k] == 1:\n",
    "            dy = df[k](y, w[k], b[k], y_new) * dy\n",
    "        elif types[k] == 2:\n",
    "            dy = df[k](dy, y)\n",
    "        else:\n",
    "            dy = df[k](y, w[k], b[k], y_new) @ dy.T\n",
    "        y = y_new\n",
    "        \n",
    "    return dy"
   ]
  },
  {
   "cell_type": "markdown",
   "id": "9de15129-822c-4164-b44d-d085c483f3b8",
   "metadata": {
    "tags": []
   },
   "source": [
    "### Functions"
   ]
  },
  {
   "cell_type": "markdown",
   "id": "b313ebb6-dd98-4eb3-9edb-9b233cdaef5a",
   "metadata": {},
   "source": [
    "`f(x, w, b)` \n",
    "\n",
    "Function used in each layer\n",
    "\n",
    "<b> Parameters: </b>\n",
    "`x`: input \\\n",
    "`w`: weight \\\n",
    "`b`: bias "
   ]
  },
  {
   "cell_type": "code",
   "execution_count": 4,
   "id": "1872ac28-0fe8-461e-9732-61a0ad58de2b",
   "metadata": {},
   "outputs": [],
   "source": [
    "# 2D convolution\n",
    "def conv2D(X, w, b):\n",
    "    c, _, m, n = w.shape\n",
    "    new_shape = tuple(np.subtract(X.shape, (m,n)) + 1) + (m,n)\n",
    "    sub_mat = np.lib.stride_tricks.as_strided(X, new_shape, X.strides + X.strides)\n",
    "    x_new = np.zeros((c, new_shape[0], new_shape[1]))\n",
    "    for i in range(c):\n",
    "        x_new[i] = np.sum((w[i] * sub_mat), axis=(2,3)) + b[i]\n",
    "    return x_new\n",
    "\n",
    "# ReLU\n",
    "def relu(X, w=None, b=None):\n",
    "    return np.maximum(X, 0)\n",
    "\n",
    "def linear(X, w, b):\n",
    "    return (w @ X.T).flatten() + b\n",
    "\n",
    "# reshape function\n",
    "def reshape(x, w=None, b=None):\n",
    "    return np.reshape(x, (-1,2*14*14))\n"
   ]
  },
  {
   "cell_type": "markdown",
   "id": "dc19e8b0-b99c-446c-9cb7-c933c84ea9be",
   "metadata": {
    "tags": []
   },
   "source": [
    "### Derivatives"
   ]
  },
  {
   "cell_type": "markdown",
   "id": "c8497e5b-c51c-401f-b9a0-49ded0d07854",
   "metadata": {},
   "source": [
    "`df(x, w, b, y)` \n",
    "\n",
    "Partial derivative of a layer\n",
    "\n",
    "<b> Parameters: </b>\n",
    "`x`: input \\\n",
    "`w`: weight \\\n",
    "`b`: bias \\\n",
    "`y`: output `f(x)`\n",
    "\n",
    "*exception: derivative of np.max*"
   ]
  },
  {
   "cell_type": "code",
   "execution_count": 5,
   "id": "8f7982e8-6b9b-41f8-bcff-096127bcff5b",
   "metadata": {},
   "outputs": [],
   "source": [
    "# derivatice of 2D convolution layer\n",
    "def dconv(X, w, b, y):\n",
    "    kernel_shape = w.shape[2:]\n",
    "    y_shape = np.subtract(X.shape, w.shape[2:]) + 1\n",
    "    sub_mat = np.zeros(w.shape[:1] + tuple(np.add((y_shape-1)*2, kernel_shape)))\n",
    "    sub_mat[:,y_shape[0]-1 : X.shape[0], y_shape[1]-1 : X.shape[1]] = np.reshape(w, tuple([w.shape[0]]) + w.shape[2:])\n",
    "    grad = np.lib.stride_tricks.as_strided(sub_mat, X.shape + w.shape[:1] + tuple(y_shape), sub_mat.strides[1:] + sub_mat.strides)\n",
    "    grad = np.flip(grad, axis=(3,4))\n",
    "    \n",
    "    return grad\n",
    "\n",
    "# derivative of ReLU layer\n",
    "def drelu(x, w, b, y):\n",
    "    return 1. * (x > 0)\n",
    "\n",
    "# derivative of linear layer\n",
    "def dlinear(x, w, b, y):\n",
    "    return w\n",
    "\n",
    "# derivative of max function\n",
    "# dy: partial derivative of the previous iteration\n",
    "# y: output of the previous iteration\n",
    "def dmax(dy, y):\n",
    "    maximum = y[0]\n",
    "    ind = 0\n",
    "    for k in range(1, len(y)):\n",
    "        if y[k] > maximum:\n",
    "            maximum = y[k]\n",
    "            ind = k\n",
    "    return dy[ind]"
   ]
  },
  {
   "cell_type": "markdown",
   "id": "3002ab2f-c6dd-416c-afe9-c9aa78b5fe3b",
   "metadata": {
    "tags": []
   },
   "source": [
    "### Calculate test statistics"
   ]
  },
  {
   "cell_type": "code",
   "execution_count": 6,
   "id": "bb1c2429-1aee-4cb3-8260-ff26cf6e72dc",
   "metadata": {},
   "outputs": [],
   "source": [
    "def calculateT(trainset_np, weights, bias, functions, derivatives, types):\n",
    "    T = np.zeros(28*28)\n",
    "\n",
    "    for data in trainset_np:\n",
    "        pd = partialDerivative(data, weights, bias, functions, derivatives, types)\n",
    "        T += np.square(pd)\n",
    "        \n",
    "    return T / len(trainset_np)"
   ]
  },
  {
   "cell_type": "markdown",
   "id": "0d08abdd-6cd8-4aef-9d03-55d0bcfa5c7b",
   "metadata": {},
   "source": [
    "## Partial Derivatives (CuPy)"
   ]
  },
  {
   "cell_type": "markdown",
   "id": "869d82f3-f5a0-4c2a-880b-dcbb1c388e34",
   "metadata": {
    "tags": []
   },
   "source": [
    "### Implementation"
   ]
  },
  {
   "cell_type": "code",
   "execution_count": 7,
   "id": "a5456c23-8e2e-4fb1-973d-3c3970148fd6",
   "metadata": {},
   "outputs": [],
   "source": [
    "import cupy as cp"
   ]
  },
  {
   "cell_type": "code",
   "execution_count": 8,
   "id": "6eef1507-67e1-4bd9-8173-09d2f8f8be64",
   "metadata": {},
   "outputs": [],
   "source": [
    "# 2D convolution\n",
    "def conv2D_cp(X, w, b):\n",
    "    c, _, m, n = w.shape\n",
    "    new_shape = tuple(np.subtract(X.shape, (0,m-1,n-1))) + (m,n)\n",
    "    sub_mat = cp.lib.stride_tricks.as_strided(X, new_shape, X.strides + X[0].strides)\n",
    "    x_new = cp.zeros((X.shape[0], c, new_shape[1], new_shape[2]))\n",
    "    for i in range(c):\n",
    "        x_new[:,i] = cp.sum((w[i] * sub_mat), axis=(3,4)) + b[i]\n",
    "    return x_new\n",
    "\n",
    "# ReLU\n",
    "def relu_cp(X):\n",
    "    return cp.maximum(X, 0)\n",
    "\n",
    "def linear_cp(X, w, b):\n",
    "    return (w @ X.T).T + b\n",
    "\n",
    "def reshape_cp(x):\n",
    "    return cp.reshape(x, x.shape[0:-3] + tuple([2*14*14]))"
   ]
  },
  {
   "cell_type": "code",
   "execution_count": 9,
   "id": "a64a9fe0-fac2-4e67-911f-037fff32e9d9",
   "metadata": {},
   "outputs": [],
   "source": [
    "# derivatice of 2D convolution layer\n",
    "def dconv_cp(X, w):\n",
    "    kernel_shape = w.shape[2:]\n",
    "    y_shape = np.subtract(X[0].shape, w.shape[2:]) + 1\n",
    "    sub_mat = cp.zeros(w.shape[:1] + tuple(np.add((y_shape-1)*2, kernel_shape)))\n",
    "    sub_mat[:, y_shape[0]-1 : X[0].shape[0], y_shape[1]-1 : X[0].shape[1]] = cp.reshape(w, tuple([w.shape[0]]) + w.shape[2:])\n",
    "    grad = cp.lib.stride_tricks.as_strided(sub_mat, X[0].shape + w.shape[:1] + tuple(y_shape), sub_mat.strides[1:] + sub_mat.strides)\n",
    "    grad = cp.flip(grad, axis=(3,4))\n",
    "    \n",
    "    return grad.reshape((-1,) + grad.shape[2:])\n",
    "\n",
    "# derivative of ReLU layer\n",
    "def drelu_cp(x):\n",
    "    return 1. * (x > 0)\n",
    "\n",
    "# derivative of linear layer\n",
    "def dlinear_cp(x, w):\n",
    "    return w\n",
    "\n",
    "# derivative of max function\n",
    "# dy: partial derivative of the previous iteration\n",
    "# y: output of the previous iteration\n",
    "def dmax_cp(dy, y):\n",
    "    ind = cp.expand_dims(cp.repeat(cp.argmax(y, axis=1), dy.shape[0] // y.shape[0]), axis=1)\n",
    "    return cp.take_along_axis(dy, ind, axis=-1)"
   ]
  },
  {
   "cell_type": "markdown",
   "id": "d9feb7f9-fe45-4713-9eb4-1ef88a00ff12",
   "metadata": {},
   "source": [
    "### Test on Simple CNN"
   ]
  },
  {
   "cell_type": "code",
   "execution_count": 11,
   "id": "05b15d6e-6b20-4767-8a09-a2b89c03e9d2",
   "metadata": {},
   "outputs": [],
   "source": [
    "def calculateT_cp(batch_size):\n",
    "    # get parameters\n",
    "    conv_w, fc_w, conv_b, fc_b = loadParam()\n",
    "\n",
    "    conv_w = cp.asarray(conv_w)\n",
    "    fc_w = cp.asarray(fc_w)\n",
    "    conv_b = cp.asarray(conv_b)\n",
    "    fc_b = cp.asarray(fc_b)\n",
    "    X = cp.asarray(trainset.data.numpy())\n",
    "    \n",
    "    # cache for storing reusable partial derivatives\n",
    "    cache = {}\n",
    "    \n",
    "    # initialize test statistics\n",
    "    T = cp.zeros(math.prod(X[0].shape))\n",
    "    \n",
    "    # for each batch, calculate the partial derivatices and test statistics\n",
    "    for i in range(0, X.shape[0] - 1, batch_size):\n",
    "        pd = pd_batch(cache, X[i:min(i+batch_size, X.shape[0])], conv_w, fc_w, conv_b, fc_b)\n",
    "        T += cp.sum(cp.square(pd), axis=0)\n",
    "    \n",
    "    return T / len(trainset)\n",
    "        \n",
    "# calculate the partial derivatives for a batch of input images  \n",
    "def pd_batch(cache, X, conv_w, fc_w, conv_b, fc_b):\n",
    "    # convolution layer\n",
    "    y_0 = conv2D_cp(X, conv_w, conv_b)\n",
    "    if 0 in cache:\n",
    "        dy_0 = cache[0]\n",
    "    else:\n",
    "        dy_0 = dconv_cp(X, conv_w)\n",
    "        cache[0] = dy_0\n",
    "    \n",
    "    # relu layer\n",
    "    y_1 = relu_cp(y_0)\n",
    "    dy_1 = drelu_cp(y_0)\n",
    "    dy_1 = cp.tile(dy_1[:, cp.newaxis, :, :, :], (1, dy_0.shape[0], 1, 1, 1)) * dy_0\n",
    "    \n",
    "    # reshape\n",
    "    y_2 = reshape_cp(y_1)\n",
    "    dy_2 = reshape_cp(dy_1)\n",
    "    dy_2 = dy_2.reshape(-1, dy_2.shape[-1])\n",
    "    \n",
    "    # linear layer\n",
    "    y_3 = linear_cp(y_2, fc_w, fc_b)\n",
    "    dy_3 = dlinear_cp(y_2, fc_w)\n",
    "    dy_3 = dy_3 @ dy_2.T\n",
    "    \n",
    "    # max layer\n",
    "    dy_4 = dmax_cp(dy_3.T, y_3)\n",
    "    \n",
    "    return dy_4.reshape(X.shape[0], -1)"
   ]
  },
  {
   "cell_type": "code",
   "execution_count": 17,
   "id": "1f1b441f-2e1e-4076-8b77-3a7d7e5ef134",
   "metadata": {},
   "outputs": [
    {
     "name": "stdout",
     "output_type": "stream",
     "text": [
      "GPU Name: NVIDIA GeForce RTX 2080 Ti\n"
     ]
    }
   ],
   "source": [
    "if torch.cuda.is_available():\n",
    "    print(f\"GPU Name: {torch.cuda.get_device_name(0)}\")"
   ]
  },
  {
   "cell_type": "code",
   "execution_count": 12,
   "id": "9d8ada6d-2050-4d55-bfdb-345100769df0",
   "metadata": {},
   "outputs": [],
   "source": [
    "# clear GPU memory\n",
    "cp._default_memory_pool.free_all_blocks()"
   ]
  },
  {
   "cell_type": "code",
   "execution_count": 14,
   "id": "a2085bf1-b69a-4aeb-a3b3-f2c8c2a56115",
   "metadata": {},
   "outputs": [
    {
     "name": "stdout",
     "output_type": "stream",
     "text": [
      "Full test statistics calculation runtime (cupy): 1.1864 seconds\n"
     ]
    }
   ],
   "source": [
    "# calculate test statistics\n",
    "start_time = time.perf_counter()\n",
    "T = calculateT_cp(1500)\n",
    "end_time = time.perf_counter()\n",
    "runtime = end_time - start_time\n",
    "print(f\"Full test statistics calculation runtime (cupy): {runtime:.4f} seconds\")"
   ]
  },
  {
   "cell_type": "code",
   "execution_count": 15,
   "id": "b32727f7-338c-444e-81ba-68ec0b3c894d",
   "metadata": {},
   "outputs": [
    {
     "data": {
      "text/plain": [
       "Text(0.5, 1.0, 'Test Statistics (Original)')"
      ]
     },
     "execution_count": 15,
     "metadata": {},
     "output_type": "execute_result"
    },
    {
     "data": {
      "image/png": "[encoded data removed]",
      "text/plain": [
       "<Figure size 640x480 with 2 Axes>"
      ]
     },
     "metadata": {},
     "output_type": "display_data"
    }
   ],
   "source": [
    "# graph test statistics (verify result)\n",
    "imgplot = plt.imshow(cp.asnumpy(T).reshape((28,28)))\n",
    "plt.colorbar(imgplot)\n",
    "plt.title(\"Test Statistics (Original)\", fontsize=14, loc='center')"
   ]
  },
  {
   "cell_type": "markdown",
   "id": "378fdb32-772d-42d5-a9e4-dd70b70f6d87",
   "metadata": {},
   "source": [
    "### Performance Comparison (CuPy vs. NumPy partial derivative calculation)"
   ]
  },
  {
   "cell_type": "markdown",
   "id": "cacb0dbc-2a43-4987-b425-19e123fa22c6",
   "metadata": {},
   "source": [
    "Simply replacing numpy functions with cupy functions reduces the execution time by ~60%.\n",
    "Breakdown: First time running the CuPy version of partial derivative calculation is slower due to one-time overhead. Calculation for the rest of the datapoints will be faster than the numpy version.\n",
    "\n",
    "Reference: https://docs.cupy.dev/en/stable/user_guide/performance.html"
   ]
  },
  {
   "cell_type": "markdown",
   "id": "32340708-1e26-4f89-9f43-cd67b8ca0c40",
   "metadata": {
    "jp-MarkdownHeadingCollapsed": true,
    "tags": []
   },
   "source": [
    "## Permute"
   ]
  },
  {
   "cell_type": "markdown",
   "id": "bad081c7-787e-4424-9d88-4c2b5c99e719",
   "metadata": {},
   "source": [
    "Permute `y` 100 times and retrain the model using the original `X` and permuted `y`"
   ]
  },
  {
   "cell_type": "code",
   "execution_count": null,
   "id": "4fc3eef7-968d-44fd-974b-43448b8d36be",
   "metadata": {},
   "outputs": [],
   "source": [
    "for i in range(100):\n",
    "    print(\"permutation\", i)\n",
    "    model = CNN()\n",
    "    model.to(device)\n",
    "\n",
    "    criterion = nn.CrossEntropyLoss()\n",
    "    optimizer = optim.SGD(model.parameters(), lr=0.001, momentum=0.9)\n",
    "    # train\n",
    "    for epoch in range(6):  # loop over the dataset multiple times\n",
    "        for i, data in enumerate(trainloader, 0):\n",
    "            inputs, labels = data\n",
    "            ind = torch.randperm(labels.shape[0])\n",
    "            labels = labels[ind]\n",
    "            inputs = inputs.to(device)\n",
    "            labels = labels.to(device)\n",
    "            optimizer.zero_grad()\n",
    "\n",
    "            outputs = model(inputs)\n",
    "            loss = criterion(outputs, labels)\n",
    "            loss.backward()\n",
    "            optimizer.step()\n",
    "    # save parameters\n",
    "    torch.save(model.conv1.weight, PERMUTED+'conv_w.pt')\n",
    "    torch.save(model.fc1.weight, PERMUTED+'fc_w.pt')\n",
    "    torch.save(model.conv1.bias, PERMUTED+'conv_b.pt')\n",
    "    torch.save(model.fc1.bias, PERMUTED+'fc_b.pt')"
   ]
  },
  {
   "cell_type": "markdown",
   "id": "867d807c-63ca-4d57-9249-33c763f29f0d",
   "metadata": {
    "jp-MarkdownHeadingCollapsed": true,
    "tags": []
   },
   "source": [
    "## Run Test"
   ]
  },
  {
   "cell_type": "code",
   "execution_count": 11,
   "id": "9a890794-6f8c-4d34-9395-2d9fde4b4343",
   "metadata": {},
   "outputs": [
    {
     "name": "stdout",
     "output_type": "stream",
     "text": [
      "Runtime: 176.4417 seconds\n"
     ]
    }
   ],
   "source": [
    "# load parameters (Original)\n",
    "conv_w, fc_w, conv_b, fc_b = loadParam()\n",
    "\n",
    "# parameter initialization\n",
    "weights = [conv_w, None, None, fc_w, None]\n",
    "bias = [conv_b, None, None, fc_b, None]\n",
    "functions = [conv2D, relu, reshape, linear, np.max]\n",
    "derivatives = [dconv, drelu, None, dlinear, dmax]\n",
    "types = [1,1,0,3,2]\n",
    "trainset_np = trainset.data.numpy()\n",
    "\n",
    "# calculate test statistics\n",
    "start_time = time.perf_counter()\n",
    "T_orig = calculateT(trainset_np, weights, bias, functions, derivatives, types)\n",
    "end_time = time.perf_counter()\n",
    "runtime = end_time - start_time\n",
    "print(f\"Runtime: {runtime:.4f} seconds\")"
   ]
  },
  {
   "cell_type": "code",
   "execution_count": 51,
   "id": "7ae3c656-7fb1-4094-8da8-83da7439b29a",
   "metadata": {
    "tags": []
   },
   "outputs": [
    {
     "name": "stdout",
     "output_type": "stream",
     "text": [
      "Runtime: 175.9867 seconds\n"
     ]
    }
   ],
   "source": [
    "# load parameters (Permuted)\n",
    "conv_w, fc_w, conv_b, fc_b = loadParam(0)\n",
    "\n",
    "# parameter initialization\n",
    "weights = [conv_w, None, None, fc_w, None]\n",
    "bias = [conv_b, None, None, fc_b, None]\n",
    "functions = [conv2D, relu, reshape, linear, np.max]\n",
    "derivatives = [dconv, drelu, None, dlinear, dmax]\n",
    "types = [1,1,0,3,2]\n",
    "trainset_np = trainset.data.numpy()\n",
    "\n",
    "# calculate test statistics\n",
    "start_time = time.perf_counter()\n",
    "T_perm = calculateT(trainset_np, weights, bias, functions, derivatives, types)\n",
    "end_time = time.perf_counter()\n",
    "runtime = end_time - start_time\n",
    "print(f\"Runtime: {runtime:.4f} seconds\")"
   ]
  },
  {
   "cell_type": "markdown",
   "id": "5796274d-182c-4684-8901-3a56ce6f2b2c",
   "metadata": {
    "tags": []
   },
   "source": [
    "## Test Statistic Visualization and Comparison"
   ]
  },
  {
   "cell_type": "code",
   "execution_count": 60,
   "id": "cf51437b-9246-4d2c-8b33-934addc37d99",
   "metadata": {
    "tags": []
   },
   "outputs": [
    {
     "data": {
      "text/plain": [
       "Text(0.5, 1.0, 'Test Statistics (Original)')"
      ]
     },
     "execution_count": 60,
     "metadata": {},
     "output_type": "execute_result"
    },
    {
     "data": {
      "image/png": "[encoded data removed]",
      "text/plain": [
       "<Figure size 640x480 with 2 Axes>"
      ]
     },
     "metadata": {},
     "output_type": "display_data"
    }
   ],
   "source": [
    "imgplot = plt.imshow(T_orig.reshape((28,28)))\n",
    "plt.colorbar(imgplot)\n",
    "plt.title(\"Test Statistics (Original)\", fontsize=14, loc='center')"
   ]
  },
  {
   "cell_type": "code",
   "execution_count": 61,
   "id": "372cd4d3-c206-4774-93fb-6d89bef9856b",
   "metadata": {
    "tags": []
   },
   "outputs": [
    {
     "data": {
      "text/plain": [
       "Text(0.5, 1.0, 'Test Statistics (Permuted)')"
      ]
     },
     "execution_count": 61,
     "metadata": {},
     "output_type": "execute_result"
    },
    {
     "data": {
      "image/png": "[encoded data removed]",
      "text/plain": [
       "<Figure size 640x480 with 2 Axes>"
      ]
     },
     "metadata": {},
     "output_type": "display_data"
    }
   ],
   "source": [
    "imgplot = plt.imshow(T_perm.reshape((28,28)))\n",
    "plt.colorbar(imgplot)\n",
    "plt.title(\"Test Statistics (Permuted)\", fontsize=14, loc='center')"
   ]
  },
  {
   "cell_type": "code",
   "execution_count": 62,
   "id": "09473244-db8c-447f-b634-27d85d4b5f5a",
   "metadata": {},
   "outputs": [
    {
     "data": {
      "text/plain": [
       "<matplotlib.image.AxesImage at 0x2acf7edcb190>"
      ]
     },
     "execution_count": 62,
     "metadata": {},
     "output_type": "execute_result"
    },
    {
     "data": {
      "image/png": "[encoded data removed]",
      "text/plain": [
       "<Figure size 640x480 with 1 Axes>"
      ]
     },
     "metadata": {},
     "output_type": "display_data"
    }
   ],
   "source": [
    "# image of a single data point (for result validation)\n",
    "plt.imshow(trainset_np[0])"
   ]
  },
  {
   "cell_type": "markdown",
   "id": "09c837a1-7c79-47c0-a7bb-bbb1576a3fab",
   "metadata": {
    "jp-MarkdownHeadingCollapsed": true,
    "tags": []
   },
   "source": [
    "## P-value Visualization"
   ]
  },
  {
   "cell_type": "code",
   "execution_count": 13,
   "id": "5fbdbf61-d92a-4bb8-a2ea-b9ab44a283e3",
   "metadata": {},
   "outputs": [],
   "source": [
    "def read_stats(num=None):\n",
    "    # load parameters (original)\n",
    "    if num == None:\n",
    "        d = TEST_STAT+'stats.txt'\n",
    "    # load parameters (permuted)\n",
    "    else:\n",
    "        d = TEST_STAT+'stats_' + str(num)+ '.txt'\n",
    "    \n",
    "    return np.loadtxt(d, delimiter=',')\n",
    "\n",
    "# find p-value of each SNP\n",
    "def p_values(orig, perm):\n",
    "    p_vals = []\n",
    "\n",
    "    for i in range(len(orig)):\n",
    "        p_vals.append(sum(stat > orig[i] for stat in perm[:,i]) / len(perm))\n",
    "\n",
    "    return p_vals"
   ]
  },
  {
   "cell_type": "code",
   "execution_count": 26,
   "id": "fbc6a644-8b77-4eb2-9fe6-9956873b833b",
   "metadata": {},
   "outputs": [],
   "source": [
    "orig = read_stats()\n",
    "orig = orig / np.sum(orig)\n",
    "perm = []\n",
    "for i in range(100):\n",
    "    d = read_stats(i)\n",
    "    perm.append(d / np.sum(d))\n",
    "perm = np.array(perm)"
   ]
  },
  {
   "cell_type": "code",
   "execution_count": 32,
   "id": "c08759d9-eb55-4d5e-8068-0677dc863e1a",
   "metadata": {},
   "outputs": [],
   "source": [
    "p_vals = p_values(orig, perm)\n",
    "p_vals = np.array(p_vals)"
   ]
  },
  {
   "cell_type": "code",
   "execution_count": null,
   "id": "721d9796-5676-44c0-a773-5535323ff3cb",
   "metadata": {},
   "outputs": [],
   "source": [
    "imgplot = plt.imshow(p_vals.reshape((28,28)))\n",
    "plt.colorbar(imgplot)\n",
    "plt.title(\"P-values (with normalization)\", fontsize=14, loc='center')"
   ]
  },
  {
   "cell_type": "code",
   "execution_count": 78,
   "id": "b6b64265-e13d-4668-b246-42f1fe1e2a05",
   "metadata": {},
   "outputs": [],
   "source": [
    "p_vals1 = p_vals * (p_vals < 0.2) + (p_vals == 0.0)\n",
    "p_vals1 += (p_vals1 == 0.0)"
   ]
  },
  {
   "cell_type": "code",
   "execution_count": 80,
   "id": "5e556353-8ae9-4dbd-9533-64132a0d1b61",
   "metadata": {},
   "outputs": [
    {
     "data": {
      "text/plain": [
       "Text(0.5, 1.0, 'P-values (threshold=0.2)')"
      ]
     },
     "execution_count": 80,
     "metadata": {},
     "output_type": "execute_result"
    },
    {
     "data": {
      "image/png": "[encoded data removed]",
      "text/plain": [
       "<Figure size 640x480 with 2 Axes>"
      ]
     },
     "metadata": {},
     "output_type": "display_data"
    }
   ],
   "source": [
    "imgplot = plt.imshow(p_vals1.reshape((28,28)))\n",
    "plt.colorbar(imgplot)\n",
    "plt.title(\"P-values (threshold=0.2)\", fontsize=14, loc='center')"
   ]
  },
  {
   "cell_type": "code",
   "execution_count": null,
   "id": "3de194e5-d84a-477c-9826-0d3e8455d407",
   "metadata": {},
   "outputs": [],
   "source": []
  }
 ],
 "metadata": {
  "kernelspec": {
   "display_name": "banns_env",
   "language": "python",
   "name": "banns_env"
  },
  "language_info": {
   "codemirror_mode": {
    "name": "ipython",
    "version": 3
   },
   "file_extension": ".py",
   "mimetype": "text/x-python",
   "name": "python",
   "nbconvert_exporter": "python",
   "pygments_lexer": "ipython3",
   "version": "3.10.12"
  }
 },
 "nbformat": 4,
 "nbformat_minor": 5
}
