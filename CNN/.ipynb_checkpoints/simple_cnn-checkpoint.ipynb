{
 "cells": [
  {
   "cell_type": "markdown",
   "id": "d19b99f8-9c2b-455c-9a87-b4a91310a897",
   "metadata": {
    "tags": []
   },
   "source": [
    "# CNN Sample"
   ]
  },
  {
   "cell_type": "code",
   "execution_count": 3,
   "id": "8ebaa80d-9b03-4baf-a4be-656b31cc7961",
   "metadata": {
    "tags": []
   },
   "outputs": [],
   "source": [
    "import torch\n",
    "import torchvision\n",
    "from torchvision import datasets, transforms\n",
    "from torch import nn, optim\n",
    "import torch.nn.functional as F\n",
    "import numpy as np\n",
    "import matplotlib.pyplot as plt\n",
    "from time import time\n",
    "import numpy as np\n",
    "\n",
    "transform = transforms.Compose([transforms.ToTensor(),\n",
    "                              transforms.Normalize((0.5,), (0.5,)),\n",
    "                              ])\n",
    "\n",
    "DATA = \"./_Data/\"\n",
    "ORIGINAL = \"./_Data/parameters/original/\"\n",
    "PERMUTED = \"./_Data/parameters/permuted/\"\n",
    "\n",
    "trainset = datasets.MNIST(DATA + 'train', download=True, train=True, transform=transform)\n",
    "testset = datasets.MNIST(DATA + 'test', download=True, train=False, transform=transform)\n",
    "trainloader = torch.utils.data.DataLoader(trainset, batch_size=64, shuffle=True)\n",
    "testloader = torch.utils.data.DataLoader(testset, batch_size=64, shuffle=True)"
   ]
  },
  {
   "cell_type": "code",
   "execution_count": 17,
   "id": "15a70893-1555-4c3d-b568-307b2fb38023",
   "metadata": {},
   "outputs": [
    {
     "data": {
      "text/plain": [
       "60000"
      ]
     },
     "execution_count": 17,
     "metadata": {},
     "output_type": "execute_result"
    }
   ],
   "source": [
    "len(trainset)"
   ]
  },
  {
   "cell_type": "code",
   "execution_count": 4,
   "id": "177794d0-9b5c-42fb-bd06-82db39d06e45",
   "metadata": {},
   "outputs": [],
   "source": [
    "# model\n",
    "class CNN(nn.Module):\n",
    "    def __init__(self):\n",
    "        super(CNN, self).__init__()\n",
    "        self.conv1 = nn.Conv2d(1, 2, 15)\n",
    "        self.fc1 = nn.Linear(2 * 14 * 14, 10)\n",
    "\n",
    "    def forward(self, x):\n",
    "        x = F.relu(self.conv1(x))\n",
    "        x = x.view(-1, 2*14*14)\n",
    "        x = self.fc1(x)\n",
    "        return x\n",
    "\n",
    "device = torch.device(\"cuda:0\" if torch.cuda.is_available() else \"cpu\")\n",
    "model = CNN()\n",
    "model.to(device)\n",
    "\n",
    "criterion = nn.CrossEntropyLoss()\n",
    "optimizer = optim.SGD(model.parameters(), lr=0.001, momentum=0.9)"
   ]
  },
  {
   "cell_type": "code",
   "execution_count": null,
   "id": "9c045a68-e968-4648-b11c-884ae2b94cf3",
   "metadata": {
    "tags": []
   },
   "outputs": [],
   "source": [
    "# train\n",
    "for epoch in range(6):  # loop over the dataset multiple times\n",
    "\n",
    "    running_loss = 0.0\n",
    "    for i, data in enumerate(trainloader, 0):\n",
    "        inputs, labels = data\n",
    "        inputs = inputs.to(device)\n",
    "        labels = labels.to(device)\n",
    "        optimizer.zero_grad()\n",
    "\n",
    "        outputs = model(inputs)\n",
    "        loss = criterion(outputs, labels)\n",
    "        loss.backward()\n",
    "        optimizer.step()\n",
    "\n",
    "        running_loss += loss.item()\n",
    "        if i % 200 == 199:  \n",
    "            print('[epoch %d, batch %5d] loss: %.3f' %\n",
    "                  (epoch + 1, i + 1, running_loss / 200))\n",
    "            running_loss = 0.0"
   ]
  },
  {
   "cell_type": "code",
   "execution_count": 10,
   "id": "8d5016e3-57b1-445d-995f-816279723621",
   "metadata": {},
   "outputs": [
    {
     "name": "stdout",
     "output_type": "stream",
     "text": [
      "Accuracy: 94 %\n"
     ]
    }
   ],
   "source": [
    "# test\n",
    "correct = 0\n",
    "total = 0\n",
    "with torch.no_grad():\n",
    "    for data in testloader:\n",
    "        inputs, labels = data\n",
    "        inputs = inputs.to(device)\n",
    "        labels = labels.to(device)\n",
    "        \n",
    "        outputs = model(inputs)\n",
    "        _, predicted = torch.max(outputs.data, 1)\n",
    "        total += labels.size(0)\n",
    "        correct += (predicted == labels).sum().item()\n",
    "\n",
    "print('Accuracy: %d %%' % (\n",
    "    100 * correct / total))"
   ]
  },
  {
   "cell_type": "code",
   "execution_count": 24,
   "id": "37b3fffb-51a1-4ded-8d24-5e559a099de3",
   "metadata": {
    "tags": []
   },
   "outputs": [],
   "source": [
    "# save parameters\n",
    "torch.save(model.conv1.weight, ORIGINAL+'conv_w.pt')\n",
    "torch.save(model.fc1.weight, ORIGINAL+'fc_w.pt')\n",
    "torch.save(model.conv1.bias, ORIGINAL+'conv_b.pt')\n",
    "torch.save(model.fc1.bias, ORIGINAL+'fc_b.pt')"
   ]
  },
  {
   "cell_type": "code",
   "execution_count": 11,
   "id": "c67a5dd2-016c-4249-a93d-add279196b24",
   "metadata": {},
   "outputs": [],
   "source": [
    "# load parameters\n",
    "conv_w = torch.load(ORIGINAL+'conv_w.pt', weights_only=True, map_location=device)\n",
    "fc_w = torch.load(ORIGINAL+'fc_w.pt', weights_only=True, map_location=device)\n",
    "conv_b = torch.load(ORIGINAL+'conv_b.pt', weights_only=True, map_location=device)\n",
    "fc_b = torch.load(ORIGINAL+'fc_b.pt', weights_only=True, map_location=device)"
   ]
  },
  {
   "cell_type": "markdown",
   "id": "0ef5e1f6-8cd2-418e-81ff-88e039e28868",
   "metadata": {
    "tags": []
   },
   "source": [
    "# Permutation test"
   ]
  },
  {
   "cell_type": "markdown",
   "id": "264055e2-28f2-4f8a-94df-62f611312c23",
   "metadata": {
    "tags": []
   },
   "source": [
    "## Functions"
   ]
  },
  {
   "cell_type": "code",
   "execution_count": 23,
   "id": "7f71fde0-1aaa-488e-8358-424f3a39af7b",
   "metadata": {},
   "outputs": [],
   "source": [
    "# types:\n",
    "# 0: reshape\n",
    "# 1: relu / mask\n",
    "# 2: argmax\n",
    "# 3: regular\n",
    "\n",
    "def partialDerivative(X, w, b, f, df, types):\n",
    "    pds = []\n",
    "    for i in range(len(X[0])):\n",
    "        for j in range(len(X[0][0])):\n",
    "            pd = 1\n",
    "            y_0 = X\n",
    "            for k in range(len(f)):\n",
    "                y_1 = f[k](y_0)\n",
    "                if types[k] == 0:\n",
    "                    pd = f[k](pd)\n",
    "                elif types[k] == 1:\n",
    "                    pd = df[k](y_0, w[k], b[k], y_1, i, j) * pd\n",
    "                elif types[k] == 2:\n",
    "                    pd = df[k](pd, y_0)\n",
    "                else:\n",
    "                    pd = torch.tensordot(df[k](y_0, w[k], b[k], y_1, i, j), pd[0], dims=1)\n",
    "                y_0 = y_1\n",
    "            pds.append(pd)\n",
    "    return torch.Tensor(pds)"
   ]
  },
  {
   "cell_type": "code",
   "execution_count": 6,
   "id": "8f7982e8-6b9b-41f8-bcff-096127bcff5b",
   "metadata": {},
   "outputs": [],
   "source": [
    "def dconv(x, w, b, y, i, j):\n",
    "    grads = []\n",
    "    for z in range(2):\n",
    "        grad = np.zeros((14,14))\n",
    "        A = min(j, 14)\n",
    "        for a in range(max(j-14, 0), min(j+1, 14)):\n",
    "            B = min(i, 14)\n",
    "            for b in range(max(i-14, 0), min(i+1, 14)):\n",
    "                grad[a][b] = w[z][0][A][B]\n",
    "                B -= 1\n",
    "            A -= 1\n",
    "        grads.append(grad)\n",
    "    return torch.Tensor(grads)\n",
    "\n",
    "def drelu(x, w, b, y, i, j):\n",
    "    grads = []\n",
    "    for z in range(2):\n",
    "        grad = np.zeros((14,14))\n",
    "        for a in range(14):\n",
    "            for b in range(14):\n",
    "                if x[z][a][b] > 0:\n",
    "                    grad[a][b] = 1\n",
    "        grads.append(grad)\n",
    "    return torch.Tensor(grads)\n",
    "\n",
    "def dlinear(x, w, b, y, i, j):\n",
    "    return w\n",
    "\n",
    "def reshape(x):\n",
    "    return x.view(-1, 2*14*14)\n",
    "\n",
    "def dmax(grad, y):\n",
    "    maximum = y[0][0]\n",
    "    ind = 0\n",
    "    for k in range(1, y.shape[1]):\n",
    "        if y[0][k] > maximum:\n",
    "            maximum = y[0][k]\n",
    "            ind = k\n",
    "    return grad[ind]\n",
    "\n",
    "# def dpool(x, w, b, y, i, j):\n",
    "#     grads = []\n",
    "#     for z in range(6):\n",
    "#         grad = np.zeros((4,4))\n",
    "#         for a in range(4):\n",
    "#             for b in range(4):\n",
    "#                 ind = maxInd(y[z][a * 6: a * 6 + 6][b * 6: b * 6 + 6])\n",
    "#                 grad[a][b] = w[z][a * 6 + ind[0]][b * 6 + ind[1]]\n",
    "#         grads.append(grad)\n",
    "#     return grads\n",
    "\n",
    "# def maxInd(X):\n",
    "#     ind = (0, 0)\n",
    "#     maximum = np.nextafter(0, 1)\n",
    "#     for i in range(len(X)):\n",
    "#         for j in range(len(X[0])):\n",
    "#             if X[i][i] > maximum:\n",
    "#                 ind = (i, j)\n",
    "#     return ind"
   ]
  },
  {
   "cell_type": "markdown",
   "id": "32340708-1e26-4f89-9f43-cd67b8ca0c40",
   "metadata": {
    "jp-MarkdownHeadingCollapsed": true,
    "tags": []
   },
   "source": [
    "## Permute"
   ]
  },
  {
   "cell_type": "code",
   "execution_count": null,
   "id": "4fc3eef7-968d-44fd-974b-43448b8d36be",
   "metadata": {},
   "outputs": [],
   "source": [
    "for i in range(100):\n",
    "    print(\"permutation\", i)\n",
    "    model = CNN()\n",
    "    model.to(device)\n",
    "\n",
    "    criterion = nn.CrossEntropyLoss()\n",
    "    optimizer = optim.SGD(model.parameters(), lr=0.001, momentum=0.9)\n",
    "    # train\n",
    "    for epoch in range(6):  # loop over the dataset multiple times\n",
    "        for i, data in enumerate(trainloader, 0):\n",
    "            inputs, labels = data\n",
    "            ind = torch.randperm(labels.shape[0])\n",
    "            labels = labels[ind]\n",
    "            inputs = inputs.to(device)\n",
    "            labels = labels.to(device)\n",
    "            optimizer.zero_grad()\n",
    "\n",
    "            outputs = model(inputs)\n",
    "            loss = criterion(outputs, labels)\n",
    "            loss.backward()\n",
    "            optimizer.step()\n",
    "    # save parameters\n",
    "    torch.save(model.conv1.weight, PERMUTED+'conv_w.pt')\n",
    "    torch.save(model.fc1.weight, PERMUTED+'fc_w.pt')\n",
    "    torch.save(model.conv1.bias, PERMUTED+'conv_b.pt')\n",
    "    torch.save(model.fc1.bias, PERMUTED+'fc_b.pt')"
   ]
  },
  {
   "cell_type": "markdown",
   "id": "867d807c-63ca-4d57-9249-33c763f29f0d",
   "metadata": {
    "tags": []
   },
   "source": [
    "## Run Test"
   ]
  },
  {
   "cell_type": "code",
   "execution_count": 25,
   "id": "a0c6da9b-0f15-4185-9f3e-66668488704d",
   "metadata": {},
   "outputs": [],
   "source": [
    "weights = [net.conv1.weight, None, None, net.fc1.weight, None]\n",
    "bias = [net.conv1.bias, None, None, net.fc1.bias, None]\n",
    "functions = [net.conv1, F.relu, reshape, net.fc1, torch.max]\n",
    "derivatives = [dconv, drelu, None, dlinear, dmax]\n",
    "types = [1,1,0,3,2]"
   ]
  },
  {
   "cell_type": "code",
   "execution_count": 29,
   "id": "7ae3c656-7fb1-4094-8da8-83da7439b29a",
   "metadata": {
    "tags": []
   },
   "outputs": [
    {
     "name": "stdout",
     "output_type": "stream",
     "text": [
      "batch 0\n",
      "batch 1\n"
     ]
    },
    {
     "ename": "KeyboardInterrupt",
     "evalue": "",
     "output_type": "error",
     "traceback": [
      "\u001b[0;31m---------------------------------------------------------------------------\u001b[0m",
      "\u001b[0;31mKeyboardInterrupt\u001b[0m                         Traceback (most recent call last)",
      "Cell \u001b[0;32mIn[29], line 5\u001b[0m\n\u001b[1;32m      3\u001b[0m \u001b[38;5;28mprint\u001b[39m(\u001b[38;5;124m\"\u001b[39m\u001b[38;5;124mbatch\u001b[39m\u001b[38;5;124m\"\u001b[39m, i)\n\u001b[1;32m      4\u001b[0m \u001b[38;5;28;01mfor\u001b[39;00m d \u001b[38;5;129;01min\u001b[39;00m data[\u001b[38;5;241m0\u001b[39m]:\n\u001b[0;32m----> 5\u001b[0m     pds \u001b[38;5;241m=\u001b[39m \u001b[43mpartialDerivative\u001b[49m\u001b[43m(\u001b[49m\u001b[43md\u001b[49m\u001b[43m,\u001b[49m\u001b[43m \u001b[49m\u001b[43mweights\u001b[49m\u001b[43m,\u001b[49m\u001b[43m \u001b[49m\u001b[43mbias\u001b[49m\u001b[43m,\u001b[49m\u001b[43m \u001b[49m\u001b[43mfunctions\u001b[49m\u001b[43m,\u001b[49m\u001b[43m \u001b[49m\u001b[43mderivatives\u001b[49m\u001b[43m,\u001b[49m\u001b[43m \u001b[49m\u001b[43mtypes\u001b[49m\u001b[43m)\u001b[49m\n\u001b[1;32m      6\u001b[0m     pds \u001b[38;5;241m=\u001b[39m torch\u001b[38;5;241m.\u001b[39msquare(pds)\n\u001b[1;32m      7\u001b[0m     T \u001b[38;5;241m+\u001b[39m\u001b[38;5;241m=\u001b[39m pds\n",
      "Cell \u001b[0;32mIn[23], line 18\u001b[0m, in \u001b[0;36mpartialDerivative\u001b[0;34m(X, w, b, f, df, types)\u001b[0m\n\u001b[1;32m     16\u001b[0m     pd \u001b[38;5;241m=\u001b[39m f[k](pd)\n\u001b[1;32m     17\u001b[0m \u001b[38;5;28;01melif\u001b[39;00m types[k] \u001b[38;5;241m==\u001b[39m \u001b[38;5;241m1\u001b[39m:\n\u001b[0;32m---> 18\u001b[0m     pd \u001b[38;5;241m=\u001b[39m \u001b[43mdf\u001b[49m\u001b[43m[\u001b[49m\u001b[43mk\u001b[49m\u001b[43m]\u001b[49m\u001b[43m(\u001b[49m\u001b[43my_0\u001b[49m\u001b[43m,\u001b[49m\u001b[43m \u001b[49m\u001b[43mw\u001b[49m\u001b[43m[\u001b[49m\u001b[43mk\u001b[49m\u001b[43m]\u001b[49m\u001b[43m,\u001b[49m\u001b[43m \u001b[49m\u001b[43mb\u001b[49m\u001b[43m[\u001b[49m\u001b[43mk\u001b[49m\u001b[43m]\u001b[49m\u001b[43m,\u001b[49m\u001b[43m \u001b[49m\u001b[43my_1\u001b[49m\u001b[43m,\u001b[49m\u001b[43m \u001b[49m\u001b[43mi\u001b[49m\u001b[43m,\u001b[49m\u001b[43m \u001b[49m\u001b[43mj\u001b[49m\u001b[43m)\u001b[49m \u001b[38;5;241m*\u001b[39m pd\n\u001b[1;32m     19\u001b[0m \u001b[38;5;28;01melif\u001b[39;00m types[k] \u001b[38;5;241m==\u001b[39m \u001b[38;5;241m2\u001b[39m:\n\u001b[1;32m     20\u001b[0m     pd \u001b[38;5;241m=\u001b[39m df[k](pd, y_0)\n",
      "Cell \u001b[0;32mIn[6], line -1\u001b[0m, in \u001b[0;36mdrelu\u001b[0;34m(x, w, b, y, i, j)\u001b[0m\n\u001b[1;32m      0\u001b[0m <Error retrieving source code with stack_data see ipython/ipython#13598>\n",
      "\u001b[0;31mKeyboardInterrupt\u001b[0m: "
     ]
    }
   ],
   "source": [
    "T = torch.zeros(28*28)\n",
    "for i, data in enumerate(trainloader, 0):\n",
    "    print(\"batch\", i)\n",
    "    for d in data[0]:\n",
    "        pds = partialDerivative(d, weights, bias, functions, derivatives, types)\n",
    "        pds = torch.square(pds)\n",
    "        T += pds"
   ]
  }
 ],
 "metadata": {
  "kernelspec": {
   "display_name": "banns_env",
   "language": "python",
   "name": "banns_env"
  },
  "language_info": {
   "codemirror_mode": {
    "name": "ipython",
    "version": 3
   },
   "file_extension": ".py",
   "mimetype": "text/x-python",
   "name": "python",
   "nbconvert_exporter": "python",
   "pygments_lexer": "ipython3",
   "version": "3.10.12"
  }
 },
 "nbformat": 4,
 "nbformat_minor": 5
}
