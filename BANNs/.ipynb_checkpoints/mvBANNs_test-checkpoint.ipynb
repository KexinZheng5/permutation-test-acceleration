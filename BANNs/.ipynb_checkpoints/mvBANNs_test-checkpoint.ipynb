{
 "cells": [
  {
   "cell_type": "markdown",
   "id": "1042a0e9-46eb-4c3b-9ec8-0442d5d3a1b5",
   "metadata": {
    "tags": []
   },
   "source": [
    "# Setup"
   ]
  },
  {
   "cell_type": "code",
   "execution_count": 76,
   "id": "664732ca-fda3-48de-a8c2-efa67df0549b",
   "metadata": {},
   "outputs": [],
   "source": [
    "import io\n",
    "import pandas as pd\n",
    "import numpy as np\n",
    "import matplotlib.pyplot as plt\n",
    "import os, sys\n",
    "from copy import deepcopy\n",
    "import time\n",
    "\n",
    "import torch.nn.functional as F\n",
    "import torchvision.models as models\n",
    "from torch.profiler import profile, record_function, ProfilerActivity\n",
    "\n",
    "from sklearn.preprocessing import StandardScaler\n",
    "\n",
    "BIN = \"/u/home/k/kzheng/.local/bin\"\n",
    "SOURCE = \"./_Source/\"\n",
    "DATA = \"./_Data/\"\n",
    "\n",
    "sys.path.append(SOURCE+'BANNs/')\n",
    "sys.path.append(SOURCE+'mvBANNs/')\n",
    "sys.path.append(SOURCE)\n",
    "sys.path.append(BIN)\n",
    "\n",
    "from mvBANNs import *\n",
    "from utils import *\n",
    "from data_generator import *\n",
    "\n",
    "# seed\n",
    "np.random.seed(111)"
   ]
  },
  {
   "cell_type": "markdown",
   "id": "c89532d7-90ff-48e1-8c3a-0bf92d145897",
   "metadata": {
    "tags": []
   },
   "source": [
    "# Permutation Test"
   ]
  },
  {
   "cell_type": "code",
   "execution_count": 88,
   "id": "4795fa83-d5e9-4335-a239-549ba28fa859",
   "metadata": {},
   "outputs": [],
   "source": [
    "import copy\n",
    "\n",
    "def norm(pip):\n",
    "    return pip / (np.sum(pip, axis=1).reshape((-1, 1)))\n",
    "    \n",
    "def permute(y, iteration):\n",
    "    y_perm = copy.deepcopy(y)\n",
    "    for i in range(iteration):\n",
    "        np.random.shuffle(y_perm)\n",
    "        y = np.concatenate((y,y_perm), axis=1)\n",
    "    return y\n",
    "\n",
    "# find p-value of each SNP\n",
    "def p_values(SNPpip_orig, SNPpip_perm):\n",
    "    p_vals = []\n",
    "\n",
    "    for i in range(len(SNPpip_orig)):\n",
    "        p_vals.append(sum(pip > SNPpip_orig[i] for pip in SNPpip_perm[:,i]) / len(SNPpip_perm))\n",
    "\n",
    "    return p_vals\n",
    "\n",
    "# alternative for overall p-value?\n",
    "def p_val(SNPpip_orig, SNPpip_perm):\n",
    "    mean_orig = np.sum(SNPpip_orig) / 1000\n",
    "    means_perm = [np.sum(pip) / 1000 for pip in SNPpip_perm]\n",
    "    p_val = sum(m > mean_orig for m in means_perm) / len(means_perm)\n",
    "\n",
    "    print(\"p-value:\", p_val)\n",
    "\n",
    "# get a list of causal SNPs given p-values and thresholds\n",
    "def get_causal(p_vals, threshold):\n",
    "    indices = []\n",
    "    for i in range(len(p_vals)):\n",
    "        if p_vals[i] <= threshold:\n",
    "            indices.append(i)\n",
    "    return indices"
   ]
  },
  {
   "cell_type": "markdown",
   "id": "131957fe-0ef1-4118-a83a-6cde14557ad9",
   "metadata": {
    "jp-MarkdownHeadingCollapsed": true,
    "tags": []
   },
   "source": [
    "## Synthetic Data"
   ]
  },
  {
   "cell_type": "code",
   "execution_count": 2,
   "id": "8fb8d5c6-f433-41ec-826d-8ee0120a7738",
   "metadata": {},
   "outputs": [
    {
     "name": "stdout",
     "output_type": "stream",
     "text": [
      "[[1. 0. 1. ... 0. 0. 0.]\n",
      " [0. 0. 1. ... 0. 0. 1.]\n",
      " [0. 1. 1. ... 0. 0. 1.]\n",
      " ...\n",
      " [0. 1. 0. ... 0. 0. 0.]\n",
      " [1. 1. 0. ... 1. 0. 1.]\n",
      " [1. 1. 1. ... 1. 1. 1.]]\n"
     ]
    }
   ],
   "source": [
    "# genotype\n",
    "N = 10000\n",
    "p = 1000\n",
    "lb = 0.05\n",
    "ub = 0.5\n",
    "\n",
    "# phenotype\n",
    "H2 = 0.3\n",
    "rho = 1\n",
    "ncausal1 = 10\n",
    "ncausal2 = 0\n",
    "effectSize1 = 1\n",
    "effectSize2 = 0\n",
    "\n",
    "# mask\n",
    "n = 5\n",
    "\n",
    "X, Xmean, Xstd = genoGen(N, p, lb, ub)\n",
    "y, add, mult1, mult2 = phenoGen(N, p, X, H2, rho, ncausal1, ncausal2, effectSize1, effectSize2, count=1)\n",
    "#y = y.flatten()\n",
    "mask = maskGen(p, n)"
   ]
  },
  {
   "cell_type": "code",
   "execution_count": 3,
   "id": "c9e70e3d-eb49-4f8b-ac36-7b2a822ce441",
   "metadata": {},
   "outputs": [
    {
     "data": {
      "text/plain": [
       "(10000, 1000)"
      ]
     },
     "execution_count": 3,
     "metadata": {},
     "output_type": "execute_result"
    }
   ],
   "source": [
    "X.shape"
   ]
  },
  {
   "cell_type": "code",
   "execution_count": 7,
   "id": "2d226657-0cb5-42db-94ba-1f168cc54578",
   "metadata": {},
   "outputs": [
    {
     "data": {
      "text/plain": [
       "(array([ 64,  96, 205, 331, 401, 417, 442, 555, 733, 766]),\n",
       " array([132, 227, 260, 419, 459, 536, 571, 607, 694, 814]))"
      ]
     },
     "execution_count": 7,
     "metadata": {},
     "output_type": "execute_result"
    }
   ],
   "source": [
    "mult1.sort()\n",
    "mult2.sort()\n",
    "mult1, mult2"
   ]
  },
  {
   "cell_type": "code",
   "execution_count": 6,
   "id": "b8b45dcb-bc12-40bb-b978-9967146e99ba",
   "metadata": {},
   "outputs": [],
   "source": [
    "y = permute(y, 100)\n",
    "#y = np.concatenate((y,y), axis=1)"
   ]
  },
  {
   "cell_type": "code",
   "execution_count": 7,
   "id": "cc4a92f2-7c5e-4b82-a66f-f82b66e6e057",
   "metadata": {},
   "outputs": [
    {
     "name": "stdout",
     "output_type": "stream",
     "text": [
      "cuda\n"
     ]
    }
   ],
   "source": [
    "device = torch.device(\"cuda\" if torch.cuda.is_available() else \"cpu\")\n",
    "\n",
    "y = torch.FloatTensor(y).cuda()\n",
    "X = torch.FloatTensor(X).cuda()\n",
    "\n",
    "print(device)"
   ]
  },
  {
   "cell_type": "code",
   "execution_count": 8,
   "id": "c491b587-04ee-4e83-955a-b969739550aa",
   "metadata": {},
   "outputs": [
    {
     "name": "stdout",
     "output_type": "stream",
     "text": [
      "torch.Size([10000, 1000]) torch.Size([10000, 101])\n"
     ]
    }
   ],
   "source": [
    "print(X.shape, y.shape)"
   ]
  },
  {
   "cell_type": "code",
   "execution_count": 9,
   "id": "6e2b8504-91d7-4370-ad14-ce1b9f421ff2",
   "metadata": {},
   "outputs": [
    {
     "name": "stdout",
     "output_type": "stream",
     "text": [
      "SNP LAYER\n",
      "Model  0\n"
     ]
    },
    {
     "data": {
      "application/vnd.jupyter.widget-view+json": {
       "model_id": "a90510e7c8fd48819c7704ed662694b2",
       "version_major": 2,
       "version_minor": 0
      },
      "text/plain": [
       "  0%|          | 0/1000 [00:00<?, ?it/s]"
      ]
     },
     "metadata": {},
     "output_type": "display_data"
    },
    {
     "name": "stderr",
     "output_type": "stream",
     "text": [
      "/u/home/k/kzheng/BANNs/mvBANNs_pytorch/mvBANNs.py:154: UserWarning: The use of `x.T` on tensors of dimension other than 2 to reverse their shape is deprecated and it will throw an error in a future release. Consider `x.mT` to transpose batches of matrices or `x.permute(*torch.arange(x.ndim - 1, -1, -1))` to reverse the dimensions of a tensor. (Triggered internally at ../aten/src/ATen/native/TensorShape.cpp:3697.)\n",
      "  term1 = Xy - torch.matmul(X.T, Xr) + (d * alpha * mu)\n",
      "/u/home/k/kzheng/BANNs/mvBANNs_pytorch/utils.py:56: UserWarning: To copy construct from a tensor, it is recommended to use sourceTensor.clone().detach() or sourceTensor.clone().detach().requires_grad_(True), rather than torch.tensor(sourceTensor).\n",
      "  loss = linearLoss + klEffect + (((alpha-1)*logodd.unsqueeze(1) + logsigmoid(torch.tensor(logodd.unsqueeze(1)))).sum(-1)).sum()\n"
     ]
    },
    {
     "data": {
      "application/vnd.jupyter.widget-view+json": {
       "model_id": "a74b8b4492664b18bb492141ca5d114a",
       "version_major": 2,
       "version_minor": 0
      },
      "text/plain": [
       "  0%|          | 0/1000 [00:00<?, ?it/s]"
      ]
     },
     "metadata": {},
     "output_type": "display_data"
    },
    {
     "data": {
      "application/vnd.jupyter.widget-view+json": {
       "model_id": "e7f999e78c26491585b76759ad041cb0",
       "version_major": 2,
       "version_minor": 0
      },
      "text/plain": [
       "  0%|          | 0/1000 [00:00<?, ?it/s]"
      ]
     },
     "metadata": {},
     "output_type": "display_data"
    },
    {
     "data": {
      "application/vnd.jupyter.widget-view+json": {
       "model_id": "798b8114e0704c3fa34d2c1612026d8e",
       "version_major": 2,
       "version_minor": 0
      },
      "text/plain": [
       "  0%|          | 0/1000 [00:00<?, ?it/s]"
      ]
     },
     "metadata": {},
     "output_type": "display_data"
    },
    {
     "data": {
      "application/vnd.jupyter.widget-view+json": {
       "model_id": "ca7c8b1ccbc746dcbbb1949a94f66ae4",
       "version_major": 2,
       "version_minor": 0
      },
      "text/plain": [
       "  0%|          | 0/1000 [00:00<?, ?it/s]"
      ]
     },
     "metadata": {},
     "output_type": "display_data"
    },
    {
     "data": {
      "application/vnd.jupyter.widget-view+json": {
       "model_id": "fad0f3d3965e4efeabc702679b958407",
       "version_major": 2,
       "version_minor": 0
      },
      "text/plain": [
       "  0%|          | 0/1000 [00:00<?, ?it/s]"
      ]
     },
     "metadata": {},
     "output_type": "display_data"
    },
    {
     "data": {
      "application/vnd.jupyter.widget-view+json": {
       "model_id": "ebb03de0bb4a4478a1dc974ec3387931",
       "version_major": 2,
       "version_minor": 0
      },
      "text/plain": [
       "  0%|          | 0/1000 [00:00<?, ?it/s]"
      ]
     },
     "metadata": {},
     "output_type": "display_data"
    },
    {
     "data": {
      "application/vnd.jupyter.widget-view+json": {
       "model_id": "6ca834d8d27f4cadb4cd2d95de307ffd",
       "version_major": 2,
       "version_minor": 0
      },
      "text/plain": [
       "  0%|          | 0/1000 [00:00<?, ?it/s]"
      ]
     },
     "metadata": {},
     "output_type": "display_data"
    },
    {
     "data": {
      "application/vnd.jupyter.widget-view+json": {
       "model_id": "7f71d8285f934dbba29aafd62662ca48",
       "version_major": 2,
       "version_minor": 0
      },
      "text/plain": [
       "  0%|          | 0/1000 [00:00<?, ?it/s]"
      ]
     },
     "metadata": {},
     "output_type": "display_data"
    },
    {
     "data": {
      "application/vnd.jupyter.widget-view+json": {
       "model_id": "265010f2d6694524b328b193b601a7ef",
       "version_major": 2,
       "version_minor": 0
      },
      "text/plain": [
       "  0%|          | 0/1000 [00:00<?, ?it/s]"
      ]
     },
     "metadata": {},
     "output_type": "display_data"
    },
    {
     "data": {
      "application/vnd.jupyter.widget-view+json": {
       "model_id": "8c289181a3ed4824a22520cd3c950ada",
       "version_major": 2,
       "version_minor": 0
      },
      "text/plain": [
       "  0%|          | 0/1000 [00:00<?, ?it/s]"
      ]
     },
     "metadata": {},
     "output_type": "display_data"
    },
    {
     "data": {
      "application/vnd.jupyter.widget-view+json": {
       "model_id": "c29b0229d844469cadac2ba04bfd6c79",
       "version_major": 2,
       "version_minor": 0
      },
      "text/plain": [
       "  0%|          | 0/1000 [00:00<?, ?it/s]"
      ]
     },
     "metadata": {},
     "output_type": "display_data"
    },
    {
     "data": {
      "application/vnd.jupyter.widget-view+json": {
       "model_id": "1a3a842aaef8440db8394fdb95aba82c",
       "version_major": 2,
       "version_minor": 0
      },
      "text/plain": [
       "  0%|          | 0/1000 [00:00<?, ?it/s]"
      ]
     },
     "metadata": {},
     "output_type": "display_data"
    },
    {
     "data": {
      "application/vnd.jupyter.widget-view+json": {
       "model_id": "ef58791a29ec4d86ad8ad42cceb9eeec",
       "version_major": 2,
       "version_minor": 0
      },
      "text/plain": [
       "  0%|          | 0/1000 [00:00<?, ?it/s]"
      ]
     },
     "metadata": {},
     "output_type": "display_data"
    },
    {
     "data": {
      "application/vnd.jupyter.widget-view+json": {
       "model_id": "bb8ee82d7c71444fa40e0d8f238af2f7",
       "version_major": 2,
       "version_minor": 0
      },
      "text/plain": [
       "  0%|          | 0/1000 [00:00<?, ?it/s]"
      ]
     },
     "metadata": {},
     "output_type": "display_data"
    },
    {
     "data": {
      "application/vnd.jupyter.widget-view+json": {
       "model_id": "44032b9017a44d388c5dc06d0411e52d",
       "version_major": 2,
       "version_minor": 0
      },
      "text/plain": [
       "  0%|          | 0/1000 [00:00<?, ?it/s]"
      ]
     },
     "metadata": {},
     "output_type": "display_data"
    },
    {
     "data": {
      "application/vnd.jupyter.widget-view+json": {
       "model_id": "a079a88a03cf49aebb8aed7f28c037eb",
       "version_major": 2,
       "version_minor": 0
      },
      "text/plain": [
       "  0%|          | 0/1000 [00:00<?, ?it/s]"
      ]
     },
     "metadata": {},
     "output_type": "display_data"
    },
    {
     "name": "stdout",
     "output_type": "stream",
     "text": [
      "Best Loss:  10914458.0\n",
      "SET LAYER\n"
     ]
    }
   ],
   "source": [
    "model = mvBANNs(X, y, mask, 1, 200, device=device, terminate='SNP').eval()\n",
    "with torch.no_grad():\n",
    "    model.optimize(X, y, mask)"
   ]
  },
  {
   "cell_type": "code",
   "execution_count": 38,
   "id": "c4b58cb3-5387-4729-a5cd-a10350c7f191",
   "metadata": {},
   "outputs": [],
   "source": [
    "pvals = model.SNP_alpha.cpu().numpy()"
   ]
  },
  {
   "cell_type": "code",
   "execution_count": 11,
   "id": "9a9dc39a-8cc8-4310-9586-707049d6c355",
   "metadata": {
    "executionInfo": {
     "elapsed": 9,
     "status": "ok",
     "timestamp": 1721413146302,
     "user": {
      "displayName": "KEXIN ZHENG",
      "userId": "07736618042047162701"
     },
     "user_tz": 420
    },
    "id": "7RQEfCeTqmrn"
   },
   "outputs": [],
   "source": [
    "ind = np.argpartition(pvals[0], -10)[-10:]"
   ]
  },
  {
   "cell_type": "code",
   "execution_count": 12,
   "id": "d78294e7-2917-4624-b43f-26db7053dcc8",
   "metadata": {},
   "outputs": [
    {
     "data": {
      "text/plain": [
       "array([151, 214, 228, 421, 443, 543, 591, 632, 670, 948])"
      ]
     },
     "execution_count": 12,
     "metadata": {},
     "output_type": "execute_result"
    }
   ],
   "source": [
    "ind.sort()\n",
    "ind"
   ]
  },
  {
   "cell_type": "code",
   "execution_count": 78,
   "id": "5fd2e202-64b7-452e-b715-5cce869cba70",
   "metadata": {},
   "outputs": [
    {
     "data": {
      "application/vnd.jupyter.widget-view+json": {
       "model_id": "bdfbab4654404bbd95879b76a47b798b",
       "version_major": 2,
       "version_minor": 0
      },
      "text/plain": [
       "  0%|          | 0/999 [00:00<?, ?it/s]"
      ]
     },
     "metadata": {},
     "output_type": "display_data"
    }
   ],
   "source": [
    "res = compute_power(pvals[0], add, stop_early=False)"
   ]
  },
  {
   "cell_type": "code",
   "execution_count": 30,
   "id": "8bdb4813-11e0-4721-8430-b719644b0725",
   "metadata": {},
   "outputs": [],
   "source": []
  },
  {
   "cell_type": "code",
   "execution_count": 28,
   "id": "b8cd1f0e-cb0d-412f-befb-b01e5ce8b660",
   "metadata": {},
   "outputs": [],
   "source": [
    "p_vals = p_values(pvals[0], pvals[1:])\n",
    "causals = get_causal(pvals[0], 0.05)"
   ]
  },
  {
   "cell_type": "code",
   "execution_count": 29,
   "id": "2569066d-f916-4498-8466-f38838bfde20",
   "metadata": {},
   "outputs": [],
   "source": [
    "FP = 0\n",
    "FN = 20\n",
    "for i in range(len(causals)):\n",
    "  if causals[i] in mult1 or causals[i] in mult2:\n",
    "    FN -= 1\n",
    "  else:\n",
    "    FP += 1"
   ]
  },
  {
   "cell_type": "code",
   "execution_count": 30,
   "id": "aa3fb1bb-b866-438f-a87c-4bc330b643ce",
   "metadata": {},
   "outputs": [
    {
     "name": "stdout",
     "output_type": "stream",
     "text": [
      "988 20 988\n"
     ]
    }
   ],
   "source": [
    "print(FP, FN, len(causals))"
   ]
  },
  {
   "cell_type": "code",
   "execution_count": 34,
   "id": "dd72957a-a2c2-4a60-9000-d58d47c14b1c",
   "metadata": {
    "collapsed": true,
    "jupyter": {
     "outputs_hidden": true
    },
    "tags": []
   },
   "outputs": [
    {
     "data": {
      "text/plain": [
       "array([6.07535308e-17, 4.51747188e-17, 7.78782540e-17, 4.27265389e-17,\n",
       "       4.60449856e-17, 8.02101158e-17, 4.84550525e-17, 7.93954885e-17,\n",
       "       3.85113753e-17, 5.82647362e-17, 4.51912691e-17, 3.99922172e-17,\n",
       "       3.96463466e-17, 3.84960990e-17, 4.45293558e-17, 3.92038876e-17,\n",
       "       3.85826915e-17, 9.01582332e-17, 3.89654876e-17, 3.90197738e-17,\n",
       "       1.68732947e-16, 5.15616417e-17, 4.86907460e-17, 5.36850078e-17,\n",
       "       5.97001659e-17, 4.67294247e-17, 4.18643486e-17, 5.87252972e-17,\n",
       "       3.85445883e-17, 6.31341698e-17, 5.27312619e-17, 5.05566338e-17,\n",
       "       3.99597388e-17, 5.56044506e-17, 4.54873700e-17, 3.91650234e-17,\n",
       "       3.90078690e-17, 3.84949244e-17, 6.56934931e-17, 3.83521629e-17,\n",
       "       4.84469196e-17, 4.90112652e-17, 4.28500998e-17, 3.84110185e-17,\n",
       "       1.30759785e-16, 4.16346902e-17, 1.07661051e-16, 5.55268743e-17,\n",
       "       4.01536432e-17, 6.25573669e-17, 5.19543805e-16, 5.13588601e-17,\n",
       "       4.87126630e-17, 4.15355444e-17, 4.18611524e-17, 3.85663597e-17,\n",
       "       4.23568619e-17, 2.03153229e-14, 1.04165326e-16, 3.84183473e-17,\n",
       "       3.83518718e-17, 5.26972780e-17, 5.28970719e-17, 4.56608760e-17,\n",
       "       2.99852681e-16, 3.92014954e-17, 7.76344342e-17, 5.20547274e-17,\n",
       "       9.58426912e-17, 4.10290948e-17, 4.57424625e-17, 1.23724872e-16,\n",
       "       1.62625826e-16, 5.01440692e-17, 3.87403489e-17, 6.25442378e-17,\n",
       "       5.18959187e-17, 8.92486985e-17, 5.12129123e-17, 5.82972014e-17,\n",
       "       2.09839403e-16, 3.86843785e-17, 9.23255060e-17, 4.60225095e-17,\n",
       "       1.26536254e-16, 3.83550911e-17, 4.60082886e-17, 6.30824082e-17,\n",
       "       4.01031289e-17, 9.47532017e-17, 9.09527501e-17, 1.03632648e-16,\n",
       "       4.15499638e-17, 3.98075938e-17, 2.30965132e-16, 4.88882105e-17,\n",
       "       7.16255825e-17, 3.94326196e-17, 9.96990337e-17, 4.68533032e-17,\n",
       "       7.78740916e-17, 4.31990310e-17, 3.95815154e-17, 7.08670446e-17,\n",
       "       6.22004285e-17, 7.03450606e-17, 4.21833591e-17, 7.63702111e-17,\n",
       "       4.02177199e-17, 4.01225610e-17, 3.88858963e-17, 1.82319276e-16,\n",
       "       4.69146436e-17, 3.90491089e-17, 1.29153585e-16, 3.93220620e-17,\n",
       "       4.02671555e-17, 4.89798655e-17, 3.86883655e-17, 3.96911400e-17,\n",
       "       7.42751082e-17, 4.48301816e-17, 5.02261983e-17, 2.28739164e-14,\n",
       "       8.43099670e-17, 4.64291382e-17, 8.03139104e-17, 3.92746877e-17,\n",
       "       5.84131788e-17, 3.96053846e-17, 5.99281170e-17, 2.45299021e-16,\n",
       "       4.87381302e-17, 8.72780896e-17, 4.09059507e-17, 1.12335217e-16,\n",
       "       1.05525138e-16, 1.46061289e-16, 3.84905172e-17, 1.97074735e-16,\n",
       "       4.31019068e-17, 3.97996992e-17, 3.86585672e-17, 5.84486218e-17,\n",
       "       3.87752393e-17, 7.19136001e-17, 3.93142633e-17, 3.92000032e-17,\n",
       "       7.24043962e-17, 4.72562725e-17, 1.16032952e-16, 4.65804627e-17,\n",
       "       4.68427550e-17, 5.51296555e-17, 3.83985678e-17, 1.31369251e-16,\n",
       "       5.15150450e-17, 9.16608564e-17, 1.24345165e-16, 4.89645494e-17,\n",
       "       4.01193450e-17, 3.83521629e-17, 1.64348969e-16, 6.38116374e-17,\n",
       "       4.37676383e-17, 3.94712986e-17, 4.44959080e-17, 3.84133677e-17,\n",
       "       3.97144632e-17, 6.13296125e-17, 3.83988589e-17, 1.01095771e-16,\n",
       "       4.51297698e-17, 5.58894110e-17, 4.44222988e-17, 5.68085344e-17,\n",
       "       3.84871423e-17, 1.74449427e-16, 3.85099063e-17, 1.91373145e-16,\n",
       "       1.35692494e-16, 8.66811762e-17, 5.28555177e-17, 5.03772084e-17,\n",
       "       4.07848813e-17, 5.16222608e-17, 4.62608335e-17, 3.86829028e-17,\n",
       "       4.13333847e-17, 3.90394276e-17, 4.22252145e-17, 4.76816253e-17,\n",
       "       5.52254265e-17, 6.87207624e-17, 5.88324733e-17, 5.92708393e-17,\n",
       "       5.09793992e-17, 3.98287068e-17, 5.34198401e-17, 7.66892910e-17,\n",
       "       4.13092674e-17, 7.24226272e-17, 6.42255784e-17, 4.03712777e-17,\n",
       "       3.96917455e-17, 3.83672308e-17, 3.86765600e-17, 3.92808353e-17,\n",
       "       4.73797441e-17, 4.51397589e-17, 3.95626491e-17, 4.72865672e-17,\n",
       "       6.82687380e-17, 3.44383929e-16, 3.93730924e-17, 8.35581856e-17,\n",
       "       2.71733675e-16, 1.84976471e-16, 4.27126885e-17, 1.56478087e-16,\n",
       "       5.37194218e-17, 3.88114996e-17, 7.88569939e-17, 7.72495107e-17,\n",
       "       3.98205045e-17, 7.10104711e-17, 6.97194010e-17, 4.24174942e-17,\n",
       "       5.85014819e-17, 8.43749636e-17, 5.22247825e-17, 4.02605480e-17,\n",
       "       4.43907932e-17, 5.05425552e-17, 6.79004573e-17, 4.33213115e-17,\n",
       "       4.06829461e-17, 4.34225650e-17, 3.97863386e-17, 4.20504874e-17,\n",
       "       3.88282318e-17, 3.83744042e-17, 8.13660842e-17, 4.24558589e-17,\n",
       "       8.54845834e-17, 4.11262488e-17, 3.90643092e-17, 3.84708501e-17,\n",
       "       4.31333297e-17, 3.92089731e-17, 4.14050285e-17, 3.18512817e-16,\n",
       "       4.07478699e-17, 3.97421969e-17, 4.03398713e-17, 5.19161151e-17,\n",
       "       8.02251109e-17, 1.39601459e-16, 3.58650849e-16, 6.87108031e-17,\n",
       "       4.51209885e-17, 4.03794403e-17, 7.99965245e-17, 7.14065120e-17,\n",
       "       5.33685119e-17, 4.22121682e-17, 3.66058232e-16, 6.52099008e-16,\n",
       "       4.64183386e-17, 5.28970719e-17, 1.46051813e-16, 4.48245369e-17,\n",
       "       3.83521629e-17, 5.05641546e-17, 3.87569057e-17, 4.44675721e-17,\n",
       "       1.35392592e-16, 8.64962054e-17, 4.26543955e-17, 4.48226575e-17,\n",
       "       4.28886927e-17, 4.08968981e-17, 1.01463185e-16, 4.06009295e-17,\n",
       "       4.76459904e-17, 5.89670655e-17, 4.82694563e-17, 4.86029689e-17,\n",
       "       4.02474951e-17, 1.76043821e-16, 3.89454202e-17, 5.45181441e-17,\n",
       "       5.78417889e-16, 6.22248733e-17, 6.56261077e-17, 4.21084331e-17,\n",
       "       5.10827703e-17, 1.46387609e-16, 5.45297974e-17, 3.83654772e-17,\n",
       "       1.16049324e-16, 6.83450834e-17, 6.23341604e-17, 3.95718540e-17,\n",
       "       8.23616391e-17, 2.01437551e-16, 3.91729445e-17, 4.00833957e-17,\n",
       "       3.86742009e-17, 5.68968045e-17, 4.09320168e-17, 3.89139410e-17,\n",
       "       5.31468573e-17, 4.08208371e-17, 3.83512828e-17, 1.24308650e-16,\n",
       "       4.24210577e-17, 3.83525997e-17, 4.89253377e-17, 3.97714692e-17,\n",
       "       4.19351553e-17, 4.91698755e-17, 7.06664699e-17, 8.41124032e-17,\n",
       "       4.92002727e-17, 4.07865919e-17, 4.77823230e-17, 6.14989926e-17,\n",
       "       4.89574489e-17, 4.22637518e-16, 4.42583979e-17, 4.27668159e-17,\n",
       "       4.58890985e-17, 6.46181064e-15, 7.34220997e-17, 4.22626030e-17,\n",
       "       4.62892554e-17, 1.56070395e-15, 4.96251358e-17, 1.77873835e-16,\n",
       "       1.01704212e-16, 4.06153390e-17, 6.56466416e-17, 3.97773819e-17,\n",
       "       8.80220360e-17, 5.80161122e-17, 3.88620172e-17, 4.03126472e-17,\n",
       "       4.56354518e-17, 1.04539516e-16, 4.48524162e-17, 4.41545206e-17,\n",
       "       2.92441037e-16, 5.34229007e-17, 6.76979503e-17, 4.92100367e-17,\n",
       "       4.09187455e-17, 3.83626946e-17, 5.42428716e-17, 6.70257701e-16,\n",
       "       1.55553802e-16, 7.80528354e-17, 4.13849776e-17, 5.63097114e-17,\n",
       "       1.47197888e-16, 5.16100517e-17, 5.33514091e-17, 2.23089288e-16,\n",
       "       3.85899046e-17, 5.86789750e-16, 4.55717788e-17, 4.59022507e-16,\n",
       "       4.53134867e-17, 4.59726735e-17, 4.23749606e-17, 6.79074519e-17,\n",
       "       4.91198244e-17, 4.47478275e-17, 8.45573337e-17, 4.18656437e-16,\n",
       "       5.62176363e-17, 4.04755223e-17, 4.34147829e-17, 3.90026611e-17,\n",
       "       3.92404186e-16, 3.85573864e-17, 7.42612248e-17, 4.13143099e-17,\n",
       "       4.67454720e-17, 9.13972439e-17, 3.95735150e-17, 3.85626804e-17,\n",
       "       8.73213809e-17, 8.87083312e-17, 4.30826798e-17, 4.57457779e-17,\n",
       "       3.83546478e-17, 4.90254762e-17, 4.25343219e-17, 5.80743523e-17,\n",
       "       1.39314182e-16, 4.15075095e-17, 1.21080289e-16, 3.91194854e-17,\n",
       "       4.37968709e-17, 2.24177857e-16, 3.84953677e-17, 4.57653258e-17,\n",
       "       5.24692336e-16, 5.90008145e-17, 6.70016958e-17, 4.00615416e-17,\n",
       "       3.83748442e-17, 6.81745320e-17, 3.02361275e-16, 9.00324488e-17,\n",
       "       7.09438665e-17, 3.85550306e-17, 4.19647551e-17, 1.35454068e-16,\n",
       "       4.51659342e-17, 5.20527422e-17, 1.62823291e-15, 4.93199724e-17,\n",
       "       1.62545199e-16, 5.73176806e-17, 4.40507194e-17, 3.89351731e-17,\n",
       "       4.06379641e-17, 5.25084459e-17, 7.21122161e-17, 3.99173806e-17,\n",
       "       4.11409957e-17, 4.06237068e-17, 1.37664864e-16, 5.26900385e-17,\n",
       "       6.47804445e-17, 4.82289608e-17, 4.02809794e-17, 4.99611796e-16,\n",
       "       1.63691380e-16, 8.31686298e-17, 5.22459054e-17, 4.89673453e-17,\n",
       "       4.37739877e-17, 6.66789034e-17, 2.97174389e-16, 3.86697771e-17,\n",
       "       3.86986954e-17, 4.54714087e-17, 1.40147319e-16, 1.10685203e-16,\n",
       "       4.97113512e-17, 4.15423570e-17, 5.30253610e-17, 3.94189314e-17,\n",
       "       3.99367267e-17, 7.63728316e-17, 4.60065575e-16, 3.87323715e-17,\n",
       "       3.98860238e-17, 1.18409991e-16, 3.83602097e-17, 6.05903949e-16,\n",
       "       4.30289693e-17, 4.89328022e-17, 3.83645971e-17, 3.91356022e-17,\n",
       "       3.83742619e-17, 5.65913763e-17, 3.84937498e-17, 4.23143878e-17,\n",
       "       4.22174853e-17, 4.13343310e-17, 5.35310165e-17, 4.17328038e-17,\n",
       "       4.52280025e-17, 6.20499412e-17, 3.88700243e-17, 4.71309745e-17,\n",
       "       5.48565238e-17, 2.26840294e-16, 4.89268300e-17, 4.44852142e-17,\n",
       "       4.17679953e-17, 4.85286715e-17, 2.21938302e-16, 3.90236450e-17,\n",
       "       3.84980081e-17, 9.34376867e-17, 4.51909283e-17, 5.56524072e-17,\n",
       "       5.21246771e-17, 5.60687901e-17, 3.92492271e-17, 4.05271219e-17,\n",
       "       4.81840912e-17, 4.43545693e-17, 3.83509916e-17, 3.98919596e-17,\n",
       "       5.37190148e-17, 4.68279286e-17, 7.27549090e-17, 5.83463624e-17,\n",
       "       4.56178693e-17, 4.66725940e-17, 3.89381443e-17, 5.96657949e-17,\n",
       "       1.68259866e-16, 6.13239942e-17, 4.83302607e-17, 3.84431230e-17,\n",
       "       2.32017783e-16, 1.63499792e-16, 7.18127172e-17, 4.47432184e-17,\n",
       "       4.26558612e-17, 5.61880497e-17, 1.07455083e-16, 5.64516622e-17,\n",
       "       1.07206545e-16, 6.97585035e-17, 3.96047758e-17, 4.02975792e-17,\n",
       "       6.20232067e-17, 5.24964286e-17, 5.69528278e-17, 4.10593166e-17,\n",
       "       7.68565205e-17, 4.72321255e-17, 3.86435257e-17, 4.80435003e-17,\n",
       "       4.64032905e-17, 3.92944705e-17, 3.83621156e-17, 3.99091617e-17,\n",
       "       5.27370985e-17, 4.07788164e-17, 4.52532017e-17, 4.02419662e-17,\n",
       "       4.47148958e-17, 2.03282494e-16, 9.08813016e-17, 6.75122581e-17,\n",
       "       3.90477689e-17, 8.42315305e-17, 4.62867771e-17, 4.29543510e-17,\n",
       "       4.64635092e-17, 5.09041986e-17, 8.27619415e-17, 3.87932950e-17,\n",
       "       2.07061108e-16, 4.02350609e-17, 3.90179904e-17, 4.04304575e-17,\n",
       "       4.37015763e-17, 6.33442869e-17, 2.04036076e-16, 7.52183190e-17,\n",
       "       7.59903830e-17, 1.15734559e-16, 4.30590191e-17, 9.05870966e-17,\n",
       "       5.88444059e-16, 5.88432531e-17, 8.16723925e-17, 4.28986983e-16,\n",
       "       4.00928818e-17, 4.52587703e-15, 7.20742929e-16, 1.03467523e-16,\n",
       "       3.92565691e-17, 4.61709189e-17, 5.43443534e-17, 4.65089082e-17,\n",
       "       5.89906898e-17, 3.86713951e-17, 4.21671100e-17, 5.55923605e-17,\n",
       "       3.96616229e-17, 4.72784542e-17, 4.10172032e-17, 8.54679537e-17,\n",
       "       1.49621462e-16, 4.05432022e-17, 4.61242659e-17, 4.24863190e-17,\n",
       "       6.54238984e-17, 4.47002527e-16, 3.95069997e-17, 4.37374330e-17,\n",
       "       3.83934392e-17, 6.08871701e-17, 4.06644835e-17, 4.24273642e-17,\n",
       "       1.31711969e-16, 4.85914744e-17, 6.87913242e-17, 4.00245732e-17,\n",
       "       4.59511106e-17, 4.09434187e-17, 8.24940210e-17, 9.82297624e-17,\n",
       "       3.88790704e-17, 4.02521008e-17, 1.70781205e-16, 5.87246288e-17,\n",
       "       1.08286293e-16, 4.30192880e-17, 7.19723300e-17, 3.95499734e-17,\n",
       "       4.06686723e-17, 5.52838122e-17, 3.86122881e-17, 3.85343015e-17,\n",
       "       1.16705483e-16, 3.85657674e-17, 3.87824921e-17, 1.26516454e-16,\n",
       "       4.50099312e-17, 3.86405776e-17, 3.87523231e-17, 5.87055904e-17,\n",
       "       5.76899317e-17, 4.84635559e-17, 2.17969662e-16, 7.46178852e-17,\n",
       "       6.41601980e-17, 4.03038790e-17, 4.94978989e-17, 9.63202788e-17,\n",
       "       3.95979763e-17, 4.59619764e-17, 5.12138851e-17, 5.49916586e-17,\n",
       "       3.86485384e-17, 3.86982553e-17, 9.96290873e-17, 7.29800610e-17,\n",
       "       3.90987464e-17, 7.38930235e-17, 5.09438272e-17, 6.17267452e-17,\n",
       "       4.13297584e-17, 4.09904555e-17, 4.18785596e-17, 4.49303598e-16,\n",
       "       4.30716684e-17, 5.44595300e-17, 4.73320522e-17, 4.28344131e-17,\n",
       "       7.67548500e-17, 4.81235046e-16, 1.17146165e-16, 5.51422750e-17,\n",
       "       4.17694313e-17, 7.18461419e-17, 4.76807188e-17, 4.13387449e-17,\n",
       "       4.73071375e-17, 1.27448932e-16, 5.07463758e-17, 4.40552556e-17,\n",
       "       2.12385001e-16, 5.57118848e-17, 5.82467434e-17, 3.83648916e-17,\n",
       "       5.27129613e-17, 3.84289021e-17, 4.60051288e-17, 4.20792105e-17,\n",
       "       4.10315995e-17, 3.91825100e-17, 4.72461809e-17, 7.30859335e-17,\n",
       "       4.00731519e-17, 4.96876508e-17, 4.69789387e-17, 3.91826589e-17,\n",
       "       1.03554787e-16, 1.65133904e-16, 4.56415399e-17, 2.11398896e-16,\n",
       "       1.62965526e-16, 4.63847054e-17, 3.35757587e-16, 1.94400176e-16,\n",
       "       2.19225481e-16, 5.67764729e-17, 6.67583128e-17, 6.14710868e-17,\n",
       "       6.88527539e-17, 1.54252641e-16, 8.06214893e-17, 3.88365301e-17,\n",
       "       4.77495236e-17, 4.02825146e-17, 6.66427920e-17, 6.81591928e-17,\n",
       "       8.98581387e-17, 3.85622403e-17, 3.87103619e-17, 6.57188048e-17,\n",
       "       5.65038011e-17, 2.77847850e-16, 4.73587834e-17, 3.94678344e-17,\n",
       "       4.27490382e-17, 6.04327038e-17, 8.17640441e-17, 4.70901813e-17,\n",
       "       9.52776739e-17, 5.59860786e-17, 1.87759001e-16, 5.41851708e-17,\n",
       "       1.05647190e-16, 5.09156534e-17, 5.63266851e-17, 1.22055065e-16,\n",
       "       7.70802497e-17, 1.13520732e-16, 6.55455535e-17, 7.18628708e-17,\n",
       "       3.83925624e-17, 3.83856803e-17, 4.39401187e-17, 1.25197624e-16,\n",
       "       5.06031346e-17, 3.84802436e-17, 4.00600097e-17, 6.15823327e-17,\n",
       "       7.32436272e-17, 6.47340033e-17, 4.24778917e-17, 3.89686044e-17,\n",
       "       4.65875698e-17, 6.82846265e-17, 1.34637025e-16, 5.04710802e-17,\n",
       "       3.86093400e-17, 3.84883202e-17, 4.18064195e-17, 5.45610086e-17,\n",
       "       7.45208801e-17, 6.38432952e-17, 1.09733820e-16, 4.03318741e-17,\n",
       "       4.19253946e-17, 4.79442717e-17, 9.74482289e-17, 5.45712060e-17,\n",
       "       3.83581616e-17, 1.85462575e-16, 6.63700607e-17, 1.07145644e-16,\n",
       "       1.45775164e-16, 4.38873446e-17, 5.50949669e-17, 8.10182713e-17,\n",
       "       3.90713138e-17, 5.29703667e-17, 4.17265900e-17, 5.97758298e-17,\n",
       "       3.96844796e-17, 4.27341985e-17, 6.58312088e-17, 7.70664258e-17,\n",
       "       5.09832903e-17, 7.31944662e-17, 4.32923999e-17, 4.00439690e-17,\n",
       "       1.35466469e-16, 4.59744271e-17, 5.11635065e-17, 3.62326602e-16,\n",
       "       4.43469526e-17, 9.45553335e-17, 6.21762351e-17, 7.45456161e-17,\n",
       "       9.50935832e-17, 1.55577533e-16, 3.89952264e-17, 4.78326553e-17,\n",
       "       4.03143379e-17, 4.52016154e-17, 4.19681201e-17, 3.89283405e-17,\n",
       "       4.30631253e-17, 7.02581735e-17, 4.64902801e-17, 3.94512775e-17,\n",
       "       8.08503205e-17, 1.23533403e-16, 2.59024184e-16, 5.88931023e-17,\n",
       "       1.69984332e-16, 3.86187665e-17, 3.98296167e-17, 6.25168085e-17,\n",
       "       3.88775847e-17, 3.83509916e-17, 7.58450043e-17, 3.85293020e-17,\n",
       "       4.05234128e-17, 5.59344162e-17, 3.86508976e-17, 3.97895282e-17,\n",
       "       8.95040591e-17, 8.53369879e-17, 1.26545915e-16, 3.85110776e-17,\n",
       "       1.91414027e-16, 7.33619074e-17, 6.10488078e-17, 3.90093579e-17,\n",
       "       3.93357138e-17, 4.59290281e-17, 4.62195571e-17, 6.42329648e-16,\n",
       "       7.16747766e-17, 3.86000623e-17, 4.06955193e-17, 1.41240031e-16,\n",
       "       5.34294460e-16, 3.80897587e-15, 4.45630022e-17, 6.34516682e-17,\n",
       "       8.85923340e-17, 5.17091744e-17, 5.04549105e-17, 4.00899734e-17,\n",
       "       4.34769306e-17, 3.94722019e-17, 7.10540933e-17, 5.50052939e-17,\n",
       "       8.72588249e-16, 3.83723561e-17, 7.33465152e-17, 8.47052005e-17,\n",
       "       3.95098618e-17, 3.83975421e-17, 4.61291959e-17, 9.17808638e-17,\n",
       "       4.44092558e-17, 5.38827866e-17, 4.74396055e-17, 4.37174152e-17,\n",
       "       3.93402169e-17, 8.05984209e-17, 3.84833273e-17, 9.77755277e-17,\n",
       "       3.91468023e-17, 4.94541146e-17, 4.57513597e-17, 4.29956604e-17,\n",
       "       8.99531454e-17, 3.85044700e-17, 1.09051998e-15, 1.26909451e-16,\n",
       "       7.35577837e-17, 5.95266565e-17, 6.73021807e-17, 4.98199402e-17,\n",
       "       3.96378762e-17, 1.75187642e-16, 7.35263641e-17, 4.17250018e-17,\n",
       "       4.44355205e-17, 5.53716092e-17, 8.78874835e-17, 3.84718758e-17,\n",
       "       1.05235307e-16, 7.76237735e-17, 4.61577105e-17, 3.83509916e-17,\n",
       "       4.76939967e-17, 6.36167139e-17, 6.88732416e-17, 4.08731911e-17,\n",
       "       3.86118414e-17, 3.98664031e-17, 3.91566589e-17, 6.89781479e-17,\n",
       "       8.56739217e-17, 5.11030429e-17, 4.12938289e-17, 3.86435257e-17,\n",
       "       3.94940394e-17, 4.48733008e-17, 4.06601424e-17, 4.45346233e-17,\n",
       "       1.65694838e-16, 1.05174711e-16, 1.12688019e-16, 1.53611397e-16,\n",
       "       3.95219220e-17, 8.53952743e-17, 6.76192291e-17, 1.29960159e-16,\n",
       "       3.90680315e-17, 5.65598640e-17, 6.54785717e-17, 9.77251954e-17,\n",
       "       4.86773688e-17, 3.86136082e-17, 5.98385698e-17, 3.85015352e-17,\n",
       "       3.83992990e-17, 8.88109281e-17, 1.26680659e-16, 5.90176956e-17,\n",
       "       3.88183123e-17, 8.13204767e-17, 4.20922356e-16, 3.83509916e-17,\n",
       "       5.25615575e-17, 3.89815415e-17, 1.89001506e-16, 7.42306389e-17,\n",
       "       3.11657117e-16, 3.90176926e-17, 1.51560810e-16, 1.54471096e-16,\n",
       "       5.49843166e-17, 4.41568764e-17, 4.10065657e-17, 4.85249691e-17,\n",
       "       4.12497435e-17, 7.45356700e-17, 4.00461064e-17, 3.83588929e-17,\n",
       "       5.64833267e-17, 1.28756115e-16, 1.65241649e-16, 3.94202847e-17,\n",
       "       1.28162199e-16, 3.94260022e-17, 8.15730712e-17, 3.87254265e-17,\n",
       "       4.95341658e-17, 9.05605381e-16, 8.41383965e-17, 4.26153658e-17,\n",
       "       5.55834534e-17, 3.87694755e-17, 1.25831085e-16, 9.86815751e-17,\n",
       "       2.35392097e-16, 7.03552647e-17, 6.07820454e-17, 4.18225264e-17,\n",
       "       3.83520173e-17, 5.31574088e-17, 4.02092827e-17, 3.92130131e-17,\n",
       "       4.70305780e-17, 3.89091897e-17, 3.83692823e-17, 2.05834128e-16,\n",
       "       1.43721692e-16, 5.25806091e-17, 1.13913755e-16, 3.85356217e-17,\n",
       "       4.16308786e-17, 2.27141626e-16, 5.67405269e-17, 1.02187610e-16,\n",
       "       2.11519890e-16, 4.04698082e-17, 7.01192072e-17, 9.94411386e-17,\n",
       "       4.08580735e-17, 2.10235219e-16, 3.98598650e-17, 2.54546715e-16,\n",
       "       1.17852114e-16, 4.30605014e-17, 5.14480765e-17, 4.47353668e-17,\n",
       "       5.44520490e-17, 3.61520332e-16, 1.59996490e-16, 1.30157624e-16,\n",
       "       4.12681599e-17, 3.85057935e-17, 4.03146456e-17, 4.62800704e-17,\n",
       "       2.23809583e-16, 4.48377056e-17, 3.83596241e-17, 3.93597285e-17,\n",
       "       2.27872377e-16, 1.68583697e-16, 6.08228684e-17, 4.19455480e-17,\n",
       "       3.87530577e-17, 7.15865263e-17, 9.90851995e-17, 3.93067657e-17],\n",
       "      dtype=float32)"
      ]
     },
     "execution_count": 34,
     "metadata": {},
     "output_type": "execute_result"
    }
   ],
   "source": [
    "pvals[1]"
   ]
  },
  {
   "cell_type": "code",
   "execution_count": null,
   "id": "ddd94175-2b30-4825-b9d3-9252090d5ee6",
   "metadata": {
    "tags": []
   },
   "outputs": [],
   "source": []
  },
  {
   "cell_type": "markdown",
   "id": "47f3bc48-4a4a-4fe4-af37-9afe890c91af",
   "metadata": {
    "tags": []
   },
   "source": [
    "## Mice Data"
   ]
  },
  {
   "cell_type": "markdown",
   "id": "1f6995bb-8a6a-4959-92d8-421db838cc26",
   "metadata": {
    "jp-MarkdownHeadingCollapsed": true,
    "tags": []
   },
   "source": [
    "### Generate Mask"
   ]
  },
  {
   "cell_type": "code",
   "execution_count": 9,
   "id": "bd4b3ff4-5f92-4389-a49b-da04b207de13",
   "metadata": {},
   "outputs": [],
   "source": [
    "import warnings\n",
    "warnings.simplefilter(action='ignore', category=FutureWarning)"
   ]
  },
  {
   "cell_type": "code",
   "execution_count": 2,
   "id": "075f3cdc-e09e-4917-b9b0-0db63f9ae63e",
   "metadata": {
    "tags": []
   },
   "outputs": [
    {
     "name": "stdout",
     "output_type": "stream",
     "text": [
      "You have chosen to annotate SNP-sets with intergenic regions and with a buffer of 0bp\n",
      "Creating Intergenic SNP-sets\n"
     ]
    },
    {
     "name": "stderr",
     "output_type": "stream",
     "text": [
      "100% 19020/19020 [00:30<00:00, 623.67it/s]\n"
     ]
    },
    {
     "name": "stdout",
     "output_type": "stream",
     "text": [
      "Annotating SNP-sets with the corresponding SNPs\n"
     ]
    },
    {
     "name": "stderr",
     "output_type": "stream",
     "text": [
      "100% 36348/36348 [01:27<00:00, 413.59it/s]\n"
     ]
    },
    {
     "name": "stdout",
     "output_type": "stream",
     "text": [
      "Saving annotation results to file ./Data/Mapping Files/annotationDF.txt\n"
     ]
    }
   ],
   "source": [
    "# Annotation\n",
    "# Importing annotation.py from the src folder:\n",
    "import sys\n",
    "sys.path.insert(0, './BANNs_Source_Code/') #Need to do this for this notebook example since the code lives in a different directory \n",
    "\n",
    "from annotation import * # Import annotation code\n",
    "\n",
    "path_to_SNPList=\"./Data/Mapping Files/raw_3.txt\"\n",
    "path_to_geneList=\"./Data/Mapping Files/glist_hg19.txt\"\n",
    "\n",
    "#Specifying the path to the file we want the save annotation dataframe into:\n",
    "file_toSave_annotationDF=\"./Data/Mapping Files/annotationDF.txt\"\n",
    "\n",
    "#Carrying out the annotation:\n",
    "annotationDF=annotate(path_to_SNPList, path_to_geneList, outputFile=file_toSave_annotationDF, \n",
    "                      intergenic=True, buffer=0, dropSingletons=False)"
   ]
  },
  {
   "cell_type": "code",
   "execution_count": null,
   "id": "78b9dc2b-110e-42ce-b87c-022a29991bd7",
   "metadata": {
    "tags": []
   },
   "outputs": [],
   "source": [
    "#Specifying the path to the SNP list file and gene range list file:\n",
    "annotationDF=\"./Data/mice_annotation.txt\"\n",
    "path_to_SNPList=\"./Data/Mapping Files/raw_3.txt\"\n",
    "mask_outputFile=\"./Data/mask.txt\"\n",
    "\n",
    "\n",
    "mask = getMaskMatrix(path_to_SNPList, annotationDF, mask_outputFile)\n",
    "print(mask)"
   ]
  },
  {
   "cell_type": "code",
   "execution_count": 4,
   "id": "81d68570-0350-4511-aada-2679b0fb9331",
   "metadata": {},
   "outputs": [
    {
     "name": "stdout",
     "output_type": "stream",
     "text": [
      "creating mask\n"
     ]
    },
    {
     "name": "stderr",
     "output_type": "stream",
     "text": [
      "100% 3025/3025 [00:00<00:00, 10823.53it/s]\n"
     ]
    },
    {
     "name": "stdout",
     "output_type": "stream",
     "text": [
      "Saving annotation mask to file ./Data/mask.txt in tab-delimited format\n"
     ]
    }
   ],
   "source": [
    "# Mask\n",
    "mask_outputFile=\"./Data/mask.txt\"\n",
    "mask = getMaskMatrix(path_to_SNPList, annotationDF, mask_outputFile)"
   ]
  },
  {
   "cell_type": "markdown",
   "id": "6276eacc-a381-4342-b6d0-6d29546009a9",
   "metadata": {
    "jp-MarkdownHeadingCollapsed": true,
    "tags": []
   },
   "source": [
    "### Load Mask"
   ]
  },
  {
   "cell_type": "code",
   "execution_count": 5,
   "id": "eb9fc575-4ac3-44ed-a755-373ba080e9a4",
   "metadata": {},
   "outputs": [],
   "source": [
    "mask=np.loadtxt(\"./Data/mask.txt\")"
   ]
  },
  {
   "cell_type": "markdown",
   "id": "9a4a871d-1f7d-4d8b-a802-769bfeeb8f2e",
   "metadata": {
    "jp-MarkdownHeadingCollapsed": true,
    "tags": []
   },
   "source": [
    "### Glucose"
   ]
  },
  {
   "cell_type": "code",
   "execution_count": 17,
   "id": "952203a6-4213-4b21-9d83-65778b9930fb",
   "metadata": {},
   "outputs": [],
   "source": [
    "import pyreadr\n",
    "\n",
    "Y = pyreadr.read_r('./Data/Y1.rds')\n",
    "X = pyreadr.read_r('./Data/X1.rds')\n",
    "\n",
    "y = Y[None].to_numpy()\n",
    "x = X[None].to_numpy()"
   ]
  },
  {
   "cell_type": "code",
   "execution_count": 18,
   "id": "0f2ceb8a-0393-422a-bb23-07bf8928bbf3",
   "metadata": {},
   "outputs": [],
   "source": [
    "y = permute(y, 100)"
   ]
  },
  {
   "cell_type": "code",
   "execution_count": 19,
   "id": "fd0b2d59-fd2c-4d50-bff6-abed04768be0",
   "metadata": {},
   "outputs": [
    {
     "name": "stdout",
     "output_type": "stream",
     "text": [
      "SNP LAYER\n",
      "Model  0\n"
     ]
    },
    {
     "data": {
      "application/vnd.jupyter.widget-view+json": {
       "model_id": "7cd3904337284a95aa9a3b07ab4a257b",
       "version_major": 2,
       "version_minor": 0
      },
      "text/plain": [
       "  0%|          | 0/10346 [00:00<?, ?it/s]"
      ]
     },
     "metadata": {},
     "output_type": "display_data"
    },
    {
     "name": "stderr",
     "output_type": "stream",
     "text": [
      "/u/home/k/kzheng/BANNs/mvBANNs_pytorch/utils.py:56: UserWarning: To copy construct from a tensor, it is recommended to use sourceTensor.clone().detach() or sourceTensor.clone().detach().requires_grad_(True), rather than torch.tensor(sourceTensor).\n",
      "  loss = linearLoss + klEffect + (((alpha-1)*logodd.unsqueeze(1) + logsigmoid(torch.tensor(logodd.unsqueeze(1)))).sum(-1)).sum()\n"
     ]
    },
    {
     "data": {
      "application/vnd.jupyter.widget-view+json": {
       "model_id": "4d86977a1310453e8775f5df6fcee828",
       "version_major": 2,
       "version_minor": 0
      },
      "text/plain": [
       "  0%|          | 0/10346 [00:00<?, ?it/s]"
      ]
     },
     "metadata": {},
     "output_type": "display_data"
    },
    {
     "data": {
      "application/vnd.jupyter.widget-view+json": {
       "model_id": "8f85d16a48d446d7a619eb68c520736b",
       "version_major": 2,
       "version_minor": 0
      },
      "text/plain": [
       "  0%|          | 0/10346 [00:00<?, ?it/s]"
      ]
     },
     "metadata": {},
     "output_type": "display_data"
    },
    {
     "data": {
      "application/vnd.jupyter.widget-view+json": {
       "model_id": "862c4d24cf584ad6aacef18db18986df",
       "version_major": 2,
       "version_minor": 0
      },
      "text/plain": [
       "  0%|          | 0/10346 [00:00<?, ?it/s]"
      ]
     },
     "metadata": {},
     "output_type": "display_data"
    },
    {
     "data": {
      "application/vnd.jupyter.widget-view+json": {
       "model_id": "ae806b39d58c4c1c8a20df156efac4ae",
       "version_major": 2,
       "version_minor": 0
      },
      "text/plain": [
       "  0%|          | 0/10346 [00:00<?, ?it/s]"
      ]
     },
     "metadata": {},
     "output_type": "display_data"
    },
    {
     "data": {
      "application/vnd.jupyter.widget-view+json": {
       "model_id": "bc3bce943b99440ea94e760abf6e3891",
       "version_major": 2,
       "version_minor": 0
      },
      "text/plain": [
       "  0%|          | 0/10346 [00:00<?, ?it/s]"
      ]
     },
     "metadata": {},
     "output_type": "display_data"
    },
    {
     "data": {
      "application/vnd.jupyter.widget-view+json": {
       "model_id": "437cfc08b9a14422bd42dfb45389a7b4",
       "version_major": 2,
       "version_minor": 0
      },
      "text/plain": [
       "  0%|          | 0/10346 [00:00<?, ?it/s]"
      ]
     },
     "metadata": {},
     "output_type": "display_data"
    },
    {
     "data": {
      "application/vnd.jupyter.widget-view+json": {
       "model_id": "0896e6c1e83a4a539552e13374a9d40c",
       "version_major": 2,
       "version_minor": 0
      },
      "text/plain": [
       "  0%|          | 0/10346 [00:00<?, ?it/s]"
      ]
     },
     "metadata": {},
     "output_type": "display_data"
    },
    {
     "data": {
      "application/vnd.jupyter.widget-view+json": {
       "model_id": "70e4597d05144068b0b03535417d62c9",
       "version_major": 2,
       "version_minor": 0
      },
      "text/plain": [
       "  0%|          | 0/10346 [00:00<?, ?it/s]"
      ]
     },
     "metadata": {},
     "output_type": "display_data"
    },
    {
     "data": {
      "application/vnd.jupyter.widget-view+json": {
       "model_id": "b2ebbbcd24a5457b81900837ee19e8b2",
       "version_major": 2,
       "version_minor": 0
      },
      "text/plain": [
       "  0%|          | 0/10346 [00:00<?, ?it/s]"
      ]
     },
     "metadata": {},
     "output_type": "display_data"
    },
    {
     "data": {
      "application/vnd.jupyter.widget-view+json": {
       "model_id": "33c83879e781486aa8188f5bf5d253cd",
       "version_major": 2,
       "version_minor": 0
      },
      "text/plain": [
       "  0%|          | 0/10346 [00:00<?, ?it/s]"
      ]
     },
     "metadata": {},
     "output_type": "display_data"
    },
    {
     "data": {
      "application/vnd.jupyter.widget-view+json": {
       "model_id": "4375cfebdfa543489f45c9e902c9e8e9",
       "version_major": 2,
       "version_minor": 0
      },
      "text/plain": [
       "  0%|          | 0/10346 [00:00<?, ?it/s]"
      ]
     },
     "metadata": {},
     "output_type": "display_data"
    },
    {
     "data": {
      "application/vnd.jupyter.widget-view+json": {
       "model_id": "eccc578fdd844aefa4d950568306c248",
       "version_major": 2,
       "version_minor": 0
      },
      "text/plain": [
       "  0%|          | 0/10346 [00:00<?, ?it/s]"
      ]
     },
     "metadata": {},
     "output_type": "display_data"
    },
    {
     "data": {
      "application/vnd.jupyter.widget-view+json": {
       "model_id": "0899d76e487641c8bccf7cd4868cbf30",
       "version_major": 2,
       "version_minor": 0
      },
      "text/plain": [
       "  0%|          | 0/10346 [00:00<?, ?it/s]"
      ]
     },
     "metadata": {},
     "output_type": "display_data"
    },
    {
     "data": {
      "application/vnd.jupyter.widget-view+json": {
       "model_id": "80d60579c4dd4922930d67394635949e",
       "version_major": 2,
       "version_minor": 0
      },
      "text/plain": [
       "  0%|          | 0/10346 [00:00<?, ?it/s]"
      ]
     },
     "metadata": {},
     "output_type": "display_data"
    },
    {
     "data": {
      "application/vnd.jupyter.widget-view+json": {
       "model_id": "96301634375a4f79b372f05059cbcc6a",
       "version_major": 2,
       "version_minor": 0
      },
      "text/plain": [
       "  0%|          | 0/10346 [00:00<?, ?it/s]"
      ]
     },
     "metadata": {},
     "output_type": "display_data"
    },
    {
     "data": {
      "application/vnd.jupyter.widget-view+json": {
       "model_id": "0e00bd0379ce4d9d8e48d27254c68b56",
       "version_major": 2,
       "version_minor": 0
      },
      "text/plain": [
       "  0%|          | 0/10346 [00:00<?, ?it/s]"
      ]
     },
     "metadata": {},
     "output_type": "display_data"
    },
    {
     "data": {
      "application/vnd.jupyter.widget-view+json": {
       "model_id": "528d94d417bf445492580c3d93ce81d2",
       "version_major": 2,
       "version_minor": 0
      },
      "text/plain": [
       "  0%|          | 0/10346 [00:00<?, ?it/s]"
      ]
     },
     "metadata": {},
     "output_type": "display_data"
    },
    {
     "data": {
      "application/vnd.jupyter.widget-view+json": {
       "model_id": "bb9066297dd94ce7bba382a07d0eff89",
       "version_major": 2,
       "version_minor": 0
      },
      "text/plain": [
       "  0%|          | 0/10346 [00:00<?, ?it/s]"
      ]
     },
     "metadata": {},
     "output_type": "display_data"
    },
    {
     "data": {
      "application/vnd.jupyter.widget-view+json": {
       "model_id": "fa426db87bda408a92b3f3040fa9dd3e",
       "version_major": 2,
       "version_minor": 0
      },
      "text/plain": [
       "  0%|          | 0/10346 [00:00<?, ?it/s]"
      ]
     },
     "metadata": {},
     "output_type": "display_data"
    },
    {
     "data": {
      "application/vnd.jupyter.widget-view+json": {
       "model_id": "4a00078efee841c7a32f41c8185cd848",
       "version_major": 2,
       "version_minor": 0
      },
      "text/plain": [
       "  0%|          | 0/10346 [00:00<?, ?it/s]"
      ]
     },
     "metadata": {},
     "output_type": "display_data"
    },
    {
     "data": {
      "application/vnd.jupyter.widget-view+json": {
       "model_id": "f2d0d50d734e4bf29ad201d96d2a0e73",
       "version_major": 2,
       "version_minor": 0
      },
      "text/plain": [
       "  0%|          | 0/10346 [00:00<?, ?it/s]"
      ]
     },
     "metadata": {},
     "output_type": "display_data"
    },
    {
     "data": {
      "application/vnd.jupyter.widget-view+json": {
       "model_id": "fd5ea699553d4c949c6a5c8a214957de",
       "version_major": 2,
       "version_minor": 0
      },
      "text/plain": [
       "  0%|          | 0/10346 [00:00<?, ?it/s]"
      ]
     },
     "metadata": {},
     "output_type": "display_data"
    },
    {
     "data": {
      "application/vnd.jupyter.widget-view+json": {
       "model_id": "8e3002b041654214a8ef7d9d8fd853c7",
       "version_major": 2,
       "version_minor": 0
      },
      "text/plain": [
       "  0%|          | 0/10346 [00:00<?, ?it/s]"
      ]
     },
     "metadata": {},
     "output_type": "display_data"
    },
    {
     "data": {
      "application/vnd.jupyter.widget-view+json": {
       "model_id": "e4a1580f3a864522bc69a571a7bb5a71",
       "version_major": 2,
       "version_minor": 0
      },
      "text/plain": [
       "  0%|          | 0/10346 [00:00<?, ?it/s]"
      ]
     },
     "metadata": {},
     "output_type": "display_data"
    },
    {
     "data": {
      "application/vnd.jupyter.widget-view+json": {
       "model_id": "7d76f22681454c78bd9178483a03e05f",
       "version_major": 2,
       "version_minor": 0
      },
      "text/plain": [
       "  0%|          | 0/10346 [00:00<?, ?it/s]"
      ]
     },
     "metadata": {},
     "output_type": "display_data"
    },
    {
     "data": {
      "application/vnd.jupyter.widget-view+json": {
       "model_id": "84426fac00c54e62bf02c4ceb0291346",
       "version_major": 2,
       "version_minor": 0
      },
      "text/plain": [
       "  0%|          | 0/10346 [00:00<?, ?it/s]"
      ]
     },
     "metadata": {},
     "output_type": "display_data"
    },
    {
     "data": {
      "application/vnd.jupyter.widget-view+json": {
       "model_id": "4e465983a03d4444946b46c7fc35efb8",
       "version_major": 2,
       "version_minor": 0
      },
      "text/plain": [
       "  0%|          | 0/10346 [00:00<?, ?it/s]"
      ]
     },
     "metadata": {},
     "output_type": "display_data"
    },
    {
     "data": {
      "application/vnd.jupyter.widget-view+json": {
       "model_id": "690ca65400e8499fbe0245bdf6b4f24b",
       "version_major": 2,
       "version_minor": 0
      },
      "text/plain": [
       "  0%|          | 0/10346 [00:00<?, ?it/s]"
      ]
     },
     "metadata": {},
     "output_type": "display_data"
    },
    {
     "name": "stdout",
     "output_type": "stream",
     "text": [
      "SET LAYER\n"
     ]
    }
   ],
   "source": [
    "device = torch.device(\"cuda\" if torch.cuda.is_available() else \"cpu\")\n",
    "\n",
    "y = torch.FloatTensor(y).cuda()\n",
    "X = torch.FloatTensor(x).cuda()\n",
    "\n",
    "model = mvBANNs(X, y, mask, 1, 200, device=device, terminate='SNP').eval()\n",
    "with torch.no_grad():\n",
    "    model.optimize(X, y, mask)"
   ]
  },
  {
   "cell_type": "code",
   "execution_count": 20,
   "id": "e1a6e9e3-3f45-4ea5-9068-f57d61aa3f82",
   "metadata": {},
   "outputs": [],
   "source": [
    "# save data\n",
    "alpha = model.SNP_alpha.cpu().numpy()\n",
    "np.savetxt(DATA + \"mice_results/glocose_alpha.txt\", alpha)"
   ]
  },
  {
   "cell_type": "code",
   "execution_count": 99,
   "id": "438fba1f-6609-4f19-9390-c78a64f56ed3",
   "metadata": {},
   "outputs": [
    {
     "name": "stderr",
     "output_type": "stream",
     "text": [
      "/tmp/ipykernel_11154/2761188953.py:4: RuntimeWarning: invalid value encountered in divide\n",
      "  return pip / (np.sum(pip, axis=1).reshape((-1, 1)))\n"
     ]
    }
   ],
   "source": [
    "# load data and calculate p-values\n",
    "alpha = np.loadtxt(DATA + \"mice_results/glocose_alpha.txt\")\n",
    "alpha = norm(alpha)\n",
    "p_vals = p_values(alpha[0], alpha[1:])\n",
    "causals = get_causal(p_vals, 0.05)"
   ]
  },
  {
   "cell_type": "code",
   "execution_count": 101,
   "id": "698a7d07-5939-4cb2-8212-afa8b205d046",
   "metadata": {},
   "outputs": [
    {
     "data": {
      "text/plain": [
       "296"
      ]
     },
     "execution_count": 101,
     "metadata": {},
     "output_type": "execute_result"
    }
   ],
   "source": [
    "len(causals)"
   ]
  },
  {
   "cell_type": "markdown",
   "id": "b1988060-dd7c-441c-9f73-1e75b6b8fab8",
   "metadata": {
    "jp-MarkdownHeadingCollapsed": true,
    "tags": []
   },
   "source": [
    "### Obesity"
   ]
  },
  {
   "cell_type": "code",
   "execution_count": 22,
   "id": "9a258a86-e7bf-4a13-8faa-c63eec9dd5a8",
   "metadata": {},
   "outputs": [],
   "source": [
    "import pyreadr\n",
    "\n",
    "Y = pyreadr.read_r('./Data/Y2.rds')\n",
    "X = pyreadr.read_r('./Data/X2.rds')\n",
    "\n",
    "y = Y[None].to_numpy()\n",
    "x = X[None].to_numpy()"
   ]
  },
  {
   "cell_type": "code",
   "execution_count": 23,
   "id": "8f745c8a-a113-4485-a275-53f1efc87db0",
   "metadata": {},
   "outputs": [
    {
     "data": {
      "text/plain": [
       "(1814, 101)"
      ]
     },
     "execution_count": 23,
     "metadata": {},
     "output_type": "execute_result"
    }
   ],
   "source": [
    "y = permute(y, 100)\n",
    "y.shape"
   ]
  },
  {
   "cell_type": "code",
   "execution_count": 24,
   "id": "553569bf-559b-4f06-beb4-904d830a23f2",
   "metadata": {},
   "outputs": [
    {
     "name": "stdout",
     "output_type": "stream",
     "text": [
      "SNP LAYER\n",
      "Model  0\n"
     ]
    },
    {
     "data": {
      "application/vnd.jupyter.widget-view+json": {
       "model_id": "4e6e532206e640c197344086097e8e19",
       "version_major": 2,
       "version_minor": 0
      },
      "text/plain": [
       "  0%|          | 0/10346 [00:00<?, ?it/s]"
      ]
     },
     "metadata": {},
     "output_type": "display_data"
    },
    {
     "name": "stderr",
     "output_type": "stream",
     "text": [
      "/u/home/k/kzheng/BANNs/mvBANNs_pytorch/utils.py:56: UserWarning: To copy construct from a tensor, it is recommended to use sourceTensor.clone().detach() or sourceTensor.clone().detach().requires_grad_(True), rather than torch.tensor(sourceTensor).\n",
      "  loss = linearLoss + klEffect + (((alpha-1)*logodd.unsqueeze(1) + logsigmoid(torch.tensor(logodd.unsqueeze(1)))).sum(-1)).sum()\n"
     ]
    },
    {
     "data": {
      "application/vnd.jupyter.widget-view+json": {
       "model_id": "65488d5261a24db89f7bff05182148cd",
       "version_major": 2,
       "version_minor": 0
      },
      "text/plain": [
       "  0%|          | 0/10346 [00:00<?, ?it/s]"
      ]
     },
     "metadata": {},
     "output_type": "display_data"
    },
    {
     "data": {
      "application/vnd.jupyter.widget-view+json": {
       "model_id": "54dc10d6841247a19eb45151563045e2",
       "version_major": 2,
       "version_minor": 0
      },
      "text/plain": [
       "  0%|          | 0/10346 [00:00<?, ?it/s]"
      ]
     },
     "metadata": {},
     "output_type": "display_data"
    },
    {
     "data": {
      "application/vnd.jupyter.widget-view+json": {
       "model_id": "4684276eded145179d2cef9ebf413202",
       "version_major": 2,
       "version_minor": 0
      },
      "text/plain": [
       "  0%|          | 0/10346 [00:00<?, ?it/s]"
      ]
     },
     "metadata": {},
     "output_type": "display_data"
    },
    {
     "data": {
      "application/vnd.jupyter.widget-view+json": {
       "model_id": "756070225d5845c487f64fb054b9104c",
       "version_major": 2,
       "version_minor": 0
      },
      "text/plain": [
       "  0%|          | 0/10346 [00:00<?, ?it/s]"
      ]
     },
     "metadata": {},
     "output_type": "display_data"
    },
    {
     "data": {
      "application/vnd.jupyter.widget-view+json": {
       "model_id": "e9f9a9f61b66422687c1d56cb874dc20",
       "version_major": 2,
       "version_minor": 0
      },
      "text/plain": [
       "  0%|          | 0/10346 [00:00<?, ?it/s]"
      ]
     },
     "metadata": {},
     "output_type": "display_data"
    },
    {
     "data": {
      "application/vnd.jupyter.widget-view+json": {
       "model_id": "f916996e9f3c4bf4b0b393b2c00b3c5e",
       "version_major": 2,
       "version_minor": 0
      },
      "text/plain": [
       "  0%|          | 0/10346 [00:00<?, ?it/s]"
      ]
     },
     "metadata": {},
     "output_type": "display_data"
    },
    {
     "data": {
      "application/vnd.jupyter.widget-view+json": {
       "model_id": "d1172858e17b45a497e2d6e1a2ea6755",
       "version_major": 2,
       "version_minor": 0
      },
      "text/plain": [
       "  0%|          | 0/10346 [00:00<?, ?it/s]"
      ]
     },
     "metadata": {},
     "output_type": "display_data"
    },
    {
     "data": {
      "application/vnd.jupyter.widget-view+json": {
       "model_id": "b5e53437a1ed459285474a19757b4f19",
       "version_major": 2,
       "version_minor": 0
      },
      "text/plain": [
       "  0%|          | 0/10346 [00:00<?, ?it/s]"
      ]
     },
     "metadata": {},
     "output_type": "display_data"
    },
    {
     "data": {
      "application/vnd.jupyter.widget-view+json": {
       "model_id": "7d8ba138199745bca6d94be2f703d20e",
       "version_major": 2,
       "version_minor": 0
      },
      "text/plain": [
       "  0%|          | 0/10346 [00:00<?, ?it/s]"
      ]
     },
     "metadata": {},
     "output_type": "display_data"
    },
    {
     "data": {
      "application/vnd.jupyter.widget-view+json": {
       "model_id": "7b158bfeb72841be8baf7245e116ddcc",
       "version_major": 2,
       "version_minor": 0
      },
      "text/plain": [
       "  0%|          | 0/10346 [00:00<?, ?it/s]"
      ]
     },
     "metadata": {},
     "output_type": "display_data"
    },
    {
     "data": {
      "application/vnd.jupyter.widget-view+json": {
       "model_id": "32b4af4988a44e67a6c3e02fbdbad8d9",
       "version_major": 2,
       "version_minor": 0
      },
      "text/plain": [
       "  0%|          | 0/10346 [00:00<?, ?it/s]"
      ]
     },
     "metadata": {},
     "output_type": "display_data"
    },
    {
     "data": {
      "application/vnd.jupyter.widget-view+json": {
       "model_id": "fe292755b2e4466a931454b0445ec1e2",
       "version_major": 2,
       "version_minor": 0
      },
      "text/plain": [
       "  0%|          | 0/10346 [00:00<?, ?it/s]"
      ]
     },
     "metadata": {},
     "output_type": "display_data"
    },
    {
     "data": {
      "application/vnd.jupyter.widget-view+json": {
       "model_id": "40c46bf423cd401aad2d665d4522c4ac",
       "version_major": 2,
       "version_minor": 0
      },
      "text/plain": [
       "  0%|          | 0/10346 [00:00<?, ?it/s]"
      ]
     },
     "metadata": {},
     "output_type": "display_data"
    },
    {
     "data": {
      "application/vnd.jupyter.widget-view+json": {
       "model_id": "20f5632ab2a84eadababbabfd060ece1",
       "version_major": 2,
       "version_minor": 0
      },
      "text/plain": [
       "  0%|          | 0/10346 [00:00<?, ?it/s]"
      ]
     },
     "metadata": {},
     "output_type": "display_data"
    },
    {
     "data": {
      "application/vnd.jupyter.widget-view+json": {
       "model_id": "1f6fbca1fd34430d9073fb4bd41494aa",
       "version_major": 2,
       "version_minor": 0
      },
      "text/plain": [
       "  0%|          | 0/10346 [00:00<?, ?it/s]"
      ]
     },
     "metadata": {},
     "output_type": "display_data"
    },
    {
     "data": {
      "application/vnd.jupyter.widget-view+json": {
       "model_id": "cbd619378a1248db8e779b441e1ce0f3",
       "version_major": 2,
       "version_minor": 0
      },
      "text/plain": [
       "  0%|          | 0/10346 [00:00<?, ?it/s]"
      ]
     },
     "metadata": {},
     "output_type": "display_data"
    },
    {
     "data": {
      "application/vnd.jupyter.widget-view+json": {
       "model_id": "27a1af6d65174a9c884a85930c2b7eef",
       "version_major": 2,
       "version_minor": 0
      },
      "text/plain": [
       "  0%|          | 0/10346 [00:00<?, ?it/s]"
      ]
     },
     "metadata": {},
     "output_type": "display_data"
    },
    {
     "data": {
      "application/vnd.jupyter.widget-view+json": {
       "model_id": "10ea8fcce31a4b55a446a417d79140e4",
       "version_major": 2,
       "version_minor": 0
      },
      "text/plain": [
       "  0%|          | 0/10346 [00:00<?, ?it/s]"
      ]
     },
     "metadata": {},
     "output_type": "display_data"
    },
    {
     "data": {
      "application/vnd.jupyter.widget-view+json": {
       "model_id": "bc3f226b21af4d79a38a37b638c38d2a",
       "version_major": 2,
       "version_minor": 0
      },
      "text/plain": [
       "  0%|          | 0/10346 [00:00<?, ?it/s]"
      ]
     },
     "metadata": {},
     "output_type": "display_data"
    },
    {
     "data": {
      "application/vnd.jupyter.widget-view+json": {
       "model_id": "a9753fd3fcf24ccb9d531b3217e1fa51",
       "version_major": 2,
       "version_minor": 0
      },
      "text/plain": [
       "  0%|          | 0/10346 [00:00<?, ?it/s]"
      ]
     },
     "metadata": {},
     "output_type": "display_data"
    },
    {
     "data": {
      "application/vnd.jupyter.widget-view+json": {
       "model_id": "cedd4094cb0843fb977d9977875a9c0e",
       "version_major": 2,
       "version_minor": 0
      },
      "text/plain": [
       "  0%|          | 0/10346 [00:00<?, ?it/s]"
      ]
     },
     "metadata": {},
     "output_type": "display_data"
    },
    {
     "data": {
      "application/vnd.jupyter.widget-view+json": {
       "model_id": "ecae98545bc94d359175e17358d7f342",
       "version_major": 2,
       "version_minor": 0
      },
      "text/plain": [
       "  0%|          | 0/10346 [00:00<?, ?it/s]"
      ]
     },
     "metadata": {},
     "output_type": "display_data"
    },
    {
     "data": {
      "application/vnd.jupyter.widget-view+json": {
       "model_id": "01a5017dc5e8432fa2010bed9715ebda",
       "version_major": 2,
       "version_minor": 0
      },
      "text/plain": [
       "  0%|          | 0/10346 [00:00<?, ?it/s]"
      ]
     },
     "metadata": {},
     "output_type": "display_data"
    },
    {
     "data": {
      "application/vnd.jupyter.widget-view+json": {
       "model_id": "ec2b5ed0fa3442308e6dae00ab039433",
       "version_major": 2,
       "version_minor": 0
      },
      "text/plain": [
       "  0%|          | 0/10346 [00:00<?, ?it/s]"
      ]
     },
     "metadata": {},
     "output_type": "display_data"
    },
    {
     "data": {
      "application/vnd.jupyter.widget-view+json": {
       "model_id": "eb9b9c1fb2fc41c48e354265803184dd",
       "version_major": 2,
       "version_minor": 0
      },
      "text/plain": [
       "  0%|          | 0/10346 [00:00<?, ?it/s]"
      ]
     },
     "metadata": {},
     "output_type": "display_data"
    },
    {
     "data": {
      "application/vnd.jupyter.widget-view+json": {
       "model_id": "7940b60230ab4f4fbddf003d02f5850a",
       "version_major": 2,
       "version_minor": 0
      },
      "text/plain": [
       "  0%|          | 0/10346 [00:00<?, ?it/s]"
      ]
     },
     "metadata": {},
     "output_type": "display_data"
    },
    {
     "data": {
      "application/vnd.jupyter.widget-view+json": {
       "model_id": "885b37c527114bac8c093013690addbc",
       "version_major": 2,
       "version_minor": 0
      },
      "text/plain": [
       "  0%|          | 0/10346 [00:00<?, ?it/s]"
      ]
     },
     "metadata": {},
     "output_type": "display_data"
    },
    {
     "name": "stdout",
     "output_type": "stream",
     "text": [
      "SET LAYER\n"
     ]
    }
   ],
   "source": [
    "device = torch.device(\"cuda\" if torch.cuda.is_available() else \"cpu\")\n",
    "\n",
    "y = torch.FloatTensor(y).cuda()\n",
    "X = torch.FloatTensor(x).cuda()\n",
    "\n",
    "model = mvBANNs(X, y, mask, 1, 200, device=device, terminate='SNP').eval()\n",
    "with torch.no_grad():\n",
    "    model.optimize(X, y, mask)"
   ]
  },
  {
   "cell_type": "code",
   "execution_count": 25,
   "id": "83f99c8c-bcf9-4c92-9697-1340aea8b165",
   "metadata": {},
   "outputs": [],
   "source": [
    "alpha = model.SNP_alpha.cpu().numpy()\n",
    "np.savetxt(DATA + \"mice_results/obesity_alpha.txt\", alpha)"
   ]
  },
  {
   "cell_type": "code",
   "execution_count": 102,
   "id": "70ae49bf-b9b4-41fd-ab26-893353b06455",
   "metadata": {},
   "outputs": [
    {
     "name": "stderr",
     "output_type": "stream",
     "text": [
      "/tmp/ipykernel_11154/2761188953.py:4: RuntimeWarning: invalid value encountered in divide\n",
      "  return pip / (np.sum(pip, axis=1).reshape((-1, 1)))\n"
     ]
    }
   ],
   "source": [
    "# load data and calculate p-values\n",
    "alpha = np.loadtxt(DATA + \"mice_results/obesity_alpha.txt\")\n",
    "alpha = norm(alpha)\n",
    "p_vals = p_values(alpha[0], alpha[1:])\n",
    "causals = get_causal(p_vals, 0.05)"
   ]
  },
  {
   "cell_type": "code",
   "execution_count": 104,
   "id": "3048957d-cc04-4049-8e8d-679c01987a6c",
   "metadata": {},
   "outputs": [
    {
     "data": {
      "text/plain": [
       "205"
      ]
     },
     "execution_count": 104,
     "metadata": {},
     "output_type": "execute_result"
    }
   ],
   "source": [
    "len(causals)"
   ]
  },
  {
   "cell_type": "markdown",
   "id": "89654cb7-6af0-4061-ab54-a17b6269450d",
   "metadata": {
    "jp-MarkdownHeadingCollapsed": true,
    "tags": []
   },
   "source": [
    "### Immunology"
   ]
  },
  {
   "cell_type": "code",
   "execution_count": 26,
   "id": "46f0faa7-42dd-42a1-ac60-d7c021694c0c",
   "metadata": {},
   "outputs": [],
   "source": [
    "import pyreadr\n",
    "\n",
    "Y = pyreadr.read_r('./Data/Y3.rds')\n",
    "X = pyreadr.read_r('./Data/X3.rds')\n",
    "\n",
    "y = Y[None].to_numpy()\n",
    "x = X[None].to_numpy()"
   ]
  },
  {
   "cell_type": "code",
   "execution_count": 27,
   "id": "7d668355-fc68-4f85-8c6c-45ba6fc52b34",
   "metadata": {},
   "outputs": [
    {
     "data": {
      "text/plain": [
       "(1423, 101)"
      ]
     },
     "execution_count": 27,
     "metadata": {},
     "output_type": "execute_result"
    }
   ],
   "source": [
    "y = permute(y, 100)\n",
    "y.shape"
   ]
  },
  {
   "cell_type": "code",
   "execution_count": 28,
   "id": "2d18c925-21d7-41a8-bdb1-1548955e13f5",
   "metadata": {},
   "outputs": [
    {
     "name": "stdout",
     "output_type": "stream",
     "text": [
      "SNP LAYER\n",
      "Model  0\n"
     ]
    },
    {
     "data": {
      "application/vnd.jupyter.widget-view+json": {
       "model_id": "631a72ea496a4b2294d31408ef1203f4",
       "version_major": 2,
       "version_minor": 0
      },
      "text/plain": [
       "  0%|          | 0/10346 [00:00<?, ?it/s]"
      ]
     },
     "metadata": {},
     "output_type": "display_data"
    },
    {
     "name": "stderr",
     "output_type": "stream",
     "text": [
      "/u/home/k/kzheng/BANNs/mvBANNs_pytorch/utils.py:56: UserWarning: To copy construct from a tensor, it is recommended to use sourceTensor.clone().detach() or sourceTensor.clone().detach().requires_grad_(True), rather than torch.tensor(sourceTensor).\n",
      "  loss = linearLoss + klEffect + (((alpha-1)*logodd.unsqueeze(1) + logsigmoid(torch.tensor(logodd.unsqueeze(1)))).sum(-1)).sum()\n"
     ]
    },
    {
     "data": {
      "application/vnd.jupyter.widget-view+json": {
       "model_id": "f4a11980bf9f4ddbbeafc2dbcc1740aa",
       "version_major": 2,
       "version_minor": 0
      },
      "text/plain": [
       "  0%|          | 0/10346 [00:00<?, ?it/s]"
      ]
     },
     "metadata": {},
     "output_type": "display_data"
    },
    {
     "data": {
      "application/vnd.jupyter.widget-view+json": {
       "model_id": "44768936e5c7464f9fa4734610543d3e",
       "version_major": 2,
       "version_minor": 0
      },
      "text/plain": [
       "  0%|          | 0/10346 [00:00<?, ?it/s]"
      ]
     },
     "metadata": {},
     "output_type": "display_data"
    },
    {
     "data": {
      "application/vnd.jupyter.widget-view+json": {
       "model_id": "2a21b80475d9464fb2a4987a1735083d",
       "version_major": 2,
       "version_minor": 0
      },
      "text/plain": [
       "  0%|          | 0/10346 [00:00<?, ?it/s]"
      ]
     },
     "metadata": {},
     "output_type": "display_data"
    },
    {
     "data": {
      "application/vnd.jupyter.widget-view+json": {
       "model_id": "227218b4f6704e9b8d67143d16a4cc0d",
       "version_major": 2,
       "version_minor": 0
      },
      "text/plain": [
       "  0%|          | 0/10346 [00:00<?, ?it/s]"
      ]
     },
     "metadata": {},
     "output_type": "display_data"
    },
    {
     "data": {
      "application/vnd.jupyter.widget-view+json": {
       "model_id": "027585d764234f469175b4a2aca538e6",
       "version_major": 2,
       "version_minor": 0
      },
      "text/plain": [
       "  0%|          | 0/10346 [00:00<?, ?it/s]"
      ]
     },
     "metadata": {},
     "output_type": "display_data"
    },
    {
     "data": {
      "application/vnd.jupyter.widget-view+json": {
       "model_id": "af891562dc8c4878acab1cabf7b70adf",
       "version_major": 2,
       "version_minor": 0
      },
      "text/plain": [
       "  0%|          | 0/10346 [00:00<?, ?it/s]"
      ]
     },
     "metadata": {},
     "output_type": "display_data"
    },
    {
     "data": {
      "application/vnd.jupyter.widget-view+json": {
       "model_id": "4c648f1f62094e86914c35febf3faf1c",
       "version_major": 2,
       "version_minor": 0
      },
      "text/plain": [
       "  0%|          | 0/10346 [00:00<?, ?it/s]"
      ]
     },
     "metadata": {},
     "output_type": "display_data"
    },
    {
     "data": {
      "application/vnd.jupyter.widget-view+json": {
       "model_id": "9f268fecd4f84c7191cfd74661a6597b",
       "version_major": 2,
       "version_minor": 0
      },
      "text/plain": [
       "  0%|          | 0/10346 [00:00<?, ?it/s]"
      ]
     },
     "metadata": {},
     "output_type": "display_data"
    },
    {
     "data": {
      "application/vnd.jupyter.widget-view+json": {
       "model_id": "11198a0bf96d42c684e7b58ac30b598b",
       "version_major": 2,
       "version_minor": 0
      },
      "text/plain": [
       "  0%|          | 0/10346 [00:00<?, ?it/s]"
      ]
     },
     "metadata": {},
     "output_type": "display_data"
    },
    {
     "data": {
      "application/vnd.jupyter.widget-view+json": {
       "model_id": "a0c1ab9b601042e3817c04840b5f18f8",
       "version_major": 2,
       "version_minor": 0
      },
      "text/plain": [
       "  0%|          | 0/10346 [00:00<?, ?it/s]"
      ]
     },
     "metadata": {},
     "output_type": "display_data"
    },
    {
     "data": {
      "application/vnd.jupyter.widget-view+json": {
       "model_id": "25752ad9a482421fa7b0958763232a32",
       "version_major": 2,
       "version_minor": 0
      },
      "text/plain": [
       "  0%|          | 0/10346 [00:00<?, ?it/s]"
      ]
     },
     "metadata": {},
     "output_type": "display_data"
    },
    {
     "data": {
      "application/vnd.jupyter.widget-view+json": {
       "model_id": "1ed753d2467749309c8c4c578c7de6fd",
       "version_major": 2,
       "version_minor": 0
      },
      "text/plain": [
       "  0%|          | 0/10346 [00:00<?, ?it/s]"
      ]
     },
     "metadata": {},
     "output_type": "display_data"
    },
    {
     "data": {
      "application/vnd.jupyter.widget-view+json": {
       "model_id": "e5cb50b077614f858bfd68f1a0b3e296",
       "version_major": 2,
       "version_minor": 0
      },
      "text/plain": [
       "  0%|          | 0/10346 [00:00<?, ?it/s]"
      ]
     },
     "metadata": {},
     "output_type": "display_data"
    },
    {
     "data": {
      "application/vnd.jupyter.widget-view+json": {
       "model_id": "db53e575478b408699fdfcdd82bf16ea",
       "version_major": 2,
       "version_minor": 0
      },
      "text/plain": [
       "  0%|          | 0/10346 [00:00<?, ?it/s]"
      ]
     },
     "metadata": {},
     "output_type": "display_data"
    },
    {
     "data": {
      "application/vnd.jupyter.widget-view+json": {
       "model_id": "5c1a3aabe55f41a4972503d9388c8da5",
       "version_major": 2,
       "version_minor": 0
      },
      "text/plain": [
       "  0%|          | 0/10346 [00:00<?, ?it/s]"
      ]
     },
     "metadata": {},
     "output_type": "display_data"
    },
    {
     "data": {
      "application/vnd.jupyter.widget-view+json": {
       "model_id": "46c487ba1e25437bb912f06c7fd14775",
       "version_major": 2,
       "version_minor": 0
      },
      "text/plain": [
       "  0%|          | 0/10346 [00:00<?, ?it/s]"
      ]
     },
     "metadata": {},
     "output_type": "display_data"
    },
    {
     "data": {
      "application/vnd.jupyter.widget-view+json": {
       "model_id": "46f875d7fd874efb913f5225ac3eeb9e",
       "version_major": 2,
       "version_minor": 0
      },
      "text/plain": [
       "  0%|          | 0/10346 [00:00<?, ?it/s]"
      ]
     },
     "metadata": {},
     "output_type": "display_data"
    },
    {
     "data": {
      "application/vnd.jupyter.widget-view+json": {
       "model_id": "34b80d387d8c40998d8738b2b1047f2a",
       "version_major": 2,
       "version_minor": 0
      },
      "text/plain": [
       "  0%|          | 0/10346 [00:00<?, ?it/s]"
      ]
     },
     "metadata": {},
     "output_type": "display_data"
    },
    {
     "data": {
      "application/vnd.jupyter.widget-view+json": {
       "model_id": "06b421efe80f4565a7b7e6d2bc5c43f9",
       "version_major": 2,
       "version_minor": 0
      },
      "text/plain": [
       "  0%|          | 0/10346 [00:00<?, ?it/s]"
      ]
     },
     "metadata": {},
     "output_type": "display_data"
    },
    {
     "data": {
      "application/vnd.jupyter.widget-view+json": {
       "model_id": "e4c5aeb1f19c467e8692b2439a23433b",
       "version_major": 2,
       "version_minor": 0
      },
      "text/plain": [
       "  0%|          | 0/10346 [00:00<?, ?it/s]"
      ]
     },
     "metadata": {},
     "output_type": "display_data"
    },
    {
     "data": {
      "application/vnd.jupyter.widget-view+json": {
       "model_id": "a3415a7ce5c64131a99deee752e35f81",
       "version_major": 2,
       "version_minor": 0
      },
      "text/plain": [
       "  0%|          | 0/10346 [00:00<?, ?it/s]"
      ]
     },
     "metadata": {},
     "output_type": "display_data"
    },
    {
     "data": {
      "application/vnd.jupyter.widget-view+json": {
       "model_id": "3453faccc3934a539a15dec8ca189a4a",
       "version_major": 2,
       "version_minor": 0
      },
      "text/plain": [
       "  0%|          | 0/10346 [00:00<?, ?it/s]"
      ]
     },
     "metadata": {},
     "output_type": "display_data"
    },
    {
     "data": {
      "application/vnd.jupyter.widget-view+json": {
       "model_id": "d8a738fe80a94f2e923c18d831c2c9c1",
       "version_major": 2,
       "version_minor": 0
      },
      "text/plain": [
       "  0%|          | 0/10346 [00:00<?, ?it/s]"
      ]
     },
     "metadata": {},
     "output_type": "display_data"
    },
    {
     "name": "stdout",
     "output_type": "stream",
     "text": [
      "Best Loss:  134220128.0\n",
      "SET LAYER\n"
     ]
    }
   ],
   "source": [
    "device = torch.device(\"cuda\" if torch.cuda.is_available() else \"cpu\")\n",
    "\n",
    "y = torch.FloatTensor(y).cuda()\n",
    "X = torch.FloatTensor(x).cuda()\n",
    "\n",
    "model = mvBANNs(X, y, mask, 1, 200, device=device, terminate='SNP').eval()\n",
    "with torch.no_grad():\n",
    "    model.optimize(X, y, mask)"
   ]
  },
  {
   "cell_type": "code",
   "execution_count": 29,
   "id": "1f4c9136-71cc-47f8-a599-7742dd5cb3ac",
   "metadata": {},
   "outputs": [],
   "source": [
    "alpha = model.SNP_alpha.cpu().numpy()\n",
    "np.savetxt(DATA + \"mice_results/immunology_alpha.txt\", alpha)"
   ]
  },
  {
   "cell_type": "code",
   "execution_count": 105,
   "id": "c7dc9ef1-3199-4c01-99a5-72284591ba8e",
   "metadata": {},
   "outputs": [],
   "source": [
    "# load data and calculate p-values\n",
    "alpha = np.loadtxt(DATA + \"mice_results/immunology_alpha.txt\")\n",
    "alpha = norm(alpha)\n",
    "p_vals = p_values(alpha[0], alpha[1:])\n",
    "causals = get_causal(p_vals, 0.05)"
   ]
  },
  {
   "cell_type": "code",
   "execution_count": 106,
   "id": "b7403045-fd1a-4756-8d40-76a86fa0dadc",
   "metadata": {},
   "outputs": [
    {
     "data": {
      "text/plain": [
       "198"
      ]
     },
     "execution_count": 106,
     "metadata": {},
     "output_type": "execute_result"
    }
   ],
   "source": [
    "len(causals)"
   ]
  },
  {
   "cell_type": "markdown",
   "id": "8dd39850-f2b8-46bf-abad-90209b486355",
   "metadata": {
    "jp-MarkdownHeadingCollapsed": true,
    "tags": []
   },
   "source": [
    "### Haematology"
   ]
  },
  {
   "cell_type": "code",
   "execution_count": 3,
   "id": "34ad6424-1a27-4b52-8252-abe60cb13aef",
   "metadata": {},
   "outputs": [],
   "source": [
    "import pyreadr\n",
    "\n",
    "Y = pyreadr.read_r('./Data/Y4.rds')\n",
    "X = pyreadr.read_r('./Data/X4.rds')\n",
    "\n",
    "y = Y[None].to_numpy()\n",
    "x = X[None].to_numpy()"
   ]
  },
  {
   "cell_type": "code",
   "execution_count": 4,
   "id": "3ad5cea9-abf7-4f24-aac9-6b21f10b3b2b",
   "metadata": {},
   "outputs": [
    {
     "data": {
      "text/plain": [
       "(1523, 101)"
      ]
     },
     "execution_count": 4,
     "metadata": {},
     "output_type": "execute_result"
    }
   ],
   "source": [
    "y = permute(y, 100)\n",
    "y.shape"
   ]
  },
  {
   "cell_type": "code",
   "execution_count": 6,
   "id": "110f15dc-fd76-40f0-b19c-a4bffc652db7",
   "metadata": {},
   "outputs": [
    {
     "name": "stdout",
     "output_type": "stream",
     "text": [
      "SNP LAYER\n",
      "Model  0\n"
     ]
    },
    {
     "data": {
      "application/vnd.jupyter.widget-view+json": {
       "model_id": "4bd7e56a95514cb6a9728c5c7c24cf3f",
       "version_major": 2,
       "version_minor": 0
      },
      "text/plain": [
       "  0%|          | 0/10346 [00:00<?, ?it/s]"
      ]
     },
     "metadata": {},
     "output_type": "display_data"
    },
    {
     "name": "stderr",
     "output_type": "stream",
     "text": [
      "/u/home/k/kzheng/BANNs/mvBANNs_pytorch/mvBANNs.py:154: UserWarning: The use of `x.T` on tensors of dimension other than 2 to reverse their shape is deprecated and it will throw an error in a future release. Consider `x.mT` to transpose batches of matrices or `x.permute(*torch.arange(x.ndim - 1, -1, -1))` to reverse the dimensions of a tensor. (Triggered internally at ../aten/src/ATen/native/TensorShape.cpp:3697.)\n",
      "  term1 = Xy - torch.matmul(X.T, Xr) + (d * alpha * mu)\n",
      "/u/home/k/kzheng/BANNs/mvBANNs_pytorch/utils.py:56: UserWarning: To copy construct from a tensor, it is recommended to use sourceTensor.clone().detach() or sourceTensor.clone().detach().requires_grad_(True), rather than torch.tensor(sourceTensor).\n",
      "  loss = linearLoss + klEffect + (((alpha-1)*logodd.unsqueeze(1) + logsigmoid(torch.tensor(logodd.unsqueeze(1)))).sum(-1)).sum()\n"
     ]
    },
    {
     "data": {
      "application/vnd.jupyter.widget-view+json": {
       "model_id": "6e8e976ed94e4e6398aef3fd6e7d3c49",
       "version_major": 2,
       "version_minor": 0
      },
      "text/plain": [
       "  0%|          | 0/10346 [00:00<?, ?it/s]"
      ]
     },
     "metadata": {},
     "output_type": "display_data"
    },
    {
     "data": {
      "application/vnd.jupyter.widget-view+json": {
       "model_id": "8dab9bf63138403e9064802e6b08b232",
       "version_major": 2,
       "version_minor": 0
      },
      "text/plain": [
       "  0%|          | 0/10346 [00:00<?, ?it/s]"
      ]
     },
     "metadata": {},
     "output_type": "display_data"
    },
    {
     "data": {
      "application/vnd.jupyter.widget-view+json": {
       "model_id": "1a6a8dbd6462432e9b4f956c0e791691",
       "version_major": 2,
       "version_minor": 0
      },
      "text/plain": [
       "  0%|          | 0/10346 [00:00<?, ?it/s]"
      ]
     },
     "metadata": {},
     "output_type": "display_data"
    },
    {
     "data": {
      "application/vnd.jupyter.widget-view+json": {
       "model_id": "6417828fb46448fd9a385a64759a5acc",
       "version_major": 2,
       "version_minor": 0
      },
      "text/plain": [
       "  0%|          | 0/10346 [00:00<?, ?it/s]"
      ]
     },
     "metadata": {},
     "output_type": "display_data"
    },
    {
     "data": {
      "application/vnd.jupyter.widget-view+json": {
       "model_id": "8cb96b750cc34bc484f7ddc66227cac7",
       "version_major": 2,
       "version_minor": 0
      },
      "text/plain": [
       "  0%|          | 0/10346 [00:00<?, ?it/s]"
      ]
     },
     "metadata": {},
     "output_type": "display_data"
    },
    {
     "data": {
      "application/vnd.jupyter.widget-view+json": {
       "model_id": "efaa80c3c9c64b95b7bf538591bcc2df",
       "version_major": 2,
       "version_minor": 0
      },
      "text/plain": [
       "  0%|          | 0/10346 [00:00<?, ?it/s]"
      ]
     },
     "metadata": {},
     "output_type": "display_data"
    },
    {
     "data": {
      "application/vnd.jupyter.widget-view+json": {
       "model_id": "babd9c77b7c24539a21631d64c489708",
       "version_major": 2,
       "version_minor": 0
      },
      "text/plain": [
       "  0%|          | 0/10346 [00:00<?, ?it/s]"
      ]
     },
     "metadata": {},
     "output_type": "display_data"
    },
    {
     "data": {
      "application/vnd.jupyter.widget-view+json": {
       "model_id": "ac6f02b99ffc400195e24ded5492ac3a",
       "version_major": 2,
       "version_minor": 0
      },
      "text/plain": [
       "  0%|          | 0/10346 [00:00<?, ?it/s]"
      ]
     },
     "metadata": {},
     "output_type": "display_data"
    },
    {
     "data": {
      "application/vnd.jupyter.widget-view+json": {
       "model_id": "c8aa019d263f41b58ee1808cd368a89d",
       "version_major": 2,
       "version_minor": 0
      },
      "text/plain": [
       "  0%|          | 0/10346 [00:00<?, ?it/s]"
      ]
     },
     "metadata": {},
     "output_type": "display_data"
    },
    {
     "data": {
      "application/vnd.jupyter.widget-view+json": {
       "model_id": "cca3cdccff9c4378bc264c15f381f49a",
       "version_major": 2,
       "version_minor": 0
      },
      "text/plain": [
       "  0%|          | 0/10346 [00:00<?, ?it/s]"
      ]
     },
     "metadata": {},
     "output_type": "display_data"
    },
    {
     "data": {
      "application/vnd.jupyter.widget-view+json": {
       "model_id": "a4c55e4e12ac4f04800b1576fc3af56f",
       "version_major": 2,
       "version_minor": 0
      },
      "text/plain": [
       "  0%|          | 0/10346 [00:00<?, ?it/s]"
      ]
     },
     "metadata": {},
     "output_type": "display_data"
    },
    {
     "data": {
      "application/vnd.jupyter.widget-view+json": {
       "model_id": "f03152f4564e4e97a3fa4d9e5a2d8f9b",
       "version_major": 2,
       "version_minor": 0
      },
      "text/plain": [
       "  0%|          | 0/10346 [00:00<?, ?it/s]"
      ]
     },
     "metadata": {},
     "output_type": "display_data"
    },
    {
     "data": {
      "application/vnd.jupyter.widget-view+json": {
       "model_id": "f5d77c62c85c43b38e4604214260824b",
       "version_major": 2,
       "version_minor": 0
      },
      "text/plain": [
       "  0%|          | 0/10346 [00:00<?, ?it/s]"
      ]
     },
     "metadata": {},
     "output_type": "display_data"
    },
    {
     "data": {
      "application/vnd.jupyter.widget-view+json": {
       "model_id": "00fbbc823d0e4270961f15607aeb2adf",
       "version_major": 2,
       "version_minor": 0
      },
      "text/plain": [
       "  0%|          | 0/10346 [00:00<?, ?it/s]"
      ]
     },
     "metadata": {},
     "output_type": "display_data"
    },
    {
     "data": {
      "application/vnd.jupyter.widget-view+json": {
       "model_id": "b8827ed8c7504f23849e62ad291f1acd",
       "version_major": 2,
       "version_minor": 0
      },
      "text/plain": [
       "  0%|          | 0/10346 [00:00<?, ?it/s]"
      ]
     },
     "metadata": {},
     "output_type": "display_data"
    },
    {
     "data": {
      "application/vnd.jupyter.widget-view+json": {
       "model_id": "95e7d1675ef3451f8411815daf06651e",
       "version_major": 2,
       "version_minor": 0
      },
      "text/plain": [
       "  0%|          | 0/10346 [00:00<?, ?it/s]"
      ]
     },
     "metadata": {},
     "output_type": "display_data"
    },
    {
     "data": {
      "application/vnd.jupyter.widget-view+json": {
       "model_id": "9b7fe92cc969476288ea265346887a4a",
       "version_major": 2,
       "version_minor": 0
      },
      "text/plain": [
       "  0%|          | 0/10346 [00:00<?, ?it/s]"
      ]
     },
     "metadata": {},
     "output_type": "display_data"
    },
    {
     "data": {
      "application/vnd.jupyter.widget-view+json": {
       "model_id": "b4cb5c0f7cf84ccd8113aa73bf4e73bb",
       "version_major": 2,
       "version_minor": 0
      },
      "text/plain": [
       "  0%|          | 0/10346 [00:00<?, ?it/s]"
      ]
     },
     "metadata": {},
     "output_type": "display_data"
    },
    {
     "data": {
      "application/vnd.jupyter.widget-view+json": {
       "model_id": "09c5eef65f51401e80895bb7a0013f4a",
       "version_major": 2,
       "version_minor": 0
      },
      "text/plain": [
       "  0%|          | 0/10346 [00:00<?, ?it/s]"
      ]
     },
     "metadata": {},
     "output_type": "display_data"
    },
    {
     "data": {
      "application/vnd.jupyter.widget-view+json": {
       "model_id": "adb59a103ff8457880f974c1bf69543e",
       "version_major": 2,
       "version_minor": 0
      },
      "text/plain": [
       "  0%|          | 0/10346 [00:00<?, ?it/s]"
      ]
     },
     "metadata": {},
     "output_type": "display_data"
    },
    {
     "data": {
      "application/vnd.jupyter.widget-view+json": {
       "model_id": "b9808190d39342cb9b8680813e2bc2d9",
       "version_major": 2,
       "version_minor": 0
      },
      "text/plain": [
       "  0%|          | 0/10346 [00:00<?, ?it/s]"
      ]
     },
     "metadata": {},
     "output_type": "display_data"
    },
    {
     "data": {
      "application/vnd.jupyter.widget-view+json": {
       "model_id": "c5476830464a41619918b2341a93ed44",
       "version_major": 2,
       "version_minor": 0
      },
      "text/plain": [
       "  0%|          | 0/10346 [00:00<?, ?it/s]"
      ]
     },
     "metadata": {},
     "output_type": "display_data"
    },
    {
     "data": {
      "application/vnd.jupyter.widget-view+json": {
       "model_id": "08047470c470407ea0f5b36b0f0c22a3",
       "version_major": 2,
       "version_minor": 0
      },
      "text/plain": [
       "  0%|          | 0/10346 [00:00<?, ?it/s]"
      ]
     },
     "metadata": {},
     "output_type": "display_data"
    },
    {
     "data": {
      "application/vnd.jupyter.widget-view+json": {
       "model_id": "2ea8d65437af4dd9b0547f93a43ad6d6",
       "version_major": 2,
       "version_minor": 0
      },
      "text/plain": [
       "  0%|          | 0/10346 [00:00<?, ?it/s]"
      ]
     },
     "metadata": {},
     "output_type": "display_data"
    },
    {
     "data": {
      "application/vnd.jupyter.widget-view+json": {
       "model_id": "8de2d15584164834a7cdfec40463a5d9",
       "version_major": 2,
       "version_minor": 0
      },
      "text/plain": [
       "  0%|          | 0/10346 [00:00<?, ?it/s]"
      ]
     },
     "metadata": {},
     "output_type": "display_data"
    },
    {
     "data": {
      "application/vnd.jupyter.widget-view+json": {
       "model_id": "a54ec720e12243b886040426126b38b3",
       "version_major": 2,
       "version_minor": 0
      },
      "text/plain": [
       "  0%|          | 0/10346 [00:00<?, ?it/s]"
      ]
     },
     "metadata": {},
     "output_type": "display_data"
    },
    {
     "data": {
      "application/vnd.jupyter.widget-view+json": {
       "model_id": "94c2559758b548eea04b50e44e16eb50",
       "version_major": 2,
       "version_minor": 0
      },
      "text/plain": [
       "  0%|          | 0/10346 [00:00<?, ?it/s]"
      ]
     },
     "metadata": {},
     "output_type": "display_data"
    },
    {
     "name": "stdout",
     "output_type": "stream",
     "text": [
      "SET LAYER\n"
     ]
    }
   ],
   "source": [
    "device = torch.device(\"cuda\" if torch.cuda.is_available() else \"cpu\")\n",
    "\n",
    "y = torch.FloatTensor(y).cuda()\n",
    "X = torch.FloatTensor(x).cuda()\n",
    "\n",
    "model = mvBANNs(X, y, mask, 1, 200, device=device, terminate='SNP').eval()\n",
    "with torch.no_grad():\n",
    "    model.optimize(X, y, mask)"
   ]
  },
  {
   "cell_type": "code",
   "execution_count": 12,
   "id": "ab2d9cf1-45a9-4a41-ba03-3b291b78f2ef",
   "metadata": {},
   "outputs": [],
   "source": [
    "alpha = model.SNP_alpha.cpu().numpy()\n",
    "np.savetxt(DATA + \"mice_results/haematology_alpha.txt\", alpha)"
   ]
  },
  {
   "cell_type": "code",
   "execution_count": 107,
   "id": "0ab76ab2-7c3a-4061-96a0-140a443425f4",
   "metadata": {},
   "outputs": [
    {
     "name": "stderr",
     "output_type": "stream",
     "text": [
      "/tmp/ipykernel_11154/2761188953.py:4: RuntimeWarning: invalid value encountered in divide\n",
      "  return pip / (np.sum(pip, axis=1).reshape((-1, 1)))\n"
     ]
    }
   ],
   "source": [
    "# load data and calculate p-values\n",
    "alpha = np.loadtxt(DATA + \"mice_results/haematology_alpha.txt\")\n",
    "alpha = norm(alpha)\n",
    "p_vals = p_values(alpha[0], alpha[1:])\n",
    "causals = get_causal(p_vals, 0.05)"
   ]
  },
  {
   "cell_type": "code",
   "execution_count": 108,
   "id": "c59a6cc4-ea84-4102-96dc-6f736ffc0ffc",
   "metadata": {},
   "outputs": [
    {
     "data": {
      "text/plain": [
       "326"
      ]
     },
     "execution_count": 108,
     "metadata": {},
     "output_type": "execute_result"
    }
   ],
   "source": [
    "len(causals)"
   ]
  },
  {
   "cell_type": "markdown",
   "id": "a99c6220-38f3-4bf9-8f6d-d20b0787319c",
   "metadata": {
    "jp-MarkdownHeadingCollapsed": true,
    "tags": []
   },
   "source": [
    "### Biochemistry1"
   ]
  },
  {
   "cell_type": "code",
   "execution_count": 30,
   "id": "2521fc44-def1-4bbd-8a70-62cd508ea746",
   "metadata": {},
   "outputs": [],
   "source": [
    "import pyreadr\n",
    "\n",
    "Y = pyreadr.read_r('./Data/Y5.rds')\n",
    "X = pyreadr.read_r('./Data/X5.rds')\n",
    "\n",
    "y = Y[None].to_numpy()\n",
    "x = X[None].to_numpy()"
   ]
  },
  {
   "cell_type": "code",
   "execution_count": 31,
   "id": "e3af2295-6661-4a1d-aecd-73d44ae82aef",
   "metadata": {},
   "outputs": [
    {
     "data": {
      "text/plain": [
       "(1594, 101)"
      ]
     },
     "execution_count": 31,
     "metadata": {},
     "output_type": "execute_result"
    }
   ],
   "source": [
    "y = permute(y, 100)\n",
    "y.shape"
   ]
  },
  {
   "cell_type": "code",
   "execution_count": 32,
   "id": "98756c81-9db2-4fba-8f45-65b9ea65a9ce",
   "metadata": {},
   "outputs": [
    {
     "name": "stdout",
     "output_type": "stream",
     "text": [
      "SNP LAYER\n",
      "Model  0\n"
     ]
    },
    {
     "data": {
      "application/vnd.jupyter.widget-view+json": {
       "model_id": "3e8c9a7183594c8fa3c2276a415b9da0",
       "version_major": 2,
       "version_minor": 0
      },
      "text/plain": [
       "  0%|          | 0/10346 [00:00<?, ?it/s]"
      ]
     },
     "metadata": {},
     "output_type": "display_data"
    },
    {
     "name": "stderr",
     "output_type": "stream",
     "text": [
      "/u/home/k/kzheng/BANNs/mvBANNs_pytorch/utils.py:56: UserWarning: To copy construct from a tensor, it is recommended to use sourceTensor.clone().detach() or sourceTensor.clone().detach().requires_grad_(True), rather than torch.tensor(sourceTensor).\n",
      "  loss = linearLoss + klEffect + (((alpha-1)*logodd.unsqueeze(1) + logsigmoid(torch.tensor(logodd.unsqueeze(1)))).sum(-1)).sum()\n"
     ]
    },
    {
     "data": {
      "application/vnd.jupyter.widget-view+json": {
       "model_id": "5f674107be28420197bc243cfae1078e",
       "version_major": 2,
       "version_minor": 0
      },
      "text/plain": [
       "  0%|          | 0/10346 [00:00<?, ?it/s]"
      ]
     },
     "metadata": {},
     "output_type": "display_data"
    },
    {
     "data": {
      "application/vnd.jupyter.widget-view+json": {
       "model_id": "6caa5cdfb9414244a6d2d7e352579283",
       "version_major": 2,
       "version_minor": 0
      },
      "text/plain": [
       "  0%|          | 0/10346 [00:00<?, ?it/s]"
      ]
     },
     "metadata": {},
     "output_type": "display_data"
    },
    {
     "data": {
      "application/vnd.jupyter.widget-view+json": {
       "model_id": "f1b09427115048e18d87fa978bde7da6",
       "version_major": 2,
       "version_minor": 0
      },
      "text/plain": [
       "  0%|          | 0/10346 [00:00<?, ?it/s]"
      ]
     },
     "metadata": {},
     "output_type": "display_data"
    },
    {
     "data": {
      "application/vnd.jupyter.widget-view+json": {
       "model_id": "865b77f9a03a4386aacc944f5a78cbe8",
       "version_major": 2,
       "version_minor": 0
      },
      "text/plain": [
       "  0%|          | 0/10346 [00:00<?, ?it/s]"
      ]
     },
     "metadata": {},
     "output_type": "display_data"
    },
    {
     "data": {
      "application/vnd.jupyter.widget-view+json": {
       "model_id": "8dc36333c7f543568b021f27d9400ae3",
       "version_major": 2,
       "version_minor": 0
      },
      "text/plain": [
       "  0%|          | 0/10346 [00:00<?, ?it/s]"
      ]
     },
     "metadata": {},
     "output_type": "display_data"
    },
    {
     "data": {
      "application/vnd.jupyter.widget-view+json": {
       "model_id": "522385e2912b487aa9a37c5369c77d43",
       "version_major": 2,
       "version_minor": 0
      },
      "text/plain": [
       "  0%|          | 0/10346 [00:00<?, ?it/s]"
      ]
     },
     "metadata": {},
     "output_type": "display_data"
    },
    {
     "data": {
      "application/vnd.jupyter.widget-view+json": {
       "model_id": "e203602134fd4afb937be62d46fc9f10",
       "version_major": 2,
       "version_minor": 0
      },
      "text/plain": [
       "  0%|          | 0/10346 [00:00<?, ?it/s]"
      ]
     },
     "metadata": {},
     "output_type": "display_data"
    },
    {
     "data": {
      "application/vnd.jupyter.widget-view+json": {
       "model_id": "c5964b2bb4994ac5b4c823ca64428075",
       "version_major": 2,
       "version_minor": 0
      },
      "text/plain": [
       "  0%|          | 0/10346 [00:00<?, ?it/s]"
      ]
     },
     "metadata": {},
     "output_type": "display_data"
    },
    {
     "data": {
      "application/vnd.jupyter.widget-view+json": {
       "model_id": "3008929d3ad24adaaac41a0603d2cec2",
       "version_major": 2,
       "version_minor": 0
      },
      "text/plain": [
       "  0%|          | 0/10346 [00:00<?, ?it/s]"
      ]
     },
     "metadata": {},
     "output_type": "display_data"
    },
    {
     "data": {
      "application/vnd.jupyter.widget-view+json": {
       "model_id": "c3778da5c35e4050a50b464128be7982",
       "version_major": 2,
       "version_minor": 0
      },
      "text/plain": [
       "  0%|          | 0/10346 [00:00<?, ?it/s]"
      ]
     },
     "metadata": {},
     "output_type": "display_data"
    },
    {
     "data": {
      "application/vnd.jupyter.widget-view+json": {
       "model_id": "7dc0f85b11aa40d193f48543eca3e583",
       "version_major": 2,
       "version_minor": 0
      },
      "text/plain": [
       "  0%|          | 0/10346 [00:00<?, ?it/s]"
      ]
     },
     "metadata": {},
     "output_type": "display_data"
    },
    {
     "data": {
      "application/vnd.jupyter.widget-view+json": {
       "model_id": "59c8ea9d05f8403a894842aa4bec738c",
       "version_major": 2,
       "version_minor": 0
      },
      "text/plain": [
       "  0%|          | 0/10346 [00:00<?, ?it/s]"
      ]
     },
     "metadata": {},
     "output_type": "display_data"
    },
    {
     "data": {
      "application/vnd.jupyter.widget-view+json": {
       "model_id": "bb7c2a457ce942118d659190bd0cbb30",
       "version_major": 2,
       "version_minor": 0
      },
      "text/plain": [
       "  0%|          | 0/10346 [00:00<?, ?it/s]"
      ]
     },
     "metadata": {},
     "output_type": "display_data"
    },
    {
     "data": {
      "application/vnd.jupyter.widget-view+json": {
       "model_id": "af72f0b6b51e4a29ba1c7de866e53fe9",
       "version_major": 2,
       "version_minor": 0
      },
      "text/plain": [
       "  0%|          | 0/10346 [00:00<?, ?it/s]"
      ]
     },
     "metadata": {},
     "output_type": "display_data"
    },
    {
     "data": {
      "application/vnd.jupyter.widget-view+json": {
       "model_id": "43e1353f57254fe983c80629921d356b",
       "version_major": 2,
       "version_minor": 0
      },
      "text/plain": [
       "  0%|          | 0/10346 [00:00<?, ?it/s]"
      ]
     },
     "metadata": {},
     "output_type": "display_data"
    },
    {
     "data": {
      "application/vnd.jupyter.widget-view+json": {
       "model_id": "72457205a3654778b71f903eb7174675",
       "version_major": 2,
       "version_minor": 0
      },
      "text/plain": [
       "  0%|          | 0/10346 [00:00<?, ?it/s]"
      ]
     },
     "metadata": {},
     "output_type": "display_data"
    },
    {
     "data": {
      "application/vnd.jupyter.widget-view+json": {
       "model_id": "7d3e721049d5412b9911606eb952fe85",
       "version_major": 2,
       "version_minor": 0
      },
      "text/plain": [
       "  0%|          | 0/10346 [00:00<?, ?it/s]"
      ]
     },
     "metadata": {},
     "output_type": "display_data"
    },
    {
     "data": {
      "application/vnd.jupyter.widget-view+json": {
       "model_id": "30d8a10adc6442fb9060b0bf44367103",
       "version_major": 2,
       "version_minor": 0
      },
      "text/plain": [
       "  0%|          | 0/10346 [00:00<?, ?it/s]"
      ]
     },
     "metadata": {},
     "output_type": "display_data"
    },
    {
     "data": {
      "application/vnd.jupyter.widget-view+json": {
       "model_id": "3a7d6e7e2efe4ba3a2e335a877e4c9d1",
       "version_major": 2,
       "version_minor": 0
      },
      "text/plain": [
       "  0%|          | 0/10346 [00:00<?, ?it/s]"
      ]
     },
     "metadata": {},
     "output_type": "display_data"
    },
    {
     "data": {
      "application/vnd.jupyter.widget-view+json": {
       "model_id": "e2cdbb64bec24b2bad69ef0b18bbe091",
       "version_major": 2,
       "version_minor": 0
      },
      "text/plain": [
       "  0%|          | 0/10346 [00:00<?, ?it/s]"
      ]
     },
     "metadata": {},
     "output_type": "display_data"
    },
    {
     "data": {
      "application/vnd.jupyter.widget-view+json": {
       "model_id": "63c7d2e2fe4d401db6d8b14c0b0566ef",
       "version_major": 2,
       "version_minor": 0
      },
      "text/plain": [
       "  0%|          | 0/10346 [00:00<?, ?it/s]"
      ]
     },
     "metadata": {},
     "output_type": "display_data"
    },
    {
     "data": {
      "application/vnd.jupyter.widget-view+json": {
       "model_id": "e8b4d5a5f1634c56b2c32e3c579107fd",
       "version_major": 2,
       "version_minor": 0
      },
      "text/plain": [
       "  0%|          | 0/10346 [00:00<?, ?it/s]"
      ]
     },
     "metadata": {},
     "output_type": "display_data"
    },
    {
     "data": {
      "application/vnd.jupyter.widget-view+json": {
       "model_id": "456c8e4f49644bc383793ae1a92d3fef",
       "version_major": 2,
       "version_minor": 0
      },
      "text/plain": [
       "  0%|          | 0/10346 [00:00<?, ?it/s]"
      ]
     },
     "metadata": {},
     "output_type": "display_data"
    },
    {
     "data": {
      "application/vnd.jupyter.widget-view+json": {
       "model_id": "4e78bb4580594b67ad197b83a3cd3aa5",
       "version_major": 2,
       "version_minor": 0
      },
      "text/plain": [
       "  0%|          | 0/10346 [00:00<?, ?it/s]"
      ]
     },
     "metadata": {},
     "output_type": "display_data"
    },
    {
     "data": {
      "application/vnd.jupyter.widget-view+json": {
       "model_id": "f04e80959e8c4773927b020d162fd8bc",
       "version_major": 2,
       "version_minor": 0
      },
      "text/plain": [
       "  0%|          | 0/10346 [00:00<?, ?it/s]"
      ]
     },
     "metadata": {},
     "output_type": "display_data"
    },
    {
     "data": {
      "application/vnd.jupyter.widget-view+json": {
       "model_id": "5f15bfecaee14ed6a6f01a1e649e248f",
       "version_major": 2,
       "version_minor": 0
      },
      "text/plain": [
       "  0%|          | 0/10346 [00:00<?, ?it/s]"
      ]
     },
     "metadata": {},
     "output_type": "display_data"
    },
    {
     "data": {
      "application/vnd.jupyter.widget-view+json": {
       "model_id": "df66e95083ab404894e65a96d1ea255c",
       "version_major": 2,
       "version_minor": 0
      },
      "text/plain": [
       "  0%|          | 0/10346 [00:00<?, ?it/s]"
      ]
     },
     "metadata": {},
     "output_type": "display_data"
    },
    {
     "name": "stdout",
     "output_type": "stream",
     "text": [
      "SET LAYER\n"
     ]
    }
   ],
   "source": [
    "device = torch.device(\"cuda\" if torch.cuda.is_available() else \"cpu\")\n",
    "\n",
    "y = torch.FloatTensor(y).cuda()\n",
    "X = torch.FloatTensor(x).cuda()\n",
    "\n",
    "model = mvBANNs(X, y, mask, 1, 200, device=device, terminate='SNP').eval()\n",
    "with torch.no_grad():\n",
    "    model.optimize(X, y, mask)"
   ]
  },
  {
   "cell_type": "code",
   "execution_count": null,
   "id": "210ad92f-8bbc-47b6-b4d3-51fa27e5f5cb",
   "metadata": {},
   "outputs": [],
   "source": [
    "alpha = model.SNP_alpha.cpu().numpy()\n",
    "np.savetxt(DATA + \"mice_results/biochemistry1_alpha.txt\", alpha)"
   ]
  },
  {
   "cell_type": "code",
   "execution_count": 110,
   "id": "3de919b6-67bf-4e9b-944e-9f9adebc3eff",
   "metadata": {},
   "outputs": [
    {
     "name": "stderr",
     "output_type": "stream",
     "text": [
      "/tmp/ipykernel_11154/2761188953.py:4: RuntimeWarning: invalid value encountered in divide\n",
      "  return pip / (np.sum(pip, axis=1).reshape((-1, 1)))\n"
     ]
    }
   ],
   "source": [
    "# load data and calculate p-values\n",
    "alpha = np.loadtxt(DATA + \"mice_results/biochemistry1_alpha.txt\")\n",
    "alpha = norm(alpha)\n",
    "p_vals = p_values(alpha[0], alpha[1:])\n",
    "causals = get_causal(p_vals, 0.05)"
   ]
  },
  {
   "cell_type": "code",
   "execution_count": 111,
   "id": "bf5e8d61-a1da-4ce5-801d-5b97b38d84ee",
   "metadata": {},
   "outputs": [
    {
     "data": {
      "text/plain": [
       "273"
      ]
     },
     "execution_count": 111,
     "metadata": {},
     "output_type": "execute_result"
    }
   ],
   "source": [
    "len(causals)"
   ]
  },
  {
   "cell_type": "markdown",
   "id": "3e7d3ee6-924e-4533-9a6a-9ca334083ff9",
   "metadata": {
    "tags": []
   },
   "source": [
    "### Biochemistry2"
   ]
  },
  {
   "cell_type": "code",
   "execution_count": 35,
   "id": "6a7b4fc8-bd84-47d8-8921-5bb146f1e117",
   "metadata": {},
   "outputs": [],
   "source": [
    "import pyreadr\n",
    "\n",
    "Y = pyreadr.read_r('./Data/Y6.rds')\n",
    "X = pyreadr.read_r('./Data/X6.rds')\n",
    "\n",
    "y = Y[None].to_numpy()\n",
    "x = X[None].to_numpy()"
   ]
  },
  {
   "cell_type": "code",
   "execution_count": 36,
   "id": "d71665c9-31ed-487a-98c5-52b4a4ac1877",
   "metadata": {},
   "outputs": [
    {
     "data": {
      "text/plain": [
       "(1637, 101)"
      ]
     },
     "execution_count": 36,
     "metadata": {},
     "output_type": "execute_result"
    }
   ],
   "source": [
    "y = permute(y, 100)\n",
    "y.shape"
   ]
  },
  {
   "cell_type": "code",
   "execution_count": 37,
   "id": "531c3b06-71b4-420f-bab3-24597b084fae",
   "metadata": {},
   "outputs": [
    {
     "name": "stdout",
     "output_type": "stream",
     "text": [
      "SNP LAYER\n",
      "Model  0\n"
     ]
    },
    {
     "data": {
      "application/vnd.jupyter.widget-view+json": {
       "model_id": "3686fbf07dc54173b2fcf451c88a57a5",
       "version_major": 2,
       "version_minor": 0
      },
      "text/plain": [
       "  0%|          | 0/10346 [00:00<?, ?it/s]"
      ]
     },
     "metadata": {},
     "output_type": "display_data"
    },
    {
     "name": "stderr",
     "output_type": "stream",
     "text": [
      "/u/home/k/kzheng/BANNs/mvBANNs_pytorch/utils.py:56: UserWarning: To copy construct from a tensor, it is recommended to use sourceTensor.clone().detach() or sourceTensor.clone().detach().requires_grad_(True), rather than torch.tensor(sourceTensor).\n",
      "  loss = linearLoss + klEffect + (((alpha-1)*logodd.unsqueeze(1) + logsigmoid(torch.tensor(logodd.unsqueeze(1)))).sum(-1)).sum()\n"
     ]
    },
    {
     "data": {
      "application/vnd.jupyter.widget-view+json": {
       "model_id": "1cfbab57bfe2420db995fc7d99e80918",
       "version_major": 2,
       "version_minor": 0
      },
      "text/plain": [
       "  0%|          | 0/10346 [00:00<?, ?it/s]"
      ]
     },
     "metadata": {},
     "output_type": "display_data"
    },
    {
     "data": {
      "application/vnd.jupyter.widget-view+json": {
       "model_id": "8762362f618d47e69079d11e6a5bf419",
       "version_major": 2,
       "version_minor": 0
      },
      "text/plain": [
       "  0%|          | 0/10346 [00:00<?, ?it/s]"
      ]
     },
     "metadata": {},
     "output_type": "display_data"
    },
    {
     "data": {
      "application/vnd.jupyter.widget-view+json": {
       "model_id": "380bb322c5e744958ef8a0c9cb8e8322",
       "version_major": 2,
       "version_minor": 0
      },
      "text/plain": [
       "  0%|          | 0/10346 [00:00<?, ?it/s]"
      ]
     },
     "metadata": {},
     "output_type": "display_data"
    },
    {
     "data": {
      "application/vnd.jupyter.widget-view+json": {
       "model_id": "14616df7d77e44839a42bef35ae21b34",
       "version_major": 2,
       "version_minor": 0
      },
      "text/plain": [
       "  0%|          | 0/10346 [00:00<?, ?it/s]"
      ]
     },
     "metadata": {},
     "output_type": "display_data"
    },
    {
     "data": {
      "application/vnd.jupyter.widget-view+json": {
       "model_id": "44ab5fecd9b04d4e98911911949ea824",
       "version_major": 2,
       "version_minor": 0
      },
      "text/plain": [
       "  0%|          | 0/10346 [00:00<?, ?it/s]"
      ]
     },
     "metadata": {},
     "output_type": "display_data"
    },
    {
     "data": {
      "application/vnd.jupyter.widget-view+json": {
       "model_id": "e6a7550bdef44bbea87af8d34d442cf6",
       "version_major": 2,
       "version_minor": 0
      },
      "text/plain": [
       "  0%|          | 0/10346 [00:00<?, ?it/s]"
      ]
     },
     "metadata": {},
     "output_type": "display_data"
    },
    {
     "data": {
      "application/vnd.jupyter.widget-view+json": {
       "model_id": "7df6561b9c144a528ca673afd45df2f4",
       "version_major": 2,
       "version_minor": 0
      },
      "text/plain": [
       "  0%|          | 0/10346 [00:00<?, ?it/s]"
      ]
     },
     "metadata": {},
     "output_type": "display_data"
    },
    {
     "data": {
      "application/vnd.jupyter.widget-view+json": {
       "model_id": "69f05cba93e34e98891859664b2ebad0",
       "version_major": 2,
       "version_minor": 0
      },
      "text/plain": [
       "  0%|          | 0/10346 [00:00<?, ?it/s]"
      ]
     },
     "metadata": {},
     "output_type": "display_data"
    },
    {
     "data": {
      "application/vnd.jupyter.widget-view+json": {
       "model_id": "1fd899ec6aed4d389e5187316ed67974",
       "version_major": 2,
       "version_minor": 0
      },
      "text/plain": [
       "  0%|          | 0/10346 [00:00<?, ?it/s]"
      ]
     },
     "metadata": {},
     "output_type": "display_data"
    },
    {
     "data": {
      "application/vnd.jupyter.widget-view+json": {
       "model_id": "dde35260c4224306838b11af59ccd6ee",
       "version_major": 2,
       "version_minor": 0
      },
      "text/plain": [
       "  0%|          | 0/10346 [00:00<?, ?it/s]"
      ]
     },
     "metadata": {},
     "output_type": "display_data"
    },
    {
     "data": {
      "application/vnd.jupyter.widget-view+json": {
       "model_id": "afaf1a63d05045dfa7a463a63975d309",
       "version_major": 2,
       "version_minor": 0
      },
      "text/plain": [
       "  0%|          | 0/10346 [00:00<?, ?it/s]"
      ]
     },
     "metadata": {},
     "output_type": "display_data"
    },
    {
     "data": {
      "application/vnd.jupyter.widget-view+json": {
       "model_id": "44f227e4d65942d495795909f7c83899",
       "version_major": 2,
       "version_minor": 0
      },
      "text/plain": [
       "  0%|          | 0/10346 [00:00<?, ?it/s]"
      ]
     },
     "metadata": {},
     "output_type": "display_data"
    },
    {
     "data": {
      "application/vnd.jupyter.widget-view+json": {
       "model_id": "93b250b7b787445cbdf4096961eb8383",
       "version_major": 2,
       "version_minor": 0
      },
      "text/plain": [
       "  0%|          | 0/10346 [00:00<?, ?it/s]"
      ]
     },
     "metadata": {},
     "output_type": "display_data"
    },
    {
     "data": {
      "application/vnd.jupyter.widget-view+json": {
       "model_id": "bd863a31737a4359bc1c356c943729b1",
       "version_major": 2,
       "version_minor": 0
      },
      "text/plain": [
       "  0%|          | 0/10346 [00:00<?, ?it/s]"
      ]
     },
     "metadata": {},
     "output_type": "display_data"
    },
    {
     "data": {
      "application/vnd.jupyter.widget-view+json": {
       "model_id": "73952de4d605453fba11c2d82d21f583",
       "version_major": 2,
       "version_minor": 0
      },
      "text/plain": [
       "  0%|          | 0/10346 [00:00<?, ?it/s]"
      ]
     },
     "metadata": {},
     "output_type": "display_data"
    },
    {
     "data": {
      "application/vnd.jupyter.widget-view+json": {
       "model_id": "efa7ed1c63a0464989fffdfb2a763e38",
       "version_major": 2,
       "version_minor": 0
      },
      "text/plain": [
       "  0%|          | 0/10346 [00:00<?, ?it/s]"
      ]
     },
     "metadata": {},
     "output_type": "display_data"
    },
    {
     "data": {
      "application/vnd.jupyter.widget-view+json": {
       "model_id": "523a0d59e2c14908b9187db9abe5e60d",
       "version_major": 2,
       "version_minor": 0
      },
      "text/plain": [
       "  0%|          | 0/10346 [00:00<?, ?it/s]"
      ]
     },
     "metadata": {},
     "output_type": "display_data"
    },
    {
     "data": {
      "application/vnd.jupyter.widget-view+json": {
       "model_id": "4c34f914f31046f0acf3760c9ae3650d",
       "version_major": 2,
       "version_minor": 0
      },
      "text/plain": [
       "  0%|          | 0/10346 [00:00<?, ?it/s]"
      ]
     },
     "metadata": {},
     "output_type": "display_data"
    },
    {
     "data": {
      "application/vnd.jupyter.widget-view+json": {
       "model_id": "afa3cdb1e76043acbdb2cb65560bf9bc",
       "version_major": 2,
       "version_minor": 0
      },
      "text/plain": [
       "  0%|          | 0/10346 [00:00<?, ?it/s]"
      ]
     },
     "metadata": {},
     "output_type": "display_data"
    },
    {
     "data": {
      "application/vnd.jupyter.widget-view+json": {
       "model_id": "2783bfea7b014ed9ad3bdf7591587929",
       "version_major": 2,
       "version_minor": 0
      },
      "text/plain": [
       "  0%|          | 0/10346 [00:00<?, ?it/s]"
      ]
     },
     "metadata": {},
     "output_type": "display_data"
    },
    {
     "data": {
      "application/vnd.jupyter.widget-view+json": {
       "model_id": "90366d647a3947f78da40440ba68ce9d",
       "version_major": 2,
       "version_minor": 0
      },
      "text/plain": [
       "  0%|          | 0/10346 [00:00<?, ?it/s]"
      ]
     },
     "metadata": {},
     "output_type": "display_data"
    },
    {
     "data": {
      "application/vnd.jupyter.widget-view+json": {
       "model_id": "c1e64bbb575542fb8032e47939911010",
       "version_major": 2,
       "version_minor": 0
      },
      "text/plain": [
       "  0%|          | 0/10346 [00:00<?, ?it/s]"
      ]
     },
     "metadata": {},
     "output_type": "display_data"
    },
    {
     "data": {
      "application/vnd.jupyter.widget-view+json": {
       "model_id": "f6c8054982ae43d89ec40cbbee9bce0b",
       "version_major": 2,
       "version_minor": 0
      },
      "text/plain": [
       "  0%|          | 0/10346 [00:00<?, ?it/s]"
      ]
     },
     "metadata": {},
     "output_type": "display_data"
    },
    {
     "data": {
      "application/vnd.jupyter.widget-view+json": {
       "model_id": "576fa928fe4f4d9abafc058e7337bbf9",
       "version_major": 2,
       "version_minor": 0
      },
      "text/plain": [
       "  0%|          | 0/10346 [00:00<?, ?it/s]"
      ]
     },
     "metadata": {},
     "output_type": "display_data"
    },
    {
     "data": {
      "application/vnd.jupyter.widget-view+json": {
       "model_id": "c0adf34ee0cc4ee481283941cc855a1f",
       "version_major": 2,
       "version_minor": 0
      },
      "text/plain": [
       "  0%|          | 0/10346 [00:00<?, ?it/s]"
      ]
     },
     "metadata": {},
     "output_type": "display_data"
    },
    {
     "data": {
      "application/vnd.jupyter.widget-view+json": {
       "model_id": "5d574c27169042b6a80f888427a18ba2",
       "version_major": 2,
       "version_minor": 0
      },
      "text/plain": [
       "  0%|          | 0/10346 [00:00<?, ?it/s]"
      ]
     },
     "metadata": {},
     "output_type": "display_data"
    },
    {
     "data": {
      "application/vnd.jupyter.widget-view+json": {
       "model_id": "686b7932ee9146328516f2142e5b6804",
       "version_major": 2,
       "version_minor": 0
      },
      "text/plain": [
       "  0%|          | 0/10346 [00:00<?, ?it/s]"
      ]
     },
     "metadata": {},
     "output_type": "display_data"
    },
    {
     "name": "stdout",
     "output_type": "stream",
     "text": [
      "SET LAYER\n"
     ]
    }
   ],
   "source": [
    "device = torch.device(\"cuda\" if torch.cuda.is_available() else \"cpu\")\n",
    "\n",
    "y = torch.FloatTensor(y).cuda()\n",
    "X = torch.FloatTensor(x).cuda()\n",
    "\n",
    "model = mvBANNs(X, y, mask, 1, 200, device=device, terminate='SNP').eval()\n",
    "with torch.no_grad():\n",
    "    model.optimize(X, y, mask)"
   ]
  },
  {
   "cell_type": "code",
   "execution_count": null,
   "id": "b2a7627f-0488-47f4-9474-24dde724a03d",
   "metadata": {},
   "outputs": [],
   "source": [
    "alpha = model.SNP_alpha.cpu().numpy()\n",
    "np.savetxt(DATA + \"mice_results/biochemistry2_alpha.txt\", alpha)"
   ]
  },
  {
   "cell_type": "code",
   "execution_count": 113,
   "id": "d2b1ff4e-d226-497c-a720-ed257c97c9fc",
   "metadata": {},
   "outputs": [
    {
     "name": "stderr",
     "output_type": "stream",
     "text": [
      "/tmp/ipykernel_11154/2761188953.py:4: RuntimeWarning: invalid value encountered in divide\n",
      "  return pip / (np.sum(pip, axis=1).reshape((-1, 1)))\n"
     ]
    }
   ],
   "source": [
    "# load data and calculate p-values\n",
    "alpha = np.loadtxt(DATA + \"mice_results/biochemistry2_alpha.txt\")\n",
    "alpha = norm(alpha)\n",
    "p_vals = p_values(alpha[0], alpha[1:])\n",
    "causals = get_causal(p_vals, 0.05)"
   ]
  },
  {
   "cell_type": "code",
   "execution_count": 114,
   "id": "e5082d03-d5d3-43ff-866f-34816ec23f93",
   "metadata": {},
   "outputs": [
    {
     "data": {
      "text/plain": [
       "209"
      ]
     },
     "execution_count": 114,
     "metadata": {},
     "output_type": "execute_result"
    }
   ],
   "source": [
    "len(causals)"
   ]
  }
 ],
 "metadata": {
  "kernelspec": {
   "display_name": "banns_env",
   "language": "python",
   "name": "banns_env"
  },
  "language_info": {
   "codemirror_mode": {
    "name": "ipython",
    "version": 3
   },
   "file_extension": ".py",
   "mimetype": "text/x-python",
   "name": "python",
   "nbconvert_exporter": "python",
   "pygments_lexer": "ipython3",
   "version": "3.10.12"
  }
 },
 "nbformat": 4,
 "nbformat_minor": 5
}
