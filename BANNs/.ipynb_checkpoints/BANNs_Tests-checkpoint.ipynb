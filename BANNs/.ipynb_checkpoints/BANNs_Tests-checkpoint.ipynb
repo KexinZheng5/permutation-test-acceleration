{
 "cells": [
  {
   "cell_type": "markdown",
   "metadata": {
    "id": "R87DzOS5qYVT",
    "tags": []
   },
   "source": [
    "# Setup"
   ]
  },
  {
   "cell_type": "code",
   "execution_count": 6,
   "metadata": {
    "executionInfo": {
     "elapsed": 6869,
     "status": "ok",
     "timestamp": 1721413146301,
     "user": {
      "displayName": "KEXIN ZHENG",
      "userId": "07736618042047162701"
     },
     "user_tz": 420
    },
    "id": "GYT31dG74rSm"
   },
   "outputs": [],
   "source": [
    "import numpy as np\n",
    "import matplotlib.pyplot as plt\n",
    "import sys\n",
    "import pyreadr\n",
    "\n",
    "BIN = \"/u/home/k/kzheng/.local/bin\"\n",
    "SOURCE = \"./_Source/\"\n",
    "DATA = \"./_Data/\"\n",
    "TRAIN = \"./_Data/mice_source/\"\n",
    "\n",
    "sys.path.append(SOURCE+'BANNs/')\n",
    "sys.path.append(SOURCE)\n",
    "sys.path.append(BIN)\n",
    "\n",
    "from BANN import *\n",
    "from data_generator import *\n",
    "\n",
    "# seed\n",
    "np.random.seed(111)"
   ]
  },
  {
   "cell_type": "code",
   "execution_count": 3,
   "metadata": {},
   "outputs": [],
   "source": [
    "# Run BANNs on data\n",
    "# parameters:\n",
    "# X: genotype matrix\n",
    "# y: phenotype matrix\n",
    "# mask: mask\n",
    "# nModelsSNP, nModelsSET: corresponding model parameters\n",
    "def runBANN(X, y, mask, nModelsSNP, nModelsSET):\n",
    "    bann=BANNs(X,y, mask, nModelsSNP=nModelsSNP, nModelsSET=nModelsSET)\n",
    "    [SNP_layer, SET_layer]=bann.run()\n",
    "\n",
    "    return SNP_layer, SET_layer"
   ]
  },
  {
   "cell_type": "markdown",
   "metadata": {
    "jp-MarkdownHeadingCollapsed": true,
    "tags": []
   },
   "source": [
    "# Synthetic Data"
   ]
  },
  {
   "cell_type": "code",
   "execution_count": 2,
   "metadata": {
    "executionInfo": {
     "elapsed": 11,
     "status": "ok",
     "timestamp": 1721413155755,
     "user": {
      "displayName": "KEXIN ZHENG",
      "userId": "07736618042047162701"
     },
     "user_tz": 420
    },
    "id": "-ZuPgHqMpe83"
   },
   "outputs": [],
   "source": [
    "# Generate genotype samples\n",
    "# parameters:\n",
    "# N: number of samples\n",
    "# p: number of SNPs\n",
    "# [lb, ub]: bound for minor allele frequency\n",
    "def genoGen(N, p, lb, ub):\n",
    "    # Randomly assign a minor allele frequency (maf) value to each SNP\n",
    "    maf = lb + (ub - lb)*np.random.uniform(size=p)\n",
    "    # Simulate the genotype matrix based on maf values for each SNP.\n",
    "    # If the random allele frequencies we generate in the simulation step below is larger than the corresponding maf\n",
    "    X = ((np.random.uniform(size=[N,p])>maf)&(np.random.uniform(size=[N,p])>maf))*1.0\n",
    "\n",
    "    # Center and scale (z-score standardize) the genotype matrix:\n",
    "    Xmean = np.mean(X, axis=0) #mean of each column, which corresponds to a SNP locus\n",
    "    Xstd = np.std(X,axis=0) #standard deviation of each column\n",
    "    X = np.nan_to_num((X-Xmean)/Xstd) #Final standardized simulated genotype matrix\n",
    "\n",
    "    return X, Xmean, Xstd\n",
    "\n",
    "# Generate phenotype samples\n",
    "# parameters:\n",
    "# N: number of samples\n",
    "# X: standardized simulated genotype matrix\n",
    "# H2: broad-sense heritability\n",
    "# rho: percentage of the heritability comes from additive effects\n",
    "# ncausal1: number of causal indices with additive effect\n",
    "# ncausal2: number of pairs of causal indices with epistatic effect\n",
    "# effectSize1: effect size for SNP with additive effect\n",
    "# effectSize2: effect size for SNP with multiplicative effect\n",
    "# returns: phenotype matrix, indices of SNP with additive effect, indices of SNP with epistatic effects\n",
    "def phenoGen(N, p, X, H2, rho, ncausal1, ncausal2, effectSize1, effectSize2):\n",
    "    # Simulate random noise (drawn from standard normal distribution) for the rest of phenotypic variation (40%):\n",
    "    y_noise = np.random.normal(size=N)\n",
    "    y_noise = y_noise * np.sqrt((1 - H2) / np.var(y_noise))\n",
    "    y = y_noise.reshape(N, 1)\n",
    "\n",
    "    causal_add = []\n",
    "    causal_mult1 = []\n",
    "    causal_mult2 = []\n",
    "\n",
    "    if (ncausal1 > 0):\n",
    "        # let causal_indices be the first ncausal SNPs\n",
    "        causal_add=np.random.randint(p, size=ncausal1)\n",
    "        # Simulate phenotype data based on additive effects:\n",
    "        Xadditive = X[:, causal_add] # Get the causal SNP values\n",
    "\n",
    "        betaAdd = np.repeat(effectSize1, ncausal1)# Initialize all effect sizes for these SNPs\n",
    "        #Initialize the value of the portion of phenotypic variation explained by the additive effects as XB:\n",
    "        y_additive=np.dot(Xadditive, betaAdd)\n",
    "        # Re-scale additive effect sizes based on H^2*rho:\n",
    "        betaAdd= betaAdd * np.sqrt(H2*rho/np.var(y_additive))\n",
    "        # Update y_additive based on effect sizes:\n",
    "        y_additive=np.dot(Xadditive, betaAdd)\n",
    "\n",
    "        # Add y_additive and y_noise to get the final simulated phenotypes:\n",
    "        y = np.add(y_additive.reshape(N, 1), y)\n",
    "\n",
    "    if (ncausal2 > 0):\n",
    "        # Simulate epistatic effects\n",
    "        causal_mult1=np.random.randint(p, size=ncausal2)\n",
    "        causal_mult2=np.random.randint(p, size=ncausal2)\n",
    "        epi = np.multiply(X[:,causal_mult1], X[:,causal_mult2])\n",
    "\n",
    "        betaMult = np.repeat(effectSize2, ncausal2)\n",
    "        y_multiplicative=np.dot(epi, betaMult)\n",
    "        betaMult= betaMult * np.sqrt(H2*(1-rho)/np.var(y_multiplicative))\n",
    "        y_multiplicative=np.dot(epi, betaMult)\n",
    "\n",
    "        y = np.add(y, y_multiplicative.reshape(N, 1))\n",
    "\n",
    "    return y, causal_add, causal_mult1, causal_mult2\n",
    "\n",
    "def phenoGenNew(N, p, X, H2, rho, ncausal1, ncausal2, effectSize1, effectSize2):\n",
    "    # Simulate random noise (drawn from standard normal distribution) for the rest of phenotypic variation (40%):\n",
    "    y_noise = np.random.normal(size=N)\n",
    "    y_noise = y_noise * np.sqrt((1 - H2) / np.var(y_noise))\n",
    "    y = y_noise.reshape(N, 1)\n",
    "\n",
    "    causal_add = []\n",
    "    causal_mult1 = []\n",
    "    causal_mult2 = []\n",
    "\n",
    "    if (ncausal1 > 0):\n",
    "        # let causal_indices be the first ncausal SNPs\n",
    "        causal_add=np.random.randint(p, size=ncausal1)\n",
    "        # Simulate phenotype data based on additive effects:\n",
    "        Xadditive = X[:, causal_add] # Get the causal SNP values\n",
    "\n",
    "        betaAdd = np.repeat(effectSize1, ncausal1)# Initialize all effect sizes for these SNPs\n",
    "        #Initialize the value of the portion of phenotypic variation explained by the additive effects as XB:\n",
    "        y_additive=np.dot(Xadditive, betaAdd)\n",
    "        # Re-scale additive effect sizes based on H^2*rho:\n",
    "        betaAdd= betaAdd * np.sqrt(H2*rho/np.var(y_additive))\n",
    "        # Update y_additive based on effect sizes:\n",
    "        y_additive=np.dot(Xadditive, betaAdd)\n",
    "\n",
    "        # Add y_additive and y_noise to get the final simulated phenotypes:\n",
    "        y = np.add(y_additive.reshape(N, 1), y)\n",
    "\n",
    "        # additional epistatic effect for existing causal SNPs\n",
    "        if (ncausal2 > 0):\n",
    "            causal_mult1=np.random.choice(causal_add, size=ncausal2)\n",
    "            causal_mult2=np.random.choice(causal_add, size=ncausal2)\n",
    "            epi = np.multiply(X[:,causal_mult1], X[:,causal_mult2])\n",
    "\n",
    "            betaMult = np.repeat(effectSize2, ncausal2)\n",
    "            y_multiplicative=np.dot(epi, betaMult)\n",
    "            betaMult= betaMult * np.sqrt(H2*(1-rho)/np.var(y_multiplicative))\n",
    "            y_multiplicative=np.dot(epi, betaMult)\n",
    "\n",
    "            y = np.add(y, y_multiplicative.reshape(N, 1))\n",
    "\n",
    "    return y, causal_add, causal_mult1, causal_mult2\n",
    "\n",
    "# Generate annotation mask\n",
    "# parameters:\n",
    "# p: number of SNPs\n",
    "# n: number of SNPs in a SNP-set\n",
    "def maskGen(p, n):\n",
    "    nSNPs= p #Number of SNPs\n",
    "    nSets= int(p/n) #Number of SNP-sets\n",
    "    mask=np.zeros(shape=(nSNPs,nSets)) #Initialize annotation mask as a matrix of zeros of size nSNPs by nSets\n",
    "\n",
    "    for i in range(0,nSets):#iterating over the columns of the annotation matrix, which correspond to SNP-sets\n",
    "        for j in range(i*n,(i+1)*n): #iterating over the rows of the annotation matrix, which correspond to SNPs\n",
    "            mask[j,i]=1 #Make corresponding 5 SNPs fall into the corresponding SNPsets by turning these values to \"1\"\n",
    "\n",
    "    return mask"
   ]
  },
  {
   "cell_type": "markdown",
   "metadata": {
    "id": "U0MP3odQPGGS",
    "tags": []
   },
   "source": [
    "## Sample BANNs Execution"
   ]
  },
  {
   "cell_type": "code",
   "execution_count": 5,
   "metadata": {
    "colab": {
     "base_uri": "https://localhost:8080/"
    },
    "executionInfo": {
     "elapsed": 79099,
     "status": "ok",
     "timestamp": 1721413235098,
     "user": {
      "displayName": "KEXIN ZHENG",
      "userId": "07736618042047162701"
     },
     "user_tz": 420
    },
    "id": "X59Wika7KLep",
    "outputId": "6012ce97-98d4-4f6d-bedf-a04fe480d663"
   },
   "outputs": [
    {
     "name": "stdout",
     "output_type": "stream",
     "text": [
      "Welcome to BANNs. Please make sure SNPs in the SNP List you provide are in the same order as in the genotype matrix. Results we return will be in the order of SNP annotations and SNP-set annotations.\n",
      "(1000,)\n",
      "\u001b[1m20/20\u001b[0m \u001b[32m━━━━━━━━━━━━━━━━━━━━\u001b[0m\u001b[37m\u001b[0m \u001b[1m17s\u001b[0m 828ms/step\n",
      "\u001b[1m20/20\u001b[0m \u001b[32m━━━━━━━━━━━━━━━━━━━━\u001b[0m\u001b[37m\u001b[0m \u001b[1m16s\u001b[0m 818ms/step\n",
      "(1000,)\n",
      "\u001b[1m20/20\u001b[0m \u001b[32m━━━━━━━━━━━━━━━━━━━━\u001b[0m\u001b[37m\u001b[0m \u001b[1m3s\u001b[0m 166ms/step\n",
      "\u001b[1m20/20\u001b[0m \u001b[32m━━━━━━━━━━━━━━━━━━━━\u001b[0m\u001b[37m\u001b[0m \u001b[1m3s\u001b[0m 167ms/step\n"
     ]
    }
   ],
   "source": [
    "# genotype\n",
    "N = 1000\n",
    "p = 1000\n",
    "lb = 0.05\n",
    "ub = 0.5\n",
    "\n",
    "# phenotype\n",
    "H2 = 0.9\n",
    "rho = 1\n",
    "ncausal1 = 10\n",
    "ncausal2 = 10\n",
    "effectSize1 = 1\n",
    "effectSize2 = 1\n",
    "\n",
    "# mask\n",
    "n = 5\n",
    "\n",
    "X, Xmean, Xstd = genoGen(N, p, lb, ub)\n",
    "y, add, mult1, mult2 = phenoGen(N, p, X, H2, rho, ncausal1, ncausal2, effectSize1, effectSize2)\n",
    "y = y.flatten()\n",
    "mask = maskGen(p, n)\n",
    "\n",
    "SNP_layer, SET_layer= runBANN(X, y, mask, 20, 20)"
   ]
  },
  {
   "cell_type": "markdown",
   "metadata": {
    "id": "imRcyiFTKL9G",
    "jp-MarkdownHeadingCollapsed": true,
    "tags": []
   },
   "source": [
    "## Bootstrapping"
   ]
  },
  {
   "cell_type": "code",
   "execution_count": 5,
   "metadata": {
    "executionInfo": {
     "elapsed": 64,
     "status": "ok",
     "timestamp": 1721413235102,
     "user": {
      "displayName": "KEXIN ZHENG",
      "userId": "07736618042047162701"
     },
     "user_tz": 420
    },
    "id": "XLlLuQssPs9j"
   },
   "outputs": [],
   "source": [
    "def randSample(X, y, size):\n",
    "  indices = np.random.choice(X.shape[0], size)\n",
    "\n",
    "  X_sampled = X[indices]\n",
    "  y_sampled = y[indices]\n",
    "\n",
    "  return X_sampled, y_sampled\n",
    "\n",
    "# Save files:\n",
    "def saveBootstrap(SETpips, SNPpips, add, mult1, mult2):\n",
    "  counts['bootstrap'] += 1\n",
    "  np.savetxt(PATH+\"BANNs_Test_Data/bootstrapSET_\" + str(counts['bootstrap']) + \".txt\", SETpips, delimiter=\" \")\n",
    "  np.savetxt(PATH+\"BANNs_Test_Data/bootstrapSNP_\" + str(counts['bootstrap']) + \".txt\", SNPpips, delimiter=\" \")\n",
    "  np.savetxt(PATH+\"BANNs_Test_Data/bootstrapADD_\" + str(counts['bootstrap']) + \".txt\", add, delimiter=\" \", fmt='%u')\n",
    "  np.savetxt(PATH+\"BANNs_Test_Data/bootstrapMULT1_\" + str(counts['bootstrap']) + \".txt\", mult1, delimiter=\" \", fmt='%u')\n",
    "  np.savetxt(PATH+\"BANNs_Test_Data/bootstrapMULT2_\" + str(counts['bootstrap']) + \".txt\", mult2, delimiter=\" \", fmt='%u')\n",
    "  writeCount()\n",
    "\n",
    "  # Save files:\n",
    "def loadBootstrap(num):\n",
    "  SETpips = np.loadtxt(PATH+\"BANNs_Test_Data/bootstrapSET_\" + num + \".txt\")\n",
    "  SNPpips = np.loadtxt(PATH+\"BANNs_Test_Data/bootstrapSNP_\" + num + \".txt\")\n",
    "  add = np.loadtxt(PATH+\"BANNs_Test_Data/bootstrapADD_\" + num + \".txt\")\n",
    "  mult1 = np.loadtxt(PATH+\"BANNs_Test_Data/bootstrapMULT1_\" + num + \".txt\")\n",
    "  mult2 = np.loadtxt(PATH+\"BANNs_Test_Data/bootstrapMULT2_\" + num + \".txt\")\n",
    "\n",
    "  return SETpips, SNPpips, add, mult1, mult2"
   ]
  },
  {
   "cell_type": "markdown",
   "metadata": {
    "id": "-laX3ypgwTFz",
    "jp-MarkdownHeadingCollapsed": true,
    "tags": []
   },
   "source": [
    "## Test\n",
    "Bootstrapping with 10,000 samples pool and pull 1000 random samples each time for 100 times."
   ]
  },
  {
   "cell_type": "code",
   "execution_count": 12,
   "metadata": {
    "executionInfo": {
     "elapsed": 826,
     "status": "ok",
     "timestamp": 1721413494775,
     "user": {
      "displayName": "KEXIN ZHENG",
      "userId": "07736618042047162701"
     },
     "user_tz": 420
    },
    "id": "0lCR7y8SPTiA"
   },
   "outputs": [],
   "source": [
    "import time\n",
    "\n",
    "# genotype\n",
    "N = 10000\n",
    "p = 1000\n",
    "lb = 0.05\n",
    "ub = 0.5\n",
    "\n",
    "# phenotype\n",
    "H2 = 0.9\n",
    "rho = 0\n",
    "ncausal1 = 0\n",
    "ncausal2 = 10\n",
    "effectSize1 = 0\n",
    "effectSize2 = 1\n",
    "\n",
    "# mask\n",
    "n = 5\n",
    "\n",
    "# number of random samples\n",
    "S = 10000\n",
    "\n",
    "X, Xmean, Xstd = genoGen(N, p, lb, ub)\n",
    "y, add, mult1, mult2 = phenoGen(N, p, X, H2, rho, ncausal1, ncausal2, effectSize1, effectSize2)\n",
    "y = y.flatten()\n",
    "mask = maskGen(p, n)"
   ]
  },
  {
   "cell_type": "code",
   "execution_count": 13,
   "metadata": {
    "colab": {
     "base_uri": "https://localhost:8080/"
    },
    "executionInfo": {
     "elapsed": 182,
     "status": "ok",
     "timestamp": 1721413497275,
     "user": {
      "displayName": "KEXIN ZHENG",
      "userId": "07736618042047162701"
     },
     "user_tz": 420
    },
    "id": "fm75mfApA4UW",
    "outputId": "de8b738b-99b9-435f-d55d-2db55e131f05"
   },
   "outputs": [
    {
     "data": {
      "text/plain": [
       "([],\n",
       " array([362, 318, 723, 443, 622, 960, 589, 614, 510, 269]),\n",
       " array([294, 155, 452, 852, 611, 561, 685, 571,  24, 423]))"
      ]
     },
     "execution_count": 13,
     "metadata": {},
     "output_type": "execute_result"
    }
   ],
   "source": [
    "add, mult1, mult2"
   ]
  },
  {
   "cell_type": "code",
   "execution_count": null,
   "metadata": {
    "id": "WjGpYHxA6OvX"
   },
   "outputs": [],
   "source": [
    "# add an additional SNP (product of 2 SNPs with epistatic effect)\n",
    "# X = np.c_[ X, np.multiply(X[:,mult1], X[:,mult2]) ]"
   ]
  },
  {
   "cell_type": "code",
   "execution_count": 6,
   "metadata": {
    "colab": {
     "base_uri": "https://localhost:8080/"
    },
    "executionInfo": {
     "elapsed": 2447745,
     "status": "ok",
     "timestamp": 1721419890007,
     "user": {
      "displayName": "KEXIN ZHENG",
      "userId": "07736618042047162701"
     },
     "user_tz": 420
    },
    "id": "ZyDOFmNrRhsy",
    "outputId": "17bb805f-bd54-4095-c616-f3be30d66f49",
    "tags": []
   },
   "outputs": [
    {
     "name": "stdout",
     "output_type": "stream",
     "text": [
      "iteration: 1\n"
     ]
    },
    {
     "ename": "NameError",
     "evalue": "name 'X' is not defined",
     "output_type": "error",
     "traceback": [
      "\u001b[0;31m---------------------------------------------------------------------------\u001b[0m",
      "\u001b[0;31mNameError\u001b[0m                                 Traceback (most recent call last)",
      "Cell \u001b[0;32mIn[6], line 13\u001b[0m\n\u001b[1;32m     11\u001b[0m \u001b[38;5;28;01mfor\u001b[39;00m i \u001b[38;5;129;01min\u001b[39;00m \u001b[38;5;28mrange\u001b[39m(\u001b[38;5;241m1\u001b[39m):\n\u001b[1;32m     12\u001b[0m   \u001b[38;5;28mprint\u001b[39m(\u001b[38;5;124m\"\u001b[39m\u001b[38;5;124miteration:\u001b[39m\u001b[38;5;124m\"\u001b[39m, i \u001b[38;5;241m+\u001b[39m \u001b[38;5;241m1\u001b[39m)\n\u001b[0;32m---> 13\u001b[0m   X_sampled, y_sampled \u001b[38;5;241m=\u001b[39m randSample(\u001b[43mX\u001b[49m, y, S)\n\u001b[1;32m     14\u001b[0m   \u001b[38;5;66;03m# Start profiling\u001b[39;00m\n\u001b[1;32m     15\u001b[0m   \u001b[38;5;66;03m#pr.enable()\u001b[39;00m\n\u001b[1;32m     16\u001b[0m   tracemalloc\u001b[38;5;241m.\u001b[39mstart()\n",
      "\u001b[0;31mNameError\u001b[0m: name 'X' is not defined"
     ]
    }
   ],
   "source": [
    "import tracemalloc\n",
    "import cProfile, pstats, io\n",
    "from pstats import SortKey\n",
    "\n",
    "SETpips_bootstrap = []\n",
    "SNPpips_bootstrap = []\n",
    "\n",
    "snapshot = None\n",
    "pr = cProfile.Profile()\n",
    "\n",
    "for i in range(1):\n",
    "  print(\"iteration:\", i + 1)\n",
    "  X_sampled, y_sampled = randSample(X, y, S)\n",
    "  # Start profiling\n",
    "  #pr.enable()\n",
    "  tracemalloc.start()\n",
    "\n",
    "  SNP_layer, SET_layer = runBANN(X_sampled, y_sampled, mask, 20, 20)\n",
    "\n",
    "  snapshot = tracemalloc.take_snapshot()\n",
    "  # Stop\n",
    "  tracemalloc.stop()\n",
    "  #pr.disable()\n",
    "\n",
    "  SETpips_bootstrap.append(SET_layer.pip)\n",
    "  SNPpips_bootstrap.append(SNP_layer.pip)"
   ]
  },
  {
   "cell_type": "code",
   "execution_count": 16,
   "metadata": {
    "colab": {
     "base_uri": "https://localhost:8080/"
    },
    "executionInfo": {
     "elapsed": 248,
     "status": "ok",
     "timestamp": 1721417361574,
     "user": {
      "displayName": "KEXIN ZHENG",
      "userId": "07736618042047162701"
     },
     "user_tz": 420
    },
    "id": "Ug4av82wrnot",
    "outputId": "8a377c70-aa74-485d-abac-5a6016b22e1e"
   },
   "outputs": [
    {
     "name": "stdout",
     "output_type": "stream",
     "text": [
      "         1197670 function calls in 2520.302 seconds\n",
      "\n",
      "   Ordered by: cumulative time\n",
      "\n",
      "   ncalls  tottime  percall  cumtime  percall filename:lineno(function)\n",
      "        1    0.000    0.000 2520.302 2520.302 <ipython-input-5-77bc2efca8c9>:136(runBANN)\n",
      "        1    0.161    0.161 2519.680 2519.680 /content/drive/MyDrive/BANNs/BANNs_Source_Code/BANN.py:87(run)\n",
      "        2    0.000    0.000 2428.749 1214.375 /content/drive/MyDrive/BANNs/BANNs_Source_Code/customModel.py:49(train)\n",
      "        4    0.673    0.168 2428.732  607.183 /content/drive/MyDrive/BANNs/BANNs_Source_Code/customModel.py:37(optimize)\n",
      "       80 2372.803   29.660 2372.818   29.660 /content/drive/MyDrive/BANNs/BANNs_Source_Code/utils.py:58(diagsq)\n",
      "        2    0.015    0.008 1218.812  609.406 /content/drive/MyDrive/BANNs/BANNs_Source_Code/customModel.py:21(build)\n",
      "        2   81.536   40.768   90.761   45.381 /content/drive/MyDrive/BANNs/BANNs_Source_Code/BANN.py:76(estimatePVE)\n",
      "       80    0.487    0.006   54.945    0.687 /content/drive/MyDrive/BANNs/BANNs_Source_Code/customModel.py:54(gradient_updates)\n",
      "      240   41.043    0.171   48.331    0.201 /content/drive/MyDrive/BANNs/BANNs_Source_Code/utils.py:82(gradients)\n",
      "      204    6.585    0.032    9.236    0.045 /usr/local/lib/python3.10/dist-packages/numpy/core/_methods.py:135(_var)\n",
      "      200    0.006    0.000    9.113    0.046 /content/drive/MyDrive/BANNs/BANNs_Source_Code/utils.py:27(var1)\n",
      "      202    0.098    0.000    9.103    0.045 /usr/local/lib/python3.10/dist-packages/numpy/core/fromnumeric.py:3654(var)\n",
      "      480    0.149    0.000    6.050    0.013 /content/drive/MyDrive/BANNs/BANNs_Source_Code/utils.py:71(elbo)\n",
      "   144969    0.853    0.000    5.764    0.000 /usr/local/lib/python3.10/dist-packages/numpy/core/fromnumeric.py:2177(sum)\n",
      "   145826    5.558    0.000    5.558    0.000 {method 'reduce' of 'numpy.ufunc' objects}\n",
      "      480    0.014    0.000    5.398    0.011 /content/drive/MyDrive/BANNs/BANNs_Source_Code/utils.py:24(logsigmoid)\n",
      "      480    5.337    0.011    5.384    0.011 /content/drive/MyDrive/BANNs/BANNs_Source_Code/utils.py:16(logpexp)\n",
      "   145411    1.401    0.000    4.798    0.000 /usr/local/lib/python3.10/dist-packages/numpy/core/fromnumeric.py:71(_wrapreduction)\n",
      "   144000    1.305    0.000    1.305    0.000 /content/drive/MyDrive/BANNs/BANNs_Source_Code/utils.py:13(sigmoid)\n",
      "        1    0.000    0.000    0.621    0.621 /content/drive/MyDrive/BANNs/BANNs_Source_Code/BANN.py:11(__init__)\n",
      "        1    0.186    0.186    0.582    0.582 /content/drive/MyDrive/BANNs/BANNs_Source_Code/BANN.py:72(center_scale_inputs)\n",
      "      480    0.435    0.001    0.435    0.001 {built-in method builtins.sum}\n",
      "   145411    0.296    0.000    0.296    0.000 /usr/local/lib/python3.10/dist-packages/numpy/core/fromnumeric.py:72(<dictcomp>)\n",
      "       80    0.011    0.000    0.283    0.004 /usr/local/lib/python3.10/dist-packages/keras/src/utils/generic_utils.py:180(update)\n",
      "       80    0.002    0.000    0.272    0.003 /usr/local/lib/python3.10/dist-packages/keras/src/utils/io_utils.py:73(print_msg)\n",
      "   144969    0.267    0.000    0.267    0.000 /usr/local/lib/python3.10/dist-packages/numpy/core/fromnumeric.py:2172(_sum_dispatcher)\n",
      "       80    0.002    0.000    0.240    0.003 /usr/local/lib/python3.10/dist-packages/ipykernel/iostream.py:335(flush)\n",
      "        2    0.000    0.000    0.232    0.116 /usr/local/lib/python3.10/dist-packages/numpy/core/fromnumeric.py:3513(std)\n",
      "        2    0.001    0.000    0.232    0.116 /usr/local/lib/python3.10/dist-packages/numpy/core/_methods.py:204(_std)\n",
      "       80    0.002    0.000    0.173    0.002 /usr/lib/python3.10/threading.py:589(wait)\n",
      "       67    0.001    0.000    0.171    0.003 /usr/lib/python3.10/threading.py:288(wait)\n",
      "      676    0.169    0.000    0.169    0.000 {method 'acquire' of '_thread.lock' objects}\n",
      "   145411    0.168    0.000    0.168    0.000 {method 'items' of 'dict' objects}\n",
      "        2    0.019    0.009    0.153    0.077 /usr/local/lib/python3.10/dist-packages/numpy/lib/type_check.py:403(nan_to_num)\n",
      "   145477    0.137    0.000    0.137    0.000 {built-in method builtins.isinstance}\n",
      "      328    0.003    0.000    0.087    0.000 /usr/local/lib/python3.10/dist-packages/ipykernel/iostream.py:195(schedule)\n",
      "      200    0.058    0.000    0.082    0.000 {method 'choice' of 'numpy.random.mtrand.RandomState' objects}\n",
      "      328    0.080    0.000    0.080    0.000 /usr/local/lib/python3.10/dist-packages/zmq/sugar/socket.py:545(send)\n",
      "     1461    0.014    0.000    0.066    0.000 /usr/local/lib/python3.10/dist-packages/numpy/core/fromnumeric.py:53(_wrapfunc)\n",
      "        2    0.051    0.026    0.051    0.026 /usr/local/lib/python3.10/dist-packages/numpy/lib/ufunclike.py:71(isposinf)\n",
      "      480    0.008    0.000    0.046    0.000 /usr/local/lib/python3.10/dist-packages/numpy/core/numeric.py:561(argwhere)\n",
      "      720    0.046    0.000    0.046    0.000 /content/drive/MyDrive/BANNs/BANNs_Source_Code/utils.py:47(betavar)\n",
      "        4    0.043    0.011    0.043    0.011 {built-in method numpy.array}\n",
      "        2    0.040    0.020    0.040    0.020 /usr/local/lib/python3.10/dist-packages/numpy/lib/ufunclike.py:142(isneginf)\n",
      "      806    0.018    0.000    0.040    0.000 /usr/local/lib/python3.10/dist-packages/numpy/core/fromnumeric.py:40(_wrapit)\n",
      "        1    0.037    0.037    0.039    0.039 /content/drive/MyDrive/BANNs/BANNs_Source_Code/BANN.py:27(checkInputs)\n",
      "      417    0.003    0.000    0.036    0.000 /usr/local/lib/python3.10/dist-packages/numpy/core/fromnumeric.py:423(repeat)\n",
      "       86    0.002    0.000    0.031    0.000 /usr/local/lib/python3.10/dist-packages/ipykernel/iostream.py:384(write)\n",
      "      562    0.001    0.000    0.026    0.000 /usr/local/lib/python3.10/dist-packages/numpy/core/fromnumeric.py:588(transpose)\n",
      "      202    0.016    0.000    0.016    0.000 {method 'uniform' of 'numpy.random.mtrand.RandomState' objects}\n",
      "      200    0.003    0.000    0.016    0.000 /usr/local/lib/python3.10/dist-packages/numpy/core/fromnumeric.py:2979(prod)\n",
      "      413    0.015    0.000    0.015    0.000 {method 'repeat' of 'numpy.ndarray' objects}\n",
      "      208    0.013    0.000    0.014    0.000 /usr/local/lib/python3.10/dist-packages/numpy/core/_methods.py:67(_count_reduce_items)\n",
      "      960    0.013    0.000    0.014    0.000 /content/drive/MyDrive/BANNs/BANNs_Source_Code/utils.py:50(dot)\n",
      "      202    0.013    0.000    0.013    0.000 {method 'normal' of 'numpy.random.mtrand.RandomState' objects}\n",
      "        4    0.000    0.000    0.011    0.003 /usr/local/lib/python3.10/dist-packages/numpy/core/fromnumeric.py:3385(mean)\n",
      "        4    0.000    0.000    0.011    0.003 /usr/local/lib/python3.10/dist-packages/numpy/core/_methods.py:101(_mean)\n",
      "      480    0.002    0.000    0.011    0.000 /usr/local/lib/python3.10/dist-packages/numpy/core/fromnumeric.py:1881(nonzero)\n",
      "      242    0.001    0.000    0.010    0.000 /usr/local/lib/python3.10/dist-packages/numpy/core/fromnumeric.py:2692(max)\n",
      "       86    0.001    0.000    0.010    0.000 /usr/local/lib/python3.10/dist-packages/ipykernel/iostream.py:321(_schedule_flush)\n",
      "      206    0.003    0.000    0.010    0.000 /usr/lib/python3.10/contextlib.py:279(helper)\n",
      "      240    0.003    0.000    0.009    0.000 /content/drive/MyDrive/BANNs/BANNs_Source_Code/utils.py:55(norm2)\n",
      "      969    0.008    0.000    0.008    0.000 {built-in method numpy.asarray}\n",
      "     2753    0.008    0.000    0.008    0.000 {built-in method builtins.getattr}\n",
      "       80    0.003    0.000    0.007    0.000 /usr/local/lib/python3.10/dist-packages/numpy/linalg/linalg.py:2126(det)\n",
      "      206    0.007    0.000    0.007    0.000 /usr/lib/python3.10/contextlib.py:102(__init__)\n",
      "      412    0.001    0.000    0.006    0.000 {built-in method builtins.next}\n",
      "        2    0.000    0.000    0.006    0.003 /content/drive/MyDrive/BANNs/BANNs_Source_Code/customModel.py:6(__init__)\n",
      "      412    0.002    0.000    0.005    0.000 /usr/local/lib/python3.10/dist-packages/numpy/core/_ufunc_config.py:452(_no_nep50_warning)\n",
      "      200    0.002    0.000    0.005    0.000 /usr/local/lib/python3.10/dist-packages/numpy/core/numerictypes.py:357(issubdtype)\n",
      "      206    0.001    0.000    0.005    0.000 /usr/lib/python3.10/contextlib.py:130(__enter__)\n",
      "        4    0.005    0.001    0.005    0.001 /usr/local/lib/python3.10/dist-packages/keras/src/utils/generic_utils.py:143(__init__)\n",
      "      480    0.005    0.000    0.005    0.000 {method 'nonzero' of 'numpy.ndarray' objects}\n",
      "       80    0.004    0.000    0.004    0.000 {method 'flatten' of 'numpy.ndarray' objects}\n",
      "       80    0.001    0.000    0.004    0.000 /usr/lib/python3.10/threading.py:545(__init__)\n",
      "      206    0.002    0.000    0.004    0.000 /usr/lib/python3.10/contextlib.py:139(__exit__)\n",
      "     3920    0.004    0.000    0.004    0.000 /usr/local/lib/python3.10/dist-packages/numpy/core/multiarray.py:741(dot)\n",
      "      408    0.001    0.000    0.003    0.000 /usr/lib/python3.10/threading.py:1169(is_alive)\n",
      "       80    0.003    0.000    0.003    0.000 /usr/lib/python3.10/threading.py:236(__init__)\n",
      "     1207    0.003    0.000    0.003    0.000 {built-in method builtins.len}\n",
      "      202    0.003    0.000    0.003    0.000 /usr/local/lib/python3.10/dist-packages/numpy/core/fromnumeric.py:3649(_var_dispatcher)\n",
      "      400    0.002    0.000    0.003    0.000 /usr/local/lib/python3.10/dist-packages/numpy/core/numerictypes.py:283(issubclass_)\n",
      "      402    0.003    0.000    0.003    0.000 /usr/local/lib/python3.10/dist-packages/numpy/core/getlimits.py:484(__new__)\n",
      "        3    0.000    0.000    0.002    0.001 {built-in method builtins.print}\n",
      "      206    0.002    0.000    0.002    0.000 {method 'set' of '_contextvars.ContextVar' objects}\n",
      "      408    0.001    0.000    0.002    0.000 /usr/lib/python3.10/threading.py:1102(_wait_for_tstate_lock)\n",
      "        3    0.000    0.000    0.002    0.001 {method 'any' of 'numpy.ndarray' objects}\n",
      "     1260    0.002    0.000    0.002    0.000 {built-in method builtins.issubclass}\n",
      "        5    0.000    0.000    0.002    0.000 /content/drive/MyDrive/BANNs/BANNs_Source_Code/utils.py:35(rep_col)\n",
      "        3    0.000    0.000    0.002    0.001 /usr/local/lib/python3.10/dist-packages/numpy/core/_methods.py:55(_any)\n",
      "        2    0.000    0.000    0.002    0.001 /content/drive/MyDrive/BANNs/BANNs_Source_Code/utils.py:44(randn)\n",
      "       80    0.001    0.000    0.002    0.000 /usr/local/lib/python3.10/dist-packages/numpy/linalg/linalg.py:159(_commonType)\n",
      "      562    0.001    0.000    0.001    0.000 {method 'transpose' of 'numpy.ndarray' objects}\n",
      "       80    0.001    0.000    0.001    0.000 {method 'astype' of 'numpy.generic' objects}\n",
      "      482    0.001    0.000    0.001    0.000 /usr/local/lib/python3.10/dist-packages/numpy/core/fromnumeric.py:3176(ndim)\n",
      "      480    0.001    0.000    0.001    0.000 /usr/local/lib/python3.10/dist-packages/numpy/core/numeric.py:557(_argwhere_dispatcher)\n",
      "       86    0.000    0.000    0.001    0.000 /usr/local/lib/python3.10/dist-packages/ipykernel/iostream.py:308(_is_master_process)\n",
      "       67    0.001    0.000    0.001    0.000 /usr/lib/python3.10/threading.py:276(_acquire_restore)\n",
      "      416    0.001    0.000    0.001    0.000 {built-in method numpy.asanyarray}\n",
      "      417    0.001    0.000    0.001    0.000 /usr/local/lib/python3.10/dist-packages/numpy/core/fromnumeric.py:419(_repeat_dispatcher)\n",
      "      206    0.001    0.000    0.001    0.000 {method 'reset' of '_contextvars.ContextVar' objects}\n",
      "        2    0.000    0.000    0.001    0.000 /content/drive/MyDrive/BANNs/BANNs_Source_Code/utils.py:41(rand)\n",
      "      482    0.001    0.000    0.001    0.000 /usr/local/lib/python3.10/dist-packages/numpy/core/fromnumeric.py:3172(_ndim_dispatcher)\n",
      "      213    0.001    0.000    0.001    0.000 {built-in method builtins.hasattr}\n",
      "      408    0.001    0.000    0.001    0.000 {built-in method numpy.core._multiarray_umath.normalize_axis_index}\n",
      "      328    0.001    0.000    0.001    0.000 /usr/local/lib/python3.10/dist-packages/ipykernel/iostream.py:91(_event_pipe)\n",
      "       80    0.000    0.000    0.001    0.000 /usr/local/lib/python3.10/dist-packages/keras/src/utils/io_utils.py:55(is_interactive_logging_enabled)\n",
      "      147    0.001    0.000    0.001    0.000 {built-in method _thread.allocate_lock}\n",
      "       86    0.001    0.000    0.001    0.000 {built-in method posix.getpid}\n",
      "        2    0.000    0.000    0.001    0.000 /content/drive/MyDrive/BANNs/BANNs_Source_Code/utils.py:38(rep_row)\n",
      "      562    0.001    0.000    0.001    0.000 /usr/local/lib/python3.10/dist-packages/numpy/core/fromnumeric.py:584(_transpose_dispatcher)\n",
      "        2    0.000    0.000    0.000    0.000 /content/drive/MyDrive/BANNs/BANNs_Source_Code/BANN.py:103(summarize_results)\n",
      "        2    0.000    0.000    0.000    0.000 /usr/local/lib/python3.10/dist-packages/numpy/lib/shape_base.py:1185(tile)\n",
      "      482    0.000    0.000    0.000    0.000 {method 'get' of 'dict' objects}\n",
      "        2    0.000    0.000    0.000    0.000 /content/drive/MyDrive/BANNs/BANNs_Source_Code/utils.py:78(normalizelogweights)\n",
      "      480    0.000    0.000    0.000    0.000 /usr/local/lib/python3.10/dist-packages/numpy/core/fromnumeric.py:1877(_nonzero_dispatcher)\n",
      "        2    0.000    0.000    0.000    0.000 /usr/local/lib/python3.10/dist-packages/numpy/core/function_base.py:24(linspace)\n",
      "       80    0.000    0.000    0.000    0.000 /usr/local/lib/python3.10/dist-packages/numpy/linalg/linalg.py:209(_assert_stacked_square)\n",
      "       80    0.000    0.000    0.000    0.000 /usr/local/lib/python3.10/dist-packages/numpy/linalg/linalg.py:153(_realType)\n",
      "       80    0.000    0.000    0.000    0.000 /usr/lib/python3.10/threading.py:264(__enter__)\n",
      "      395    0.000    0.000    0.000    0.000 {method 'append' of 'collections.deque' objects}\n",
      "       80    0.000    0.000    0.000    0.000 /usr/local/lib/python3.10/dist-packages/numpy/linalg/linalg.py:203(_assert_stacked_2d)\n",
      "       80    0.000    0.000    0.000    0.000 /usr/lib/python3.10/threading.py:267(__exit__)\n",
      "       80    0.000    0.000    0.000    0.000 /usr/local/lib/python3.10/dist-packages/keras/src/utils/generic_utils.py:354(_estimate_step_duration)\n",
      "       67    0.000    0.000    0.000    0.000 /usr/lib/python3.10/threading.py:273(_release_save)\n",
      "       67    0.000    0.000    0.000    0.000 /usr/lib/python3.10/threading.py:279(_is_owned)\n",
      "      242    0.000    0.000    0.000    0.000 /usr/local/lib/python3.10/dist-packages/numpy/core/fromnumeric.py:2687(_max_dispatcher)\n",
      "      200    0.000    0.000    0.000    0.000 /usr/local/lib/python3.10/dist-packages/numpy/core/fromnumeric.py:2974(_prod_dispatcher)\n",
      "      160    0.000    0.000    0.000    0.000 /usr/local/lib/python3.10/dist-packages/numpy/linalg/linalg.py:140(isComplexType)\n",
      "        2    0.000    0.000    0.000    0.000 /usr/local/lib/python3.10/dist-packages/numpy/lib/type_check.py:393(_getmaxmin)\n",
      "      408    0.000    0.000    0.000    0.000 /usr/lib/python3.10/threading.py:553(is_set)\n",
      "       84    0.000    0.000    0.000    0.000 {built-in method time.time}\n",
      "       80    0.000    0.000    0.000    0.000 /usr/local/lib/python3.10/dist-packages/numpy/linalg/linalg.py:488(_unary_dispatcher)\n",
      "        2    0.000    0.000    0.000    0.000 /usr/local/lib/python3.10/dist-packages/numpy/core/fromnumeric.py:1140(argmax)\n",
      "        6    0.000    0.000    0.000    0.000 {method 'repeat' of 'numpy.generic' objects}\n",
      "        2    0.000    0.000    0.000    0.000 /usr/local/lib/python3.10/dist-packages/numpy/core/numeric.py:136(ones)\n",
      "       80    0.000    0.000    0.000    0.000 {built-in method _imp.lock_held}\n",
      "        4    0.000    0.000    0.000    0.000 {method 'isatty' of '_io._IOBase' objects}\n",
      "        2    0.000    0.000    0.000    0.000 {method 'argmax' of 'numpy.ndarray' objects}\n",
      "        2    0.000    0.000    0.000    0.000 <frozen importlib._bootstrap>:1053(_handle_fromlist)\n",
      "       13    0.000    0.000    0.000    0.000 {method 'reshape' of 'numpy.ndarray' objects}\n",
      "       80    0.000    0.000    0.000    0.000 {method '__enter__' of '_thread.lock' objects}\n",
      "        2    0.000    0.000    0.000    0.000 /usr/local/lib/python3.10/dist-packages/numpy/lib/shape_base.py:1181(_tile_dispatcher)\n",
      "       67    0.000    0.000    0.000    0.000 {method 'release' of '_thread.lock' objects}\n",
      "        4    0.000    0.000    0.000    0.000 {built-in method numpy.zeros}\n",
      "        8    0.000    0.000    0.000    0.000 /usr/local/lib/python3.10/dist-packages/numpy/core/multiarray.py:1080(copyto)\n",
      "        4    0.000    0.000    0.000    0.000 /usr/local/lib/python3.10/dist-packages/keras/src/utils/generic_utils.py:334(_format_time)\n",
      "       80    0.000    0.000    0.000    0.000 {method '__exit__' of '_thread.lock' objects}\n",
      "        2    0.000    0.000    0.000    0.000 {built-in method numpy.arange}\n",
      "        1    0.000    0.000    0.000    0.000 /usr/local/lib/python3.10/dist-packages/tensorflow/python/training/gradient_descent.py:31(__init__)\n",
      "        4    0.000    0.000    0.000    0.000 /usr/local/lib/python3.10/dist-packages/numpy/core/fromnumeric.py:3380(_mean_dispatcher)\n",
      "        2    0.000    0.000    0.000    0.000 /usr/local/lib/python3.10/dist-packages/numpy/core/function_base.py:19(_linspace_dispatcher)\n",
      "        4    0.000    0.000    0.000    0.000 /usr/local/lib/python3.10/dist-packages/numpy/lib/ufunclike.py:14(_dispatcher)\n",
      "        4    0.000    0.000    0.000    0.000 /usr/local/lib/python3.10/dist-packages/numpy/lib/shape_base.py:1257(<genexpr>)\n",
      "        2    0.000    0.000    0.000    0.000 /usr/local/lib/python3.10/dist-packages/numpy/lib/type_check.py:399(_nan_to_num_dispatcher)\n",
      "        2    0.000    0.000    0.000    0.000 {built-in method builtins.all}\n",
      "        1    0.000    0.000    0.000    0.000 /usr/local/lib/python3.10/dist-packages/tensorflow/python/training/optimizer.py:387(__init__)\n",
      "        2    0.000    0.000    0.000    0.000 {built-in method numpy.empty}\n",
      "        2    0.000    0.000    0.000    0.000 /usr/local/lib/python3.10/dist-packages/numpy/core/numeric.py:1855(isscalar)\n",
      "        4    0.000    0.000    0.000    0.000 /usr/local/lib/python3.10/dist-packages/ipykernel/iostream.py:317(closed)\n",
      "        2    0.000    0.000    0.000    0.000 /usr/local/lib/python3.10/dist-packages/numpy/core/fromnumeric.py:3508(_std_dispatcher)\n",
      "        6    0.000    0.000    0.000    0.000 /usr/local/lib/python3.10/dist-packages/numpy/lib/shape_base.py:1267(<genexpr>)\n",
      "        2    0.000    0.000    0.000    0.000 {method 'astype' of 'numpy.ndarray' objects}\n",
      "        2    0.000    0.000    0.000    0.000 /usr/local/lib/python3.10/dist-packages/numpy/core/fromnumeric.py:1136(_argmax_dispatcher)\n",
      "        1    0.000    0.000    0.000    0.000 {method 'disable' of '_lsprof.Profiler' objects}\n",
      "        2    0.000    0.000    0.000    0.000 {built-in method _operator.index}\n",
      "        2    0.000    0.000    0.000    0.000 /usr/local/lib/python3.10/dist-packages/numpy/core/multiarray.py:669(result_type)\n",
      "\n",
      "\n",
      "\n"
     ]
    }
   ],
   "source": [
    "s = io.StringIO()\n",
    "sortby = SortKey.CUMULATIVE\n",
    "ps = pstats.Stats(pr, stream=s).sort_stats(sortby)\n",
    "ps.print_stats()\n",
    "print(s.getvalue())"
   ]
  },
  {
   "cell_type": "code",
   "execution_count": 18,
   "metadata": {
    "colab": {
     "base_uri": "https://localhost:8080/"
    },
    "executionInfo": {
     "elapsed": 242,
     "status": "ok",
     "timestamp": 1721420276028,
     "user": {
      "displayName": "KEXIN ZHENG",
      "userId": "07736618042047162701"
     },
     "user_tz": 420
    },
    "id": "s317HDzceFrr",
    "outputId": "aeb2c59c-9866-431b-91da-bfc97c5b2cc9"
   },
   "outputs": [
    {
     "name": "stdout",
     "output_type": "stream",
     "text": [
      "Total memory consumption (approximated): 164616441 bytes\n"
     ]
    }
   ],
   "source": [
    "# Analyze the snapshot to see memory usage\n",
    "top_stats = snapshot.statistics('lineno')\n",
    "total = 0\n",
    "for stat in top_stats:\n",
    "  total += stat.size\n",
    "print(\"Total memory consumption (approximated):\", total, \"bytes\")"
   ]
  },
  {
   "cell_type": "code",
   "execution_count": 21,
   "metadata": {
    "colab": {
     "base_uri": "https://localhost:8080/"
    },
    "executionInfo": {
     "elapsed": 2663,
     "status": "ok",
     "timestamp": 1721370901522,
     "user": {
      "displayName": "KEXIN ZHENG",
      "userId": "07736618042047162701"
     },
     "user_tz": 420
    },
    "id": "9myldxotrNdx",
    "outputId": "f1ba609c-25fe-4f78-e32d-554913155efa"
   },
   "outputs": [
    {
     "name": "stdout",
     "output_type": "stream",
     "text": [
      "---------------------------------  ------------  ------------  ------------  ------------  ------------  ------------  ------------  ------------  \n",
      "                             Name    Self CPU %      Self CPU   CPU total %     CPU total  CPU time avg       CPU Mem  Self CPU Mem    # of Calls  \n",
      "---------------------------------  ------------  ------------  ------------  ------------  ------------  ------------  ------------  ------------  \n",
      "                      aten::empty         0.11%       1.475ms         0.11%       1.475ms       7.375us      94.85 Mb      94.85 Mb           200  \n",
      "    aten::max_pool2d_with_indices        11.98%     154.379ms        11.98%     154.379ms     154.379ms      11.48 Mb      11.48 Mb             1  \n",
      "                      aten::addmm         0.77%       9.869ms         0.83%      10.731ms      10.731ms      19.53 Kb      19.53 Kb             1  \n",
      "                       aten::mean         0.14%       1.756ms         1.32%      16.961ms      16.961ms      10.00 Kb      10.00 Kb             1  \n",
      "              aten::empty_strided         0.00%      19.000us         0.00%      19.000us      19.000us           4 b           4 b             1  \n",
      "                     aten::conv2d         0.26%       3.392ms        74.26%     957.214ms      47.861ms      47.37 Mb           0 b            20  \n",
      "                aten::convolution         0.27%       3.538ms        74.00%     953.822ms      47.691ms      47.37 Mb           0 b            20  \n",
      "               aten::_convolution         0.79%      10.190ms        73.72%     950.284ms      47.514ms      47.37 Mb           0 b            20  \n",
      "         aten::mkldnn_convolution        72.55%     935.148ms        72.93%     940.094ms      47.005ms      47.37 Mb           0 b            20  \n",
      "                aten::as_strided_         0.04%     461.000us         0.04%     461.000us      23.050us           0 b           0 b            20  \n",
      "---------------------------------  ------------  ------------  ------------  ------------  ------------  ------------  ------------  ------------  \n",
      "Self CPU time total: 1.289s\n",
      "\n"
     ]
    }
   ],
   "source": [
    "model = models.resnet18()\n",
    "inputs = torch.randn(5, 3, 224, 224)\n",
    "\n",
    "with profile(activities=[ProfilerActivity.CPU],\n",
    "        profile_memory=True, record_shapes=True) as prof:\n",
    "    model(inputs)\n",
    "\n",
    "print(prof.key_averages().table(sort_by=\"self_cpu_memory_usage\", row_limit=10))\n"
   ]
  },
  {
   "cell_type": "code",
   "execution_count": null,
   "metadata": {
    "id": "ny9hp09by5PR"
   },
   "outputs": [],
   "source": [
    "saveBootstrap(SETpips_bootstrap, SNPpips_bootstrap, add, mult1, mult2)"
   ]
  },
  {
   "cell_type": "markdown",
   "metadata": {
    "id": "zDBTPEv8wk67",
    "jp-MarkdownHeadingCollapsed": true,
    "tags": []
   },
   "source": [
    "## Graph\n",
    "\n",
    "Frequency of *causal* SNPs"
   ]
  },
  {
   "cell_type": "code",
   "execution_count": null,
   "metadata": {
    "colab": {
     "base_uri": "https://localhost:8080/",
     "height": 245
    },
    "executionInfo": {
     "elapsed": 2561,
     "status": "ok",
     "timestamp": 1721152411352,
     "user": {
      "displayName": "KEXIN ZHENG",
      "userId": "07736618042047162701"
     },
     "user_tz": 420
    },
    "id": "M3WqiqDYwkfe",
    "outputId": "e3acf612-4d38-43a1-c993-0ec398fc9a92"
   },
   "outputs": [
    {
     "data": {
      "image/png": "[encoded data removed]",
      "text/plain": [
       "<Figure size 3200x480 with 1 Axes>"
      ]
     },
     "metadata": {},
     "output_type": "display_data"
    }
   ],
   "source": [
    "from matplotlib.pyplot import figure\n",
    "figure(figsize=(40, 6), dpi=80)\n",
    "\n",
    "SETpips_bootstrap = np.loadtxt(\"/content/drive/MyDrive/BANNs/BANNs_Test_Data/bootstrapSET_3.txt\")\n",
    "count = np.array(0)\n",
    "for i in range(100):\n",
    "  ind = np.argpartition(SETpips_bootstrap[i], -3)[-3:]\n",
    "  #print(ind)\n",
    "  if i == 0:\n",
    "    count = ind\n",
    "  else:\n",
    "    count = np.concatenate((count, ind))\n",
    "plt.hist(count, bins=1000, color='skyblue', edgecolor='black')\n",
    "plt.title(\"Causal SNPs Frequency Count\")\n",
    "plt.xlabel(\"SNPs index\")\n",
    "plt.ylabel(\"Frequency\")\n",
    "plt.show()"
   ]
  },
  {
   "cell_type": "code",
   "execution_count": null,
   "metadata": {
    "id": "7Of2sql4qMRu"
   },
   "outputs": [],
   "source": [
    "mult1 = np.loadtxt(\"/content/drive/MyDrive/BANNs/BANNs_Test_Data/bootstrapMULT1_3.txt\")\n",
    "mult2 = np.loadtxt(\"/content/drive/MyDrive/BANNs/BANNs_Test_Data/bootstrapMULT2_3.txt\")"
   ]
  },
  {
   "cell_type": "code",
   "execution_count": null,
   "metadata": {
    "colab": {
     "base_uri": "https://localhost:8080/"
    },
    "executionInfo": {
     "elapsed": 248,
     "status": "ok",
     "timestamp": 1721152197561,
     "user": {
      "displayName": "KEXIN ZHENG",
      "userId": "07736618042047162701"
     },
     "user_tz": 420
    },
    "id": "8raAEEtYqivC",
    "outputId": "8c7a5997-8232-4dc6-cb5e-6f40bd8e659c"
   },
   "outputs": [
    {
     "name": "stdout",
     "output_type": "stream",
     "text": [
      "[681. 336. 507. 895. 540. 507. 395. 861.  35. 937.] [ 83. 246. 624. 273. 501. 774. 341. 228. 875. 842.]\n"
     ]
    }
   ],
   "source": [
    "print(mult1, mult2)"
   ]
  },
  {
   "cell_type": "markdown",
   "metadata": {
    "id": "TLrKmO7sxYlt",
    "tags": []
   },
   "source": [
    "## Permutation Test"
   ]
  },
  {
   "cell_type": "code",
   "execution_count": 7,
   "metadata": {
    "id": "tKdjuYNuDRHb"
   },
   "outputs": [],
   "source": [
    "import copy\n",
    "def permute(y):\n",
    "  y_perm = copy.deepcopy(y)\n",
    "  np.random.shuffle(y_perm)\n",
    "  return y_perm\n",
    "\n",
    "# Save files:\n",
    "def savePermutation(SETpips_orig, SNPpips_orig, SETpips, SNPpips, add, mult1, mult2):\n",
    "  counts['permutation'] += 1\n",
    "  np.savetxt(PATH+\"BANNs_Test_Data/perm_orig_SET_\" + str(counts['permutation']) + \".txt\", SETpips_orig, delimiter=\" \")\n",
    "  np.savetxt(PATH+\"BANNs_Test_Data/perm_orig_SNP_\" + str(counts['permutation']) + \".txt\", SNPpips_orig, delimiter=\" \")\n",
    "  np.savetxt(PATH+\"BANNs_Test_Data/permutationSET_\" + str(counts['permutation']) + \".txt\", SETpips, delimiter=\" \")\n",
    "  np.savetxt(PATH+\"BANNs_Test_Data/permutationSNP_\" + str(counts['permutation']) + \".txt\", SNPpips, delimiter=\" \")\n",
    "  np.savetxt(PATH+\"BANNs_Test_Data/permutationADD_\" + str(counts['permutation']) + \".txt\", add, delimiter=\" \", fmt='%u')\n",
    "  np.savetxt(PATH+\"BANNs_Test_Data/permutationMULT1_\" + str(counts['permutation']) + \".txt\", mult1, delimiter=\" \", fmt='%u')\n",
    "  np.savetxt(PATH+\"BANNs_Test_Data/permutationMULT2_\" + str(counts['permutation']) + \".txt\", mult2, delimiter=\" \", fmt='%u')\n",
    "  writeCount()\n",
    "\n",
    "  # Save files:\n",
    "def loadPermutation(num):\n",
    "  SETpips_orig = np.loadtxt(PATH+\"BANNs_Test_Data/perm_orig_SET_\" + str(num) + \".txt\")\n",
    "  SNPpips_orig = np.loadtxt(PATH+\"BANNs_Test_Data/perm_orig_SNP_\" + str(num) + \".txt\")\n",
    "  SETpips = np.loadtxt(PATH+\"BANNs_Test_Data/permutationSET_\" + str(num) + \".txt\")\n",
    "  SNPpips = np.loadtxt(PATH+\"BANNs_Test_Data/permutationSNP_\" + str(num) + \".txt\")\n",
    "  add = np.loadtxt(PATH+\"BANNs_Test_Data/permutationADD_\" + str(num) + \".txt\")\n",
    "  mult1 = np.loadtxt(PATH+\"BANNs_Test_Data/permutationMULT1_\" + str(num) + \".txt\")\n",
    "  mult2 = np.loadtxt(PATH+\"BANNs_Test_Data/permutationMULT2_\" + str(num) + \".txt\")\n",
    "\n",
    "  return SETpips_orig, SNPpips_orig, SETpips, SNPpips, add, mult1, mult2"
   ]
  },
  {
   "cell_type": "markdown",
   "metadata": {
    "id": "1f5CiqUNuIGs",
    "jp-MarkdownHeadingCollapsed": true,
    "tags": []
   },
   "source": [
    "## Test"
   ]
  },
  {
   "cell_type": "code",
   "execution_count": 10,
   "metadata": {
    "id": "cb7T2epAxcvA"
   },
   "outputs": [],
   "source": [
    "# genotype\n",
    "N = 1000\n",
    "p = 1000\n",
    "lb = 0.05\n",
    "ub = 0.5\n",
    "\n",
    "# phenotype\n",
    "H2 = 0.3\n",
    "rho = 0\n",
    "ncausal1 = 0\n",
    "ncausal2 = 10\n",
    "effectSize1 = 0\n",
    "effectSize2 = 1\n",
    "\n",
    "# mask\n",
    "n = 5\n",
    "\n",
    "X, Xmean, Xstd = genoGen(N, p, lb, ub)\n",
    "y, add, mult1, mult2 = phenoGen(N, p, X, H2, rho, ncausal1, ncausal2, effectSize1, effectSize2)\n",
    "y = y.flatten()\n",
    "mask = maskGen(p, n)"
   ]
  },
  {
   "cell_type": "code",
   "execution_count": 13,
   "metadata": {},
   "outputs": [
    {
     "name": "stdout",
     "output_type": "stream",
     "text": [
      "[159 344 900 377 585 149 626 833 926 234] [944 714 656 578 747 596 482 174 805 442]\n"
     ]
    }
   ],
   "source": [
    "print(mult1, mult2 )"
   ]
  },
  {
   "cell_type": "code",
   "execution_count": 14,
   "metadata": {
    "colab": {
     "base_uri": "https://localhost:8080/"
    },
    "executionInfo": {
     "elapsed": 5639978,
     "status": "ok",
     "timestamp": 1719296175299,
     "user": {
      "displayName": "KEXIN ZHENG",
      "userId": "07736618042047162701"
     },
     "user_tz": 420
    },
    "id": "aHkvfiedDVJW",
    "outputId": "0ee69345-9a3f-48cb-816c-b751abd6566d",
    "tags": []
   },
   "outputs": [
    {
     "name": "stdout",
     "output_type": "stream",
     "text": [
      "iteration: 1\n",
      "Welcome to BANNs. Please make sure SNPs in the SNP List you provide are in the same order as in the genotype matrix. Results we return will be in the order of SNP annotations and SNP-set annotations.\n",
      "(1000,)\n",
      "\u001b[1m20/20\u001b[0m \u001b[32m━━━━━━━━━━━━━━━━━━━━\u001b[0m\u001b[37m\u001b[0m \u001b[1m102s\u001b[0m 5s/step\n",
      "\u001b[1m20/20\u001b[0m \u001b[32m━━━━━━━━━━━━━━━━━━━━\u001b[0m\u001b[37m\u001b[0m \u001b[1m101s\u001b[0m 5s/step\n",
      "(1000,)\n",
      "\u001b[1m20/20\u001b[0m \u001b[32m━━━━━━━━━━━━━━━━━━━━\u001b[0m\u001b[37m\u001b[0m \u001b[1m21s\u001b[0m 1s/step\n",
      "\u001b[1m20/20\u001b[0m \u001b[32m━━━━━━━━━━━━━━━━━━━━\u001b[0m\u001b[37m\u001b[0m \u001b[1m20s\u001b[0m 997ms/step\n"
     ]
    }
   ],
   "source": [
    "import tracemalloc\n",
    "import cProfile, pstats, io\n",
    "from pstats import SortKey\n",
    "\n",
    "SNPpips_perm = []\n",
    "SETpips_perm = []\n",
    "\n",
    "snapshot = None\n",
    "#pr = cProfile.Profile()\n",
    "\n",
    "#pr.enable()\n",
    "for i in range(1):\n",
    "    print(\"iteration:\", i + 1)\n",
    "    y_perm = permute(y)\n",
    "\n",
    "    # Start profiling\n",
    "    tracemalloc.start()\n",
    "    \n",
    "    SNP_layer, SET_layer = runBANN(X, y_perm, mask, 20, 20)\n",
    "    \n",
    "    snapshot = tracemalloc.take_snapshot()\n",
    "    # Stop\n",
    "    tracemalloc.stop()\n",
    "    \n",
    "    SNPpips_perm.append(SNP_layer.pip)\n",
    "    SETpips_perm.append(SET_layer.pip)\n",
    "#pr.disable()\n"
   ]
  },
  {
   "cell_type": "code",
   "execution_count": 13,
   "metadata": {},
   "outputs": [
    {
     "name": "stdout",
     "output_type": "stream",
     "text": [
      "         1197506 function calls in 40.515 seconds\n",
      "\n",
      "   Ordered by: cumulative time\n",
      "\n",
      "   ncalls  tottime  percall  cumtime  percall filename:lineno(function)\n",
      "        2    0.000    0.000   40.515   20.258 /u/home/k/kzheng/.conda/envs/banns_env/lib/python3.10/site-packages/IPython/core/interactiveshell.py:3541(run_code)\n",
      "        2    0.000    0.000   40.515   20.258 {built-in method builtins.exec}\n",
      "        1    0.000    0.000   40.514   40.514 /tmp/ipykernel_142438/1229859316.py:136(runBANN)\n",
      "        1    0.022    0.022   40.488   40.488 /u/home/k/kzheng/BANNs/BANNs_Source_Code/BANN.py:87(run)\n",
      "        2    0.000    0.000   35.216   17.608 /u/home/k/kzheng/BANNs/BANNs_Source_Code/customModel.py:49(train)\n",
      "        4    0.244    0.061   35.212    8.803 /u/home/k/kzheng/BANNs/BANNs_Source_Code/customModel.py:37(optimize)\n",
      "       80   29.263    0.366   29.265    0.366 /u/home/k/kzheng/BANNs/BANNs_Source_Code/utils.py:58(diagsq)\n",
      "        2    0.004    0.002   17.338    8.669 /u/home/k/kzheng/BANNs/BANNs_Source_Code/customModel.py:21(build)\n",
      "       80    0.304    0.004    5.507    0.069 /u/home/k/kzheng/BANNs/BANNs_Source_Code/customModel.py:54(gradient_updates)\n",
      "        2    4.777    2.389    5.246    2.623 /u/home/k/kzheng/BANNs/BANNs_Source_Code/BANN.py:76(estimatePVE)\n",
      "      240    2.362    0.010    3.755    0.016 /u/home/k/kzheng/BANNs/BANNs_Source_Code/utils.py:82(gradients)\n",
      "      480    0.059    0.000    1.425    0.003 /u/home/k/kzheng/BANNs/BANNs_Source_Code/utils.py:71(elbo)\n",
      "      480    0.002    0.000    1.315    0.003 /u/home/k/kzheng/BANNs/BANNs_Source_Code/utils.py:24(logsigmoid)\n",
      "      480    1.299    0.003    1.313    0.003 /u/home/k/kzheng/BANNs/BANNs_Source_Code/utils.py:16(logpexp)\n",
      "   144969    0.225    0.000    1.081    0.000 /u/home/k/kzheng/.conda/envs/banns_env/lib/python3.10/site-packages/numpy/core/fromnumeric.py:2177(sum)\n",
      "   145411    0.253    0.000    0.830    0.000 /u/home/k/kzheng/.conda/envs/banns_env/lib/python3.10/site-packages/numpy/core/fromnumeric.py:71(_wrapreduction)\n",
      "   145826    0.585    0.000    0.585    0.000 {method 'reduce' of 'numpy.ufunc' objects}\n",
      "      204    0.305    0.001    0.436    0.002 /u/home/k/kzheng/.conda/envs/banns_env/lib/python3.10/site-packages/numpy/core/_methods.py:135(_var)\n",
      "      200    0.002    0.000    0.433    0.002 /u/home/k/kzheng/BANNs/BANNs_Source_Code/utils.py:27(var1)\n",
      "      202    0.002    0.000    0.431    0.002 /u/home/k/kzheng/.conda/envs/banns_env/lib/python3.10/site-packages/numpy/core/fromnumeric.py:3654(var)\n",
      "   144000    0.290    0.000    0.290    0.000 /u/home/k/kzheng/BANNs/BANNs_Source_Code/utils.py:13(sigmoid)\n",
      "       80    0.003    0.000    0.187    0.002 /u/home/k/kzheng/.conda/envs/banns_env/lib/python3.10/site-packages/keras/src/utils/progbar.py:62(update)\n",
      "       80    0.001    0.000    0.184    0.002 /u/home/k/kzheng/.conda/envs/banns_env/lib/python3.10/site-packages/keras/src/utils/io_utils.py:92(print_msg)\n",
      "       80    0.001    0.000    0.151    0.002 /u/home/k/kzheng/.conda/envs/banns_env/lib/python3.10/site-packages/ipykernel/iostream.py:561(flush)\n",
      "       80    0.000    0.000    0.124    0.002 /u/home/k/kzheng/.conda/envs/banns_env/lib/python3.10/threading.py:589(wait)\n",
      "       41    0.000    0.000    0.124    0.003 /u/home/k/kzheng/.conda/envs/banns_env/lib/python3.10/threading.py:288(wait)\n",
      "      485    0.123    0.000    0.123    0.000 {method 'acquire' of '_thread.lock' objects}\n",
      "   145411    0.092    0.000    0.092    0.000 /u/home/k/kzheng/.conda/envs/banns_env/lib/python3.10/site-packages/numpy/core/fromnumeric.py:72(<dictcomp>)\n",
      "      241    0.001    0.000    0.054    0.000 /u/home/k/kzheng/.conda/envs/banns_env/lib/python3.10/site-packages/ipykernel/iostream.py:258(schedule)\n",
      "      241    0.052    0.000    0.052    0.000 /u/home/k/kzheng/.conda/envs/banns_env/lib/python3.10/site-packages/zmq/sugar/socket.py:621(send)\n",
      "   144969    0.037    0.000    0.037    0.000 /u/home/k/kzheng/.conda/envs/banns_env/lib/python3.10/site-packages/numpy/core/fromnumeric.py:2172(_sum_dispatcher)\n",
      "   145481    0.033    0.000    0.033    0.000 {built-in method builtins.isinstance}\n",
      "       90    0.001    0.000    0.032    0.000 /u/home/k/kzheng/.conda/envs/banns_env/lib/python3.10/site-packages/ipykernel/iostream.py:624(write)\n",
      "      480    0.031    0.000    0.031    0.000 {built-in method builtins.sum}\n",
      "       90    0.000    0.000    0.031    0.000 /u/home/k/kzheng/.conda/envs/banns_env/lib/python3.10/site-packages/ipykernel/iostream.py:546(_schedule_flush)\n",
      "        1    0.000    0.000    0.026    0.026 /u/home/k/kzheng/BANNs/BANNs_Source_Code/BANN.py:11(__init__)\n",
      "        1    0.007    0.007    0.024    0.024 /u/home/k/kzheng/BANNs/BANNs_Source_Code/BANN.py:72(center_scale_inputs)\n",
      "   145411    0.023    0.000    0.023    0.000 {method 'items' of 'dict' objects}\n",
      "      200    0.014    0.000    0.022    0.000 {method 'choice' of 'numpy.random.mtrand.RandomState' objects}\n",
      "     1461    0.003    0.000    0.016    0.000 /u/home/k/kzheng/.conda/envs/banns_env/lib/python3.10/site-packages/numpy/core/fromnumeric.py:53(_wrapfunc)\n",
      "      480    0.003    0.000    0.013    0.000 /u/home/k/kzheng/.conda/envs/banns_env/lib/python3.10/site-packages/numpy/core/numeric.py:561(argwhere)\n",
      "      202    0.011    0.000    0.011    0.000 {method 'normal' of 'numpy.random.mtrand.RandomState' objects}\n",
      "      720    0.011    0.000    0.011    0.000 /u/home/k/kzheng/BANNs/BANNs_Source_Code/utils.py:47(betavar)\n",
      "      806    0.004    0.000    0.009    0.000 /u/home/k/kzheng/.conda/envs/banns_env/lib/python3.10/site-packages/numpy/core/fromnumeric.py:40(_wrapit)\n",
      "        2    0.002    0.001    0.008    0.004 /u/home/k/kzheng/.conda/envs/banns_env/lib/python3.10/site-packages/numpy/lib/type_check.py:403(nan_to_num)\n",
      "      417    0.001    0.000    0.008    0.000 /u/home/k/kzheng/.conda/envs/banns_env/lib/python3.10/site-packages/numpy/core/fromnumeric.py:423(repeat)\n",
      "        2    0.000    0.000    0.008    0.004 /u/home/k/kzheng/.conda/envs/banns_env/lib/python3.10/site-packages/numpy/core/fromnumeric.py:3513(std)\n",
      "        2    0.000    0.000    0.007    0.004 /u/home/k/kzheng/.conda/envs/banns_env/lib/python3.10/site-packages/numpy/core/_methods.py:204(_std)\n",
      "       80    0.006    0.000    0.007    0.000 /u/home/k/kzheng/.conda/envs/banns_env/lib/python3.10/site-packages/numpy/linalg/linalg.py:2126(det)\n",
      "      562    0.001    0.000    0.007    0.000 /u/home/k/kzheng/.conda/envs/banns_env/lib/python3.10/site-packages/numpy/core/fromnumeric.py:588(transpose)\n",
      "      240    0.005    0.000    0.006    0.000 /u/home/k/kzheng/BANNs/BANNs_Source_Code/utils.py:55(norm2)\n",
      "      200    0.001    0.000    0.006    0.000 /u/home/k/kzheng/.conda/envs/banns_env/lib/python3.10/site-packages/numpy/core/fromnumeric.py:2979(prod)\n",
      "      202    0.005    0.000    0.005    0.000 {method 'uniform' of 'numpy.random.mtrand.RandomState' objects}\n",
      "      208    0.004    0.000    0.004    0.000 /u/home/k/kzheng/.conda/envs/banns_env/lib/python3.10/site-packages/numpy/core/_methods.py:67(_count_reduce_items)\n",
      "        2    0.000    0.000    0.004    0.002 /u/home/k/kzheng/BANNs/BANNs_Source_Code/customModel.py:6(__init__)\n",
      "      960    0.003    0.000    0.003    0.000 /u/home/k/kzheng/BANNs/BANNs_Source_Code/utils.py:50(dot)\n",
      "      413    0.003    0.000    0.003    0.000 {method 'repeat' of 'numpy.ndarray' objects}\n",
      "      480    0.000    0.000    0.003    0.000 /u/home/k/kzheng/.conda/envs/banns_env/lib/python3.10/site-packages/numpy/core/fromnumeric.py:1881(nonzero)\n",
      "      969    0.002    0.000    0.002    0.000 {built-in method numpy.asarray}\n",
      "        2    0.000    0.000    0.002    0.001 /u/home/k/kzheng/BANNs/BANNs_Source_Code/utils.py:44(randn)\n",
      "      242    0.001    0.000    0.002    0.000 /u/home/k/kzheng/.conda/envs/banns_env/lib/python3.10/site-packages/numpy/core/fromnumeric.py:2692(max)\n",
      "        2    0.002    0.001    0.002    0.001 /u/home/k/kzheng/.conda/envs/banns_env/lib/python3.10/site-packages/numpy/lib/ufunclike.py:142(isneginf)\n",
      "     2758    0.002    0.000    0.002    0.000 {built-in method builtins.getattr}\n",
      "        2    0.002    0.001    0.002    0.001 /u/home/k/kzheng/.conda/envs/banns_env/lib/python3.10/site-packages/numpy/lib/ufunclike.py:71(isposinf)\n",
      "      416    0.001    0.000    0.002    0.000 {built-in method builtins.next}\n",
      "      208    0.001    0.000    0.002    0.000 /u/home/k/kzheng/.conda/envs/banns_env/lib/python3.10/contextlib.py:279(helper)\n",
      "        1    0.001    0.001    0.002    0.002 /u/home/k/kzheng/BANNs/BANNs_Source_Code/BANN.py:27(checkInputs)\n",
      "      200    0.001    0.000    0.002    0.000 /u/home/k/kzheng/.conda/envs/banns_env/lib/python3.10/site-packages/numpy/core/numerictypes.py:357(issubdtype)\n",
      "        4    0.002    0.000    0.002    0.000 {built-in method numpy.array}\n",
      "        4    0.000    0.000    0.002    0.000 /u/home/k/kzheng/.conda/envs/banns_env/lib/python3.10/site-packages/numpy/core/fromnumeric.py:3385(mean)\n",
      "      321    0.001    0.000    0.002    0.000 /u/home/k/kzheng/.conda/envs/banns_env/lib/python3.10/threading.py:1169(is_alive)\n",
      "        4    0.000    0.000    0.002    0.000 /u/home/k/kzheng/.conda/envs/banns_env/lib/python3.10/site-packages/numpy/core/_methods.py:101(_mean)\n",
      "      480    0.001    0.000    0.001    0.000 {method 'nonzero' of 'numpy.ndarray' objects}\n",
      "      208    0.000    0.000    0.001    0.000 /u/home/k/kzheng/.conda/envs/banns_env/lib/python3.10/contextlib.py:130(__enter__)\n",
      "      208    0.001    0.000    0.001    0.000 /u/home/k/kzheng/.conda/envs/banns_env/lib/python3.10/contextlib.py:139(__exit__)\n",
      "      412    0.001    0.000    0.001    0.000 /u/home/k/kzheng/.conda/envs/banns_env/lib/python3.10/site-packages/numpy/core/_ufunc_config.py:452(_no_nep50_warning)\n",
      "     3920    0.001    0.000    0.001    0.000 /u/home/k/kzheng/.conda/envs/banns_env/lib/python3.10/site-packages/numpy/core/multiarray.py:741(dot)\n",
      "      208    0.001    0.000    0.001    0.000 /u/home/k/kzheng/.conda/envs/banns_env/lib/python3.10/contextlib.py:102(__init__)\n",
      "       80    0.000    0.000    0.001    0.000 /u/home/k/kzheng/.conda/envs/banns_env/lib/python3.10/threading.py:545(__init__)\n",
      "       80    0.000    0.000    0.001    0.000 /u/home/k/kzheng/.conda/envs/banns_env/lib/python3.10/site-packages/numpy/linalg/linalg.py:159(_commonType)\n",
      "      400    0.001    0.000    0.001    0.000 /u/home/k/kzheng/.conda/envs/banns_env/lib/python3.10/site-packages/numpy/core/numerictypes.py:283(issubclass_)\n",
      "      402    0.001    0.000    0.001    0.000 /u/home/k/kzheng/.conda/envs/banns_env/lib/python3.10/site-packages/numpy/core/getlimits.py:484(__new__)\n",
      "       80    0.000    0.000    0.001    0.000 /u/home/k/kzheng/.conda/envs/banns_env/lib/python3.10/site-packages/keras/src/utils/io_utils.py:41(is_interactive_logging_enabled)\n",
      "     1261    0.001    0.000    0.001    0.000 {built-in method builtins.issubclass}\n",
      "      321    0.000    0.000    0.001    0.000 /u/home/k/kzheng/.conda/envs/banns_env/lib/python3.10/threading.py:1102(_wait_for_tstate_lock)\n",
      "       80    0.001    0.000    0.001    0.000 /u/home/k/kzheng/.conda/envs/banns_env/lib/python3.10/threading.py:236(__init__)\n",
      "       80    0.001    0.000    0.001    0.000 {method 'flatten' of 'numpy.ndarray' objects}\n",
      "       80    0.001    0.000    0.001    0.000 /u/home/k/kzheng/.conda/envs/banns_env/lib/python3.10/site-packages/keras/src/utils/progbar.py:213(_format_time)\n",
      "        2    0.000    0.000    0.001    0.000 /u/home/k/kzheng/BANNs/BANNs_Source_Code/utils.py:41(rand)\n",
      "      562    0.000    0.000    0.000    0.000 {method 'transpose' of 'numpy.ndarray' objects}\n",
      "     1297    0.000    0.000    0.000    0.000 {built-in method builtins.len}\n",
      "       80    0.000    0.000    0.000    0.000 {method 'astype' of 'numpy.generic' objects}\n",
      "       80    0.000    0.000    0.000    0.000 /u/home/k/kzheng/.conda/envs/banns_env/lib/python3.10/site-packages/keras/src/backend/common/global_state.py:15(get_global_attribute)\n",
      "        4    0.000    0.000    0.000    0.000 {built-in method builtins.print}\n",
      "        5    0.000    0.000    0.000    0.000 /u/home/k/kzheng/BANNs/BANNs_Source_Code/utils.py:35(rep_col)\n",
      "      482    0.000    0.000    0.000    0.000 /u/home/k/kzheng/.conda/envs/banns_env/lib/python3.10/site-packages/numpy/core/fromnumeric.py:3176(ndim)\n",
      "      408    0.000    0.000    0.000    0.000 {built-in method numpy.core._multiarray_umath.normalize_axis_index}\n",
      "      206    0.000    0.000    0.000    0.000 {method 'set' of '_contextvars.ContextVar' objects}\n",
      "      213    0.000    0.000    0.000    0.000 {built-in method builtins.hasattr}\n",
      "      241    0.000    0.000    0.000    0.000 /u/home/k/kzheng/.conda/envs/banns_env/lib/python3.10/site-packages/ipykernel/iostream.py:137(_event_pipe)\n",
      "       90    0.000    0.000    0.000    0.000 /u/home/k/kzheng/.conda/envs/banns_env/lib/python3.10/site-packages/ipykernel/iostream.py:519(_is_master_process)\n",
      "       80    0.000    0.000    0.000    0.000 /u/home/k/kzheng/.conda/envs/banns_env/lib/python3.10/site-packages/numpy/linalg/linalg.py:153(_realType)\n",
      "      416    0.000    0.000    0.000    0.000 {built-in method numpy.asanyarray}\n",
      "        2    0.000    0.000    0.000    0.000 /u/home/k/kzheng/BANNs/BANNs_Source_Code/BANN.py:103(summarize_results)\n",
      "        2    0.000    0.000    0.000    0.000 /u/home/k/kzheng/.conda/envs/banns_env/lib/python3.10/codeop.py:117(__call__)\n",
      "      484    0.000    0.000    0.000    0.000 {method 'get' of 'dict' objects}\n",
      "        3    0.000    0.000    0.000    0.000 {method 'any' of 'numpy.ndarray' objects}\n",
      "      206    0.000    0.000    0.000    0.000 {method 'reset' of '_contextvars.ContextVar' objects}\n",
      "        2    0.000    0.000    0.000    0.000 {built-in method builtins.compile}\n",
      "        3    0.000    0.000    0.000    0.000 /u/home/k/kzheng/.conda/envs/banns_env/lib/python3.10/site-packages/numpy/core/_methods.py:55(_any)\n",
      "      202    0.000    0.000    0.000    0.000 /u/home/k/kzheng/.conda/envs/banns_env/lib/python3.10/site-packages/numpy/core/fromnumeric.py:3649(_var_dispatcher)\n",
      "       80    0.000    0.000    0.000    0.000 /u/home/k/kzheng/.conda/envs/banns_env/lib/python3.10/threading.py:1430(current_thread)\n",
      "       80    0.000    0.000    0.000    0.000 /u/home/k/kzheng/.conda/envs/banns_env/lib/python3.10/site-packages/keras/src/utils/progbar.py:235(_estimate_step_duration)\n",
      "      480    0.000    0.000    0.000    0.000 /u/home/k/kzheng/.conda/envs/banns_env/lib/python3.10/site-packages/numpy/core/numeric.py:557(_argwhere_dispatcher)\n",
      "      160    0.000    0.000    0.000    0.000 /u/home/k/kzheng/.conda/envs/banns_env/lib/python3.10/site-packages/numpy/linalg/linalg.py:140(isComplexType)\n",
      "        2    0.000    0.000    0.000    0.000 /u/home/k/kzheng/.conda/envs/banns_env/lib/python3.10/site-packages/numpy/core/function_base.py:24(linspace)\n",
      "      562    0.000    0.000    0.000    0.000 /u/home/k/kzheng/.conda/envs/banns_env/lib/python3.10/site-packages/numpy/core/fromnumeric.py:584(_transpose_dispatcher)\n",
      "      417    0.000    0.000    0.000    0.000 /u/home/k/kzheng/.conda/envs/banns_env/lib/python3.10/site-packages/numpy/core/fromnumeric.py:419(_repeat_dispatcher)\n",
      "      160    0.000    0.000    0.000    0.000 /u/home/k/kzheng/.conda/envs/banns_env/lib/python3.10/threading.py:1145(ident)\n",
      "      482    0.000    0.000    0.000    0.000 /u/home/k/kzheng/.conda/envs/banns_env/lib/python3.10/site-packages/numpy/core/fromnumeric.py:3172(_ndim_dispatcher)\n",
      "        1    0.000    0.000    0.000    0.000 /tmp/ipykernel_142438/1339907823.py:2(permute)\n",
      "       80    0.000    0.000    0.000    0.000 {built-in method math.log10}\n",
      "        2    0.000    0.000    0.000    0.000 /u/home/k/kzheng/BANNs/BANNs_Source_Code/utils.py:78(normalizelogweights)\n",
      "       80    0.000    0.000    0.000    0.000 /u/home/k/kzheng/.conda/envs/banns_env/lib/python3.10/site-packages/numpy/linalg/linalg.py:209(_assert_stacked_square)\n",
      "        2    0.000    0.000    0.000    0.000 /u/home/k/kzheng/BANNs/BANNs_Source_Code/utils.py:38(rep_row)\n",
      "       80    0.000    0.000    0.000    0.000 /u/home/k/kzheng/.conda/envs/banns_env/lib/python3.10/site-packages/numpy/linalg/linalg.py:203(_assert_stacked_2d)\n",
      "       80    0.000    0.000    0.000    0.000 /u/home/k/kzheng/.conda/envs/banns_env/lib/python3.10/threading.py:264(__enter__)\n",
      "       80    0.000    0.000    0.000    0.000 /u/home/k/kzheng/.conda/envs/banns_env/lib/python3.10/threading.py:267(__exit__)\n",
      "        2    0.000    0.000    0.000    0.000 /u/home/k/kzheng/.conda/envs/banns_env/lib/python3.10/site-packages/numpy/lib/shape_base.py:1185(tile)\n",
      "      480    0.000    0.000    0.000    0.000 /u/home/k/kzheng/.conda/envs/banns_env/lib/python3.10/site-packages/numpy/core/fromnumeric.py:1877(_nonzero_dispatcher)\n",
      "      321    0.000    0.000    0.000    0.000 /u/home/k/kzheng/.conda/envs/banns_env/lib/python3.10/threading.py:553(is_set)\n",
      "      242    0.000    0.000    0.000    0.000 /u/home/k/kzheng/.conda/envs/banns_env/lib/python3.10/site-packages/numpy/core/fromnumeric.py:2687(_max_dispatcher)\n",
      "      200    0.000    0.000    0.000    0.000 /u/home/k/kzheng/.conda/envs/banns_env/lib/python3.10/site-packages/numpy/core/fromnumeric.py:2974(_prod_dispatcher)\n",
      "      121    0.000    0.000    0.000    0.000 {built-in method _thread.allocate_lock}\n",
      "       90    0.000    0.000    0.000    0.000 {method 'write' of '_io.StringIO' objects}\n",
      "       41    0.000    0.000    0.000    0.000 /u/home/k/kzheng/.conda/envs/banns_env/lib/python3.10/threading.py:276(_acquire_restore)\n",
      "       84    0.000    0.000    0.000    0.000 {built-in method time.time}\n",
      "        1    0.000    0.000    0.000    0.000 {method 'shuffle' of 'numpy.random.mtrand.RandomState' objects}\n",
      "      282    0.000    0.000    0.000    0.000 {method 'append' of 'collections.deque' objects}\n",
      "        4    0.000    0.000    0.000    0.000 /u/home/k/kzheng/.conda/envs/banns_env/lib/python3.10/site-packages/keras/src/utils/progbar.py:26(__init__)\n",
      "       41    0.000    0.000    0.000    0.000 /u/home/k/kzheng/.conda/envs/banns_env/lib/python3.10/threading.py:279(_is_owned)\n",
      "        2    0.000    0.000    0.000    0.000 /u/home/k/kzheng/.conda/envs/banns_env/lib/python3.10/site-packages/numpy/lib/type_check.py:393(_getmaxmin)\n",
      "        1    0.000    0.000    0.000    0.000 /u/home/k/kzheng/.conda/envs/banns_env/lib/python3.10/copy.py:128(deepcopy)\n",
      "       90    0.000    0.000    0.000    0.000 {built-in method posix.getpid}\n",
      "       41    0.000    0.000    0.000    0.000 /u/home/k/kzheng/.conda/envs/banns_env/lib/python3.10/threading.py:273(_release_save)\n",
      "       90    0.000    0.000    0.000    0.000 {method '__exit__' of '_thread.RLock' objects}\n",
      "       80    0.000    0.000    0.000    0.000 {built-in method _thread.get_ident}\n",
      "       80    0.000    0.000    0.000    0.000 /u/home/k/kzheng/.conda/envs/banns_env/lib/python3.10/site-packages/numpy/linalg/linalg.py:488(_unary_dispatcher)\n",
      "       80    0.000    0.000    0.000    0.000 {method '__enter__' of '_thread.lock' objects}\n",
      "        2    0.000    0.000    0.000    0.000 /u/home/k/kzheng/.conda/envs/banns_env/lib/python3.10/site-packages/numpy/core/numeric.py:136(ones)\n",
      "        2    0.000    0.000    0.000    0.000 /u/home/k/kzheng/.conda/envs/banns_env/lib/python3.10/site-packages/numpy/core/fromnumeric.py:1140(argmax)\n",
      "        6    0.000    0.000    0.000    0.000 {method 'repeat' of 'numpy.generic' objects}\n",
      "       80    0.000    0.000    0.000    0.000 {method '__exit__' of '_thread.lock' objects}\n",
      "       13    0.000    0.000    0.000    0.000 {method 'reshape' of 'numpy.ndarray' objects}\n",
      "        1    0.000    0.000    0.000    0.000 {method '__deepcopy__' of 'numpy.ndarray' objects}\n",
      "        4    0.000    0.000    0.000    0.000 {built-in method numpy.zeros}\n",
      "        2    0.000    0.000    0.000    0.000 /u/home/k/kzheng/.conda/envs/banns_env/lib/python3.10/site-packages/traitlets/traitlets.py:676(__get__)\n",
      "        2    0.000    0.000    0.000    0.000 <frozen importlib._bootstrap>:1053(_handle_fromlist)\n",
      "        1    0.000    0.000    0.000    0.000 /u/home/k/kzheng/.conda/envs/banns_env/lib/python3.10/site-packages/tensorflow/python/training/gradient_descent.py:31(__init__)\n",
      "        2    0.000    0.000    0.000    0.000 {built-in method numpy.arange}\n",
      "        2    0.000    0.000    0.000    0.000 {method 'argmax' of 'numpy.ndarray' objects}\n",
      "       41    0.000    0.000    0.000    0.000 {method 'release' of '_thread.lock' objects}\n",
      "        2    0.000    0.000    0.000    0.000 /u/home/k/kzheng/.conda/envs/banns_env/lib/python3.10/site-packages/traitlets/traitlets.py:629(get)\n",
      "        4    0.000    0.000    0.000    0.000 /u/home/k/kzheng/.conda/envs/banns_env/lib/python3.10/site-packages/IPython/core/compilerop.py:180(extra_flags)\n",
      "        1    0.000    0.000    0.000    0.000 /u/home/k/kzheng/.conda/envs/banns_env/lib/python3.10/copy.py:243(_keep_alive)\n",
      "        1    0.000    0.000    0.000    0.000 /u/home/k/kzheng/.conda/envs/banns_env/lib/python3.10/site-packages/tensorflow/python/training/optimizer.py:409(__init__)\n",
      "        8    0.000    0.000    0.000    0.000 /u/home/k/kzheng/.conda/envs/banns_env/lib/python3.10/site-packages/numpy/core/multiarray.py:1080(copyto)\n",
      "        2    0.000    0.000    0.000    0.000 /u/home/k/kzheng/.conda/envs/banns_env/lib/python3.10/site-packages/numpy/core/numeric.py:1855(isscalar)\n",
      "        1    0.000    0.000    0.000    0.000 /tmp/ipykernel_142438/395455489.py:1(<module>)\n",
      "        6    0.000    0.000    0.000    0.000 /u/home/k/kzheng/.conda/envs/banns_env/lib/python3.10/site-packages/numpy/lib/shape_base.py:1267(<genexpr>)\n",
      "        2    0.000    0.000    0.000    0.000 {built-in method numpy.empty}\n",
      "        2    0.000    0.000    0.000    0.000 {built-in method builtins.all}\n",
      "        2    0.000    0.000    0.000    0.000 /u/home/k/kzheng/.conda/envs/banns_env/lib/python3.10/site-packages/IPython/core/interactiveshell.py:3493(compare)\n",
      "        4    0.000    0.000    0.000    0.000 /u/home/k/kzheng/.conda/envs/banns_env/lib/python3.10/site-packages/numpy/lib/shape_base.py:1257(<genexpr>)\n",
      "        4    0.000    0.000    0.000    0.000 /u/home/k/kzheng/.conda/envs/banns_env/lib/python3.10/site-packages/numpy/core/fromnumeric.py:3380(_mean_dispatcher)\n",
      "        2    0.000    0.000    0.000    0.000 /u/home/k/kzheng/.conda/envs/banns_env/lib/python3.10/site-packages/IPython/core/interactiveshell.py:1277(user_global_ns)\n",
      "        2    0.000    0.000    0.000    0.000 {method 'astype' of 'numpy.ndarray' objects}\n",
      "        4    0.000    0.000    0.000    0.000 /u/home/k/kzheng/.conda/envs/banns_env/lib/python3.10/site-packages/numpy/lib/ufunclike.py:14(_dispatcher)\n",
      "        4    0.000    0.000    0.000    0.000 /u/home/k/kzheng/.conda/envs/banns_env/lib/python3.10/site-packages/ipykernel/iostream.py:498(isatty)\n",
      "        2    0.000    0.000    0.000    0.000 /u/home/k/kzheng/.conda/envs/banns_env/lib/python3.10/site-packages/numpy/core/fromnumeric.py:3508(_std_dispatcher)\n",
      "        2    0.000    0.000    0.000    0.000 /u/home/k/kzheng/.conda/envs/banns_env/lib/python3.10/site-packages/numpy/lib/type_check.py:399(_nan_to_num_dispatcher)\n",
      "        2    0.000    0.000    0.000    0.000 /u/home/k/kzheng/.conda/envs/banns_env/lib/python3.10/site-packages/numpy/core/function_base.py:19(_linspace_dispatcher)\n",
      "        4    0.000    0.000    0.000    0.000 /u/home/k/kzheng/.conda/envs/banns_env/lib/python3.10/typing.py:1737(cast)\n",
      "        3    0.000    0.000    0.000    0.000 {built-in method builtins.id}\n",
      "        2    0.000    0.000    0.000    0.000 /u/home/k/kzheng/.conda/envs/banns_env/lib/python3.10/site-packages/numpy/lib/shape_base.py:1181(_tile_dispatcher)\n",
      "        2    0.000    0.000    0.000    0.000 /u/home/k/kzheng/.conda/envs/banns_env/lib/python3.10/site-packages/numpy/core/multiarray.py:669(result_type)\n",
      "        2    0.000    0.000    0.000    0.000 /u/home/k/kzheng/.conda/envs/banns_env/lib/python3.10/site-packages/numpy/core/fromnumeric.py:1136(_argmax_dispatcher)\n",
      "        2    0.000    0.000    0.000    0.000 {method 'append' of 'list' objects}\n",
      "        2    0.000    0.000    0.000    0.000 {built-in method _operator.index}\n",
      "        1    0.000    0.000    0.000    0.000 {method 'disable' of '_lsprof.Profiler' objects}\n",
      "\n",
      "\n",
      "\n"
     ]
    }
   ],
   "source": [
    "# runtime\n",
    "s = io.StringIO()\n",
    "sortby = SortKey.CUMULATIVE\n",
    "ps = pstats.Stats(pr, stream=s).sort_stats(sortby)\n",
    "ps.print_stats()\n",
    "print(s.getvalue())"
   ]
  },
  {
   "cell_type": "code",
   "execution_count": 15,
   "metadata": {},
   "outputs": [
    {
     "name": "stdout",
     "output_type": "stream",
     "text": [
      "Total memory consumption (approximated): 272565 bytes\n"
     ]
    }
   ],
   "source": [
    "# Analyze the snapshot to see memory usage\n",
    "top_stats = snapshot.statistics('lineno')\n",
    "total = 0\n",
    "for stat in top_stats:\n",
    "  total += stat.size\n",
    "print(\"Total memory consumption (approximated):\", total, \"bytes\")"
   ]
  },
  {
   "cell_type": "code",
   "execution_count": null,
   "metadata": {
    "colab": {
     "base_uri": "https://localhost:8080/"
    },
    "executionInfo": {
     "elapsed": 52964,
     "status": "ok",
     "timestamp": 1719297278279,
     "user": {
      "displayName": "KEXIN ZHENG",
      "userId": "07736618042047162701"
     },
     "user_tz": 420
    },
    "id": "Jj_p_quDcDrl",
    "outputId": "ddbfa787-d5a7-4d38-b2e0-5a6c7448aeae"
   },
   "outputs": [
    {
     "name": "stdout",
     "output_type": "stream",
     "text": [
      "Welcome to BANNs. Please make sure SNPs in the SNP List you provide are in the same order as in the genotype matrix. Results we return will be in the order of SNP annotations and SNP-set annotations.\n",
      "(1000,)\n",
      "20/20 [==============================] - 18s 905ms/step\n",
      "20/20 [==============================] - 17s 836ms/step\n",
      "(1000,)\n",
      "20/20 [==============================] - 4s 208ms/step\n",
      "20/20 [==============================] - 5s 231ms/step\n"
     ]
    }
   ],
   "source": [
    "# original PIPs\n",
    "SNP_layer, SET_layer = runBANN(X, y, mask, 20, 20)\n",
    "SNPpip_ori = SNP_layer.pip\n",
    "SETpip_ori = SNP_layer.pip"
   ]
  },
  {
   "cell_type": "code",
   "execution_count": null,
   "metadata": {
    "id": "GdXfkCyOtBSe"
   },
   "outputs": [],
   "source": [
    "savePermutation(SETpip_ori, SNPpip_ori, SETpips_perm, SNPpips_perm , add, mult1, mult2)"
   ]
  },
  {
   "cell_type": "markdown",
   "metadata": {
    "id": "3_LEnND3uAxu",
    "jp-MarkdownHeadingCollapsed": true,
    "tags": []
   },
   "source": [
    "## P-values Calculation\n"
   ]
  },
  {
   "cell_type": "code",
   "execution_count": null,
   "metadata": {
    "id": "zkYb7fycuAU1"
   },
   "outputs": [],
   "source": [
    "# find p-value of each SNP\n",
    "def p_values(SNPpip_orig, SNPpip_perm):\n",
    "  perms = np.array(SNPpip_perm)\n",
    "  p_vals = []\n",
    "\n",
    "  for i in range(len(SNPpip_orig)):\n",
    "    p_vals.append(sum(pip > SNPpip_orig[i] for pip in perms[:,i]) / len(SNPpip_perm))\n",
    "\n",
    "  return p_vals\n",
    "\n",
    "# alternative for overall p-value?\n",
    "def p_val(SNPpip_orig, SNPpip_perm):\n",
    "  mean_orig = np.sum(SNPpip_orig) / 1000\n",
    "  means_perm = [np.sum(pip) / 1000 for pip in SNPpip_perm]\n",
    "  p_val = sum(m > mean_orig for m in means_perm) / len(means_perm)\n",
    "\n",
    "  print(\"p-value:\", p_val)\n",
    "\n",
    "# get a list of causal SNPs given p-values and thresholds\n",
    "def get_causal(p_vals, threshold):\n",
    "  indices = []\n",
    "  for i in range(len(p_vals)):\n",
    "    if p_vals[i] <= threshold:\n",
    "      indices.append(i)\n",
    "  return indices"
   ]
  },
  {
   "cell_type": "code",
   "execution_count": null,
   "metadata": {
    "colab": {
     "base_uri": "https://localhost:8080/"
    },
    "executionInfo": {
     "elapsed": 2349,
     "status": "ok",
     "timestamp": 1720425984519,
     "user": {
      "displayName": "KEXIN ZHENG",
      "userId": "07736618042047162701"
     },
     "user_tz": 420
    },
    "id": "5H6OOaj-s9Qk",
    "outputId": "c11b44f8-2cc3-432c-ada3-9aadcb0f4b2f"
   },
   "outputs": [
    {
     "name": "stderr",
     "output_type": "stream",
     "text": [
      "<ipython-input-15-23d5b2855dd0>:25: UserWarning: loadtxt: input contained no data: \"/content/drive/MyDrive/BANNs/BANNs_Test_Data/permutationADD_3.txt\"\n",
      "  add = np.loadtxt(PATH+\"BANNs_Test_Data/permutationADD_\" + str(num) + \".txt\")\n"
     ]
    }
   ],
   "source": [
    "SETpips_orig, SNPpips_orig, SETpips, SNPpips, add, mult1, mult2 = loadPermutation(3)"
   ]
  },
  {
   "cell_type": "code",
   "execution_count": null,
   "metadata": {
    "id": "_9kvOLSDRv5-"
   },
   "outputs": [],
   "source": [
    "p_vals = p_values(SNPpips_orig, SNPpips)\n",
    "causals = get_causal(p_vals, 0.05)"
   ]
  },
  {
   "cell_type": "code",
   "execution_count": null,
   "metadata": {
    "id": "mTP3zzKRB2EU"
   },
   "outputs": [],
   "source": [
    "FP = 0\n",
    "FN = 20\n",
    "for i in range(len(causals)):\n",
    "  if causals[i] in mult1 or causals[i] in mult2:\n",
    "    FN -= 1\n",
    "  else:\n",
    "    FP += 1"
   ]
  },
  {
   "cell_type": "code",
   "execution_count": null,
   "metadata": {
    "colab": {
     "base_uri": "https://localhost:8080/"
    },
    "executionInfo": {
     "elapsed": 213,
     "status": "ok",
     "timestamp": 1720425989569,
     "user": {
      "displayName": "KEXIN ZHENG",
      "userId": "07736618042047162701"
     },
     "user_tz": 420
    },
    "id": "QPNES4jpX73L",
    "outputId": "52cbbd2b-0719-4a3b-9638-e3e65a583be4"
   },
   "outputs": [
    {
     "name": "stdout",
     "output_type": "stream",
     "text": [
      "59 20 59\n"
     ]
    }
   ],
   "source": [
    "print(FP, FN, len(causals))"
   ]
  },
  {
   "cell_type": "markdown",
   "metadata": {},
   "source": [
    "# Mice Data"
   ]
  },
  {
   "cell_type": "markdown",
   "metadata": {},
   "source": [
    "## Load"
   ]
  },
  {
   "cell_type": "code",
   "execution_count": 4,
   "metadata": {},
   "outputs": [],
   "source": [
    "mask=np.loadtxt(TRAIN + \"mask.txt\")\n",
    " \n",
    "def readData(phenotype, arr=True):\n",
    "    Y = pyreadr.read_r(TRAIN + 'Y' + str(phenotype) + '.rds')\n",
    "    X = pyreadr.read_r(TRAIN + 'X' + str(phenotype) + '.rds')\n",
    "    if np:\n",
    "        return (Y[None].to_numpy(), X[None].to_numpy())\n",
    "    return (Y[None], X[None])"
   ]
  },
  {
   "cell_type": "markdown",
   "metadata": {},
   "source": [
    "## Train"
   ]
  },
  {
   "cell_type": "code",
   "execution_count": 7,
   "metadata": {},
   "outputs": [
    {
     "ename": "NameError",
     "evalue": "name 'BANNs' is not defined",
     "output_type": "error",
     "traceback": [
      "\u001b[0;31m---------------------------------------------------------------------------\u001b[0m",
      "\u001b[0;31mNameError\u001b[0m                                 Traceback (most recent call last)",
      "Cell \u001b[0;32mIn[7], line 2\u001b[0m\n\u001b[1;32m      1\u001b[0m X, y \u001b[38;5;241m=\u001b[39m readData(\u001b[38;5;241m1\u001b[39m)\n\u001b[0;32m----> 2\u001b[0m SNP, SET \u001b[38;5;241m=\u001b[39m \u001b[43mrunBANN\u001b[49m\u001b[43m(\u001b[49m\u001b[43mX\u001b[49m\u001b[43m,\u001b[49m\u001b[43m \u001b[49m\u001b[43my\u001b[49m\u001b[43m,\u001b[49m\u001b[43m \u001b[49m\u001b[43mmask\u001b[49m\u001b[43m,\u001b[49m\u001b[43m \u001b[49m\u001b[38;5;241;43m1\u001b[39;49m\u001b[43m,\u001b[49m\u001b[43m \u001b[49m\u001b[38;5;241;43m1\u001b[39;49m\u001b[43m)\u001b[49m\n",
      "File \u001b[0;32m~/permutation-test-acceleration/BANNs/./_Source/data_generator.py:156\u001b[0m, in \u001b[0;36mrunBANN\u001b[0;34m(X, y, mask, nModelsSNP, nModelsSET)\u001b[0m\n\u001b[1;32m    155\u001b[0m \u001b[38;5;28;01mdef\u001b[39;00m \u001b[38;5;21mrunBANN\u001b[39m(X, y, mask, nModelsSNP, nModelsSET):\n\u001b[0;32m--> 156\u001b[0m   bann\u001b[38;5;241m=\u001b[39m\u001b[43mBANNs\u001b[49m(X,y, mask, nModelsSNP\u001b[38;5;241m=\u001b[39mnModelsSNP, nModelsSET\u001b[38;5;241m=\u001b[39mnModelsSET)\n\u001b[1;32m    157\u001b[0m   [SNP_layer, SET_layer]\u001b[38;5;241m=\u001b[39mbann\u001b[38;5;241m.\u001b[39mrun()\n\u001b[1;32m    159\u001b[0m   \u001b[38;5;28;01mreturn\u001b[39;00m SNP_layer, SET_layer\n",
      "\u001b[0;31mNameError\u001b[0m: name 'BANNs' is not defined"
     ]
    }
   ],
   "source": [
    "X, y = readData(1)\n",
    "SNP, SET = runBANN(X, y, mask, 1, 1)"
   ]
  },
  {
   "cell_type": "code",
   "execution_count": null,
   "metadata": {},
   "outputs": [],
   "source": []
  }
 ],
 "metadata": {
  "colab": {
   "authorship_tag": "ABX9TyP+J8NnmkHvLQIGM0kZOT+k",
   "collapsed_sections": [
    "R87DzOS5qYVT",
    "TLrKmO7sxYlt"
   ],
   "provenance": []
  },
  "kernelspec": {
   "display_name": "banns_env",
   "language": "python",
   "name": "banns_env"
  },
  "language_info": {
   "codemirror_mode": {
    "name": "ipython",
    "version": 3
   },
   "file_extension": ".py",
   "mimetype": "text/x-python",
   "name": "python",
   "nbconvert_exporter": "python",
   "pygments_lexer": "ipython3",
   "version": "3.10.12"
  }
 },
 "nbformat": 4,
 "nbformat_minor": 4
}
